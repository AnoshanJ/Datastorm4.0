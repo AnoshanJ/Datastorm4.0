{
 "cells": [
  {
   "attachments": {},
   "cell_type": "markdown",
   "metadata": {},
   "source": [
    "# Preliminaries"
   ]
  },
  {
   "cell_type": "code",
   "execution_count": 2,
   "metadata": {},
   "outputs": [],
   "source": [
    "import numpy as np\n",
    "import pandas as pd\n",
    "import seaborn as sns\n",
    "import matplotlib.pyplot as plt\n",
    "import warnings"
   ]
  },
  {
   "cell_type": "code",
   "execution_count": 3,
   "metadata": {},
   "outputs": [],
   "source": [
    "# Set Matplotlib defaults\n",
    "plt.style.use(\"seaborn-whitegrid\")\n",
    "plt.rc(\"figure\", autolayout=True)\n",
    "plt.rc(\n",
    "    \"axes\",\n",
    "    labelweight=\"bold\",\n",
    "    labelsize=\"large\",\n",
    "    titleweight=\"bold\",\n",
    "    titlesize=14,\n",
    "    titlepad=10,\n",
    ")\n",
    "\n",
    "warnings.filterwarnings('ignore')"
   ]
  },
  {
   "attachments": {},
   "cell_type": "markdown",
   "metadata": {},
   "source": [
    "Import the data"
   ]
  },
  {
   "cell_type": "code",
   "execution_count": 4,
   "metadata": {},
   "outputs": [],
   "source": [
    "path = \"../Datasets/\"\n",
    "Train = pd.read_csv(path + '/Historical-transaction-data.csv')\n",
    "StoreInfo = pd.read_csv(path + '/Store-info.csv')\n",
    "Submission_testing = pd.read_csv(path + '/Testing-data.csv')"
   ]
  },
  {
   "attachments": {},
   "cell_type": "markdown",
   "metadata": {},
   "source": [
    "Join both datasets to form a train dataset"
   ]
  },
  {
   "cell_type": "code",
   "execution_count": 5,
   "metadata": {},
   "outputs": [],
   "source": [
    "Train = Train.merge(StoreInfo, on='shop_id', how='left')"
   ]
  },
  {
   "cell_type": "code",
   "execution_count": 6,
   "metadata": {},
   "outputs": [],
   "source": [
    "Submission_testing.drop(\"shop_profile\", axis=1, inplace=True)\n",
    "# Submission_testing = Submission_testing.merge(StoreInfo, on='shop_id', how='left')\n",
    "# Submission_testing.drop(\"shop_profile\", axis=1, inplace=True)\n",
    "Submission_testing = Submission_testing.merge(Train, on='shop_id', how='left')"
   ]
  },
  {
   "cell_type": "code",
   "execution_count": 7,
   "metadata": {},
   "outputs": [],
   "source": [
    "Submission_testing.drop(\"shop_profile\", axis=1, inplace=True)"
   ]
  },
  {
   "cell_type": "code",
   "execution_count": 8,
   "metadata": {},
   "outputs": [
    {
     "data": {
      "text/html": [
       "<div>\n",
       "<style scoped>\n",
       "    .dataframe tbody tr th:only-of-type {\n",
       "        vertical-align: middle;\n",
       "    }\n",
       "\n",
       "    .dataframe tbody tr th {\n",
       "        vertical-align: top;\n",
       "    }\n",
       "\n",
       "    .dataframe thead th {\n",
       "        text-align: right;\n",
       "    }\n",
       "</style>\n",
       "<table border=\"1\" class=\"dataframe\">\n",
       "  <thead>\n",
       "    <tr style=\"text-align: right;\">\n",
       "      <th></th>\n",
       "      <th>item_description</th>\n",
       "      <th>transaction_date</th>\n",
       "      <th>invoice_id</th>\n",
       "      <th>customer_id</th>\n",
       "      <th>shop_id</th>\n",
       "      <th>item_price</th>\n",
       "      <th>quantity_sold</th>\n",
       "      <th>shop_area_sq_ft</th>\n",
       "      <th>shop_profile</th>\n",
       "    </tr>\n",
       "  </thead>\n",
       "  <tbody>\n",
       "    <tr>\n",
       "      <th>0</th>\n",
       "      <td>ORANGE BARLEY 1.5L</td>\n",
       "      <td>2021-12-11T00:00:00.000Z</td>\n",
       "      <td>147.0</td>\n",
       "      <td>BGXA</td>\n",
       "      <td>SHOP008</td>\n",
       "      <td>220</td>\n",
       "      <td>2</td>\n",
       "      <td>678</td>\n",
       "      <td>Moderate</td>\n",
       "    </tr>\n",
       "    <tr>\n",
       "      <th>1</th>\n",
       "      <td>GINGER BEER 1.5L</td>\n",
       "      <td>2021-10-17T00:00:00.000Z</td>\n",
       "      <td>371.0</td>\n",
       "      <td>IA25</td>\n",
       "      <td>SHOP112</td>\n",
       "      <td>220</td>\n",
       "      <td>2</td>\n",
       "      <td>668</td>\n",
       "      <td>Moderate</td>\n",
       "    </tr>\n",
       "    <tr>\n",
       "      <th>2</th>\n",
       "      <td>TONIC PET 500ML</td>\n",
       "      <td>2021-12-13T00:00:00.000Z</td>\n",
       "      <td>484.0</td>\n",
       "      <td>VN7V</td>\n",
       "      <td>SHOP008</td>\n",
       "      <td>160</td>\n",
       "      <td>2</td>\n",
       "      <td>678</td>\n",
       "      <td>Moderate</td>\n",
       "    </tr>\n",
       "    <tr>\n",
       "      <th>3</th>\n",
       "      <td>CREAM SODA 1L</td>\n",
       "      <td>2021-12-13T00:00:00.000Z</td>\n",
       "      <td>484.0</td>\n",
       "      <td>VN7V</td>\n",
       "      <td>SHOP008</td>\n",
       "      <td>150</td>\n",
       "      <td>2</td>\n",
       "      <td>678</td>\n",
       "      <td>Moderate</td>\n",
       "    </tr>\n",
       "    <tr>\n",
       "      <th>4</th>\n",
       "      <td>STRAWBERRY MILK 180ML</td>\n",
       "      <td>2021-10-23T00:00:00.000Z</td>\n",
       "      <td>1310.0</td>\n",
       "      <td>7S00</td>\n",
       "      <td>SHOP112</td>\n",
       "      <td>210</td>\n",
       "      <td>5</td>\n",
       "      <td>668</td>\n",
       "      <td>Moderate</td>\n",
       "    </tr>\n",
       "  </tbody>\n",
       "</table>\n",
       "</div>"
      ],
      "text/plain": [
       "        item_description          transaction_date  invoice_id customer_id  \\\n",
       "0     ORANGE BARLEY 1.5L  2021-12-11T00:00:00.000Z       147.0        BGXA   \n",
       "1       GINGER BEER 1.5L  2021-10-17T00:00:00.000Z       371.0        IA25   \n",
       "2        TONIC PET 500ML  2021-12-13T00:00:00.000Z       484.0        VN7V   \n",
       "3          CREAM SODA 1L  2021-12-13T00:00:00.000Z       484.0        VN7V   \n",
       "4  STRAWBERRY MILK 180ML  2021-10-23T00:00:00.000Z      1310.0        7S00   \n",
       "\n",
       "   shop_id  item_price  quantity_sold  shop_area_sq_ft shop_profile  \n",
       "0  SHOP008         220              2              678     Moderate  \n",
       "1  SHOP112         220              2              668     Moderate  \n",
       "2  SHOP008         160              2              678     Moderate  \n",
       "3  SHOP008         150              2              678     Moderate  \n",
       "4  SHOP112         210              5              668     Moderate  "
      ]
     },
     "execution_count": 8,
     "metadata": {},
     "output_type": "execute_result"
    }
   ],
   "source": [
    "Train.head()"
   ]
  },
  {
   "cell_type": "code",
   "execution_count": 9,
   "metadata": {},
   "outputs": [
    {
     "data": {
      "text/html": [
       "<div>\n",
       "<style scoped>\n",
       "    .dataframe tbody tr th:only-of-type {\n",
       "        vertical-align: middle;\n",
       "    }\n",
       "\n",
       "    .dataframe tbody tr th {\n",
       "        vertical-align: top;\n",
       "    }\n",
       "\n",
       "    .dataframe thead th {\n",
       "        text-align: right;\n",
       "    }\n",
       "</style>\n",
       "<table border=\"1\" class=\"dataframe\">\n",
       "  <thead>\n",
       "    <tr style=\"text-align: right;\">\n",
       "      <th></th>\n",
       "      <th>shop_id</th>\n",
       "      <th>item_description</th>\n",
       "      <th>transaction_date</th>\n",
       "      <th>invoice_id</th>\n",
       "      <th>customer_id</th>\n",
       "      <th>item_price</th>\n",
       "      <th>quantity_sold</th>\n",
       "      <th>shop_area_sq_ft</th>\n",
       "    </tr>\n",
       "  </thead>\n",
       "  <tbody>\n",
       "    <tr>\n",
       "      <th>0</th>\n",
       "      <td>SHOP046</td>\n",
       "      <td>FIT O MIXED FRUIT 1L</td>\n",
       "      <td>2021-10-15T00:00:00.000Z</td>\n",
       "      <td>154826.0</td>\n",
       "      <td>H6RV</td>\n",
       "      <td>270</td>\n",
       "      <td>1</td>\n",
       "      <td>545</td>\n",
       "    </tr>\n",
       "    <tr>\n",
       "      <th>1</th>\n",
       "      <td>SHOP046</td>\n",
       "      <td>FIT O ORANGE 1L</td>\n",
       "      <td>2021-10-27T00:00:00.000Z</td>\n",
       "      <td>157798.0</td>\n",
       "      <td>Z1SZ</td>\n",
       "      <td>290</td>\n",
       "      <td>1</td>\n",
       "      <td>545</td>\n",
       "    </tr>\n",
       "    <tr>\n",
       "      <th>2</th>\n",
       "      <td>SHOP046</td>\n",
       "      <td>LEMONADE 1.5L</td>\n",
       "      <td>2021-10-28T00:00:00.000Z</td>\n",
       "      <td>157881.0</td>\n",
       "      <td>HFM8</td>\n",
       "      <td>220</td>\n",
       "      <td>2</td>\n",
       "      <td>545</td>\n",
       "    </tr>\n",
       "    <tr>\n",
       "      <th>3</th>\n",
       "      <td>SHOP046</td>\n",
       "      <td>FIT O MANGO 200ML</td>\n",
       "      <td>2021-11-03T00:00:00.000Z</td>\n",
       "      <td>159352.0</td>\n",
       "      <td>RFTZ</td>\n",
       "      <td>180</td>\n",
       "      <td>4</td>\n",
       "      <td>545</td>\n",
       "    </tr>\n",
       "    <tr>\n",
       "      <th>4</th>\n",
       "      <td>SHOP046</td>\n",
       "      <td>FIT O MIXED FRUIT 200ML</td>\n",
       "      <td>2021-11-03T00:00:00.000Z</td>\n",
       "      <td>159352.0</td>\n",
       "      <td>RFTZ</td>\n",
       "      <td>60</td>\n",
       "      <td>1</td>\n",
       "      <td>545</td>\n",
       "    </tr>\n",
       "  </tbody>\n",
       "</table>\n",
       "</div>"
      ],
      "text/plain": [
       "   shop_id         item_description          transaction_date  invoice_id  \\\n",
       "0  SHOP046     FIT O MIXED FRUIT 1L  2021-10-15T00:00:00.000Z    154826.0   \n",
       "1  SHOP046          FIT O ORANGE 1L  2021-10-27T00:00:00.000Z    157798.0   \n",
       "2  SHOP046            LEMONADE 1.5L  2021-10-28T00:00:00.000Z    157881.0   \n",
       "3  SHOP046        FIT O MANGO 200ML  2021-11-03T00:00:00.000Z    159352.0   \n",
       "4  SHOP046  FIT O MIXED FRUIT 200ML  2021-11-03T00:00:00.000Z    159352.0   \n",
       "\n",
       "  customer_id  item_price  quantity_sold  shop_area_sq_ft  \n",
       "0        H6RV         270              1              545  \n",
       "1        Z1SZ         290              1              545  \n",
       "2        HFM8         220              2              545  \n",
       "3        RFTZ         180              4              545  \n",
       "4        RFTZ          60              1              545  "
      ]
     },
     "execution_count": 9,
     "metadata": {},
     "output_type": "execute_result"
    }
   ],
   "source": [
    "Submission_testing.head()"
   ]
  },
  {
   "cell_type": "code",
   "execution_count": 10,
   "metadata": {},
   "outputs": [
    {
     "name": "stdout",
     "output_type": "stream",
     "text": [
      "New length:  473974\n"
     ]
    }
   ],
   "source": [
    "print(\"New length: \", Train.shape[0])"
   ]
  },
  {
   "attachments": {},
   "cell_type": "markdown",
   "metadata": {},
   "source": [
    "Remove Duplicates"
   ]
  },
  {
   "cell_type": "code",
   "execution_count": 11,
   "metadata": {},
   "outputs": [],
   "source": [
    "i_length = Train.shape[0]"
   ]
  },
  {
   "cell_type": "code",
   "execution_count": 12,
   "metadata": {},
   "outputs": [],
   "source": [
    "Train.drop_duplicates(inplace=True)"
   ]
  },
  {
   "cell_type": "code",
   "execution_count": 13,
   "metadata": {},
   "outputs": [
    {
     "name": "stdout",
     "output_type": "stream",
     "text": [
      "Duplicates dropped from Train:  31211\n",
      "New length:  442763\n"
     ]
    }
   ],
   "source": [
    "\n",
    "print(\"Duplicates dropped from Train: \", i_length - Train.shape[0] )\n",
    "print(\"New length: \", Train.shape[0])"
   ]
  },
  {
   "attachments": {},
   "cell_type": "markdown",
   "metadata": {},
   "source": [
    "# Analysis"
   ]
  },
  {
   "attachments": {},
   "cell_type": "markdown",
   "metadata": {},
   "source": [
    "Missing data"
   ]
  },
  {
   "cell_type": "code",
   "execution_count": 14,
   "metadata": {},
   "outputs": [
    {
     "data": {
      "text/plain": [
       "<AxesSubplot:>"
      ]
     },
     "execution_count": 14,
     "metadata": {},
     "output_type": "execute_result"
    },
    {
     "data": {
      "image/png": "[encoded data removed]",
      "text/plain": [
       "<Figure size 1000x800 with 2 Axes>"
      ]
     },
     "metadata": {},
     "output_type": "display_data"
    }
   ],
   "source": [
    "plt.figure(figsize=(10,8))\n",
    "cols = Train.columns\n",
    "colours = ['#000099', '#ffff00'] # specify colours: yellow - missing. blue - not missing\n",
    "sns.heatmap(Train[cols].isna(), cmap=sns.color_palette(colours))"
   ]
  },
  {
   "cell_type": "code",
   "execution_count": 15,
   "metadata": {},
   "outputs": [
    {
     "data": {
      "text/plain": [
       "<AxesSubplot:>"
      ]
     },
     "execution_count": 15,
     "metadata": {},
     "output_type": "execute_result"
    },
    {
     "data": {
      "image/png": "[encoded data removed]",
      "text/plain": [
       "<Figure size 640x480 with 1 Axes>"
      ]
     },
     "metadata": {},
     "output_type": "display_data"
    }
   ],
   "source": [
    "# No. of columns missing for the rows\n",
    "missing_by_row = Train.isna().sum(axis=\"columns\")\n",
    "missing_by_row.hist(bins=100)"
   ]
  },
  {
   "cell_type": "code",
   "execution_count": 16,
   "metadata": {},
   "outputs": [
    {
     "data": {
      "text/plain": [
       "item_description    0.079198\n",
       "transaction_date    0.000000\n",
       "invoice_id          0.013030\n",
       "customer_id         0.000000\n",
       "shop_id             0.000000\n",
       "item_price          0.000000\n",
       "quantity_sold       0.000000\n",
       "shop_area_sq_ft     0.000000\n",
       "shop_profile        0.183565\n",
       "dtype: float64"
      ]
     },
     "execution_count": 16,
     "metadata": {},
     "output_type": "execute_result"
    }
   ],
   "source": [
    "pct_missing = Train.isna().mean()\n",
    "pct_missing[:15]"
   ]
  },
  {
   "cell_type": "code",
   "execution_count": 17,
   "metadata": {},
   "outputs": [],
   "source": [
    "#Remove rows with null values for item_description or shop_profile\n",
    "Train = Train.dropna(subset=['item_description', 'shop_profile'], axis=0)"
   ]
  },
  {
   "cell_type": "code",
   "execution_count": 18,
   "metadata": {},
   "outputs": [
    {
     "name": "stdout",
     "output_type": "stream",
     "text": [
      "<class 'pandas.core.frame.DataFrame'>\n",
      "Int64Index: 332581 entries, 0 to 473973\n",
      "Data columns (total 9 columns):\n",
      " #   Column            Non-Null Count   Dtype  \n",
      "---  ------            --------------   -----  \n",
      " 0   item_description  332581 non-null  object \n",
      " 1   transaction_date  332581 non-null  object \n",
      " 2   invoice_id        327971 non-null  float64\n",
      " 3   customer_id       332581 non-null  object \n",
      " 4   shop_id           332581 non-null  object \n",
      " 5   item_price        332581 non-null  int64  \n",
      " 6   quantity_sold     332581 non-null  int64  \n",
      " 7   shop_area_sq_ft   332581 non-null  int64  \n",
      " 8   shop_profile      332581 non-null  object \n",
      "dtypes: float64(1), int64(3), object(5)\n",
      "memory usage: 25.4+ MB\n"
     ]
    }
   ],
   "source": [
    "Train.info()"
   ]
  },
  {
   "cell_type": "code",
   "execution_count": 19,
   "metadata": {},
   "outputs": [
    {
     "name": "stdout",
     "output_type": "stream",
     "text": [
      "New length:  332581\n"
     ]
    }
   ],
   "source": [
    "print(\"New length: \", Train.shape[0])"
   ]
  },
  {
   "attachments": {},
   "cell_type": "markdown",
   "metadata": {},
   "source": [
    "Fill Missing Values"
   ]
  },
  {
   "cell_type": "code",
   "execution_count": 20,
   "metadata": {},
   "outputs": [
    {
     "name": "stdout",
     "output_type": "stream",
     "text": [
      "<class 'pandas.core.frame.DataFrame'>\n",
      "Int64Index: 332581 entries, 0 to 473973\n",
      "Data columns (total 9 columns):\n",
      " #   Column            Non-Null Count   Dtype  \n",
      "---  ------            --------------   -----  \n",
      " 0   item_description  332581 non-null  object \n",
      " 1   transaction_date  332581 non-null  object \n",
      " 2   invoice_id        327971 non-null  float64\n",
      " 3   customer_id       332581 non-null  object \n",
      " 4   shop_id           332581 non-null  object \n",
      " 5   item_price        332581 non-null  int64  \n",
      " 6   quantity_sold     332581 non-null  int64  \n",
      " 7   shop_area_sq_ft   332581 non-null  int64  \n",
      " 8   shop_profile      332581 non-null  object \n",
      "dtypes: float64(1), int64(3), object(5)\n",
      "memory usage: 25.4+ MB\n"
     ]
    }
   ],
   "source": [
    "Train.info()"
   ]
  },
  {
   "attachments": {},
   "cell_type": "markdown",
   "metadata": {},
   "source": [
    "Encoding"
   ]
  },
  {
   "cell_type": "code",
   "execution_count": 21,
   "metadata": {},
   "outputs": [],
   "source": [
    "# Set the data types of each feature\n",
    "\n",
    "# The nominative (unordered) categorical features\n",
    "features_nom = [\"item_description\", \"customer_id\", \"shop_id\", \"shop_profile\"]\n",
    "\n",
    "for feature in features_nom:\n",
    "    Train[feature] = Train[feature].astype(\"category\")\n",
    "    if feature == \"shop_profile\":\n",
    "        continue\n",
    "    Submission_testing[feature] = Submission_testing[feature].astype(\"category\")\n",
    "\n",
    "Train[\"transaction_date\"] = pd.to_datetime(Train[\"transaction_date\"])"
   ]
  },
  {
   "cell_type": "code",
   "execution_count": 22,
   "metadata": {},
   "outputs": [],
   "source": [
    "Train_y = Train[\"shop_profile\"]\n",
    "Train.drop(\"shop_profile\", axis=1, inplace=True)"
   ]
  },
  {
   "cell_type": "code",
   "execution_count": 23,
   "metadata": {},
   "outputs": [
    {
     "name": "stdout",
     "output_type": "stream",
     "text": [
      "<class 'pandas.core.frame.DataFrame'>\n",
      "Int64Index: 332581 entries, 0 to 473973\n",
      "Data columns (total 8 columns):\n",
      " #   Column            Non-Null Count   Dtype              \n",
      "---  ------            --------------   -----              \n",
      " 0   item_description  332581 non-null  category           \n",
      " 1   transaction_date  332581 non-null  datetime64[ns, UTC]\n",
      " 2   invoice_id        327971 non-null  float64            \n",
      " 3   customer_id       332581 non-null  category           \n",
      " 4   shop_id           332581 non-null  category           \n",
      " 5   item_price        332581 non-null  int64              \n",
      " 6   quantity_sold     332581 non-null  int64              \n",
      " 7   shop_area_sq_ft   332581 non-null  int64              \n",
      "dtypes: category(3), datetime64[ns, UTC](1), float64(1), int64(3)\n",
      "memory usage: 22.3 MB\n"
     ]
    }
   ],
   "source": [
    "Train.info()"
   ]
  },
  {
   "cell_type": "code",
   "execution_count": 24,
   "metadata": {},
   "outputs": [],
   "source": [
    "Train.drop([\"invoice_id\", \"customer_id\"], axis=1, inplace=True)\n",
    "Submission_testing.drop([\"invoice_id\", \"customer_id\"], axis=1, inplace=True)"
   ]
  },
  {
   "cell_type": "code",
   "execution_count": 25,
   "metadata": {},
   "outputs": [
    {
     "data": {
      "image/png": "[encoded data removed]",
      "text/plain": [
       "<Figure size 640x480 with 2 Axes>"
      ]
     },
     "metadata": {},
     "output_type": "display_data"
    }
   ],
   "source": [
    "# creating mask\n",
    "mask = np.triu(np.ones_like(Train.corr()))\n",
    " \n",
    "# plotting a triangle correlation heatmap\n",
    "dataplot = sns.heatmap(Train.corr(), cmap=\"YlGnBu\", annot=True, mask=mask)\n",
    " \n",
    "# displaying heatmap\n",
    "plt.show()"
   ]
  },
  {
   "cell_type": "code",
   "execution_count": 26,
   "metadata": {},
   "outputs": [
    {
     "data": {
      "text/plain": [
       "item_price         382.227475\n",
       "quantity_sold      420.507197\n",
       "shop_area_sq_ft      2.908254\n",
       "dtype: float64"
      ]
     },
     "execution_count": 26,
     "metadata": {},
     "output_type": "execute_result"
    }
   ],
   "source": [
    "# Check for outliers\n",
    "\n",
    "Train.kurt(numeric_only=True)"
   ]
  },
  {
   "cell_type": "code",
   "execution_count": 27,
   "metadata": {},
   "outputs": [
    {
     "data": {
      "text/plain": [
       "count    332581.000000\n",
       "mean          1.874626\n",
       "std           1.539118\n",
       "min          -1.000000\n",
       "25%           1.000000\n",
       "50%           2.000000\n",
       "75%           2.000000\n",
       "max         101.000000\n",
       "Name: quantity_sold, dtype: float64"
      ]
     },
     "execution_count": 27,
     "metadata": {},
     "output_type": "execute_result"
    }
   ],
   "source": [
    "Train[\"quantity_sold\"].describe()"
   ]
  },
  {
   "cell_type": "code",
   "execution_count": 28,
   "metadata": {},
   "outputs": [],
   "source": [
    "# TODO : further investigate the outliers"
   ]
  },
  {
   "cell_type": "code",
   "execution_count": 29,
   "metadata": {},
   "outputs": [
    {
     "data": {
      "text/plain": [
       "count    332581.000000\n",
       "mean        214.825306\n",
       "std         167.916289\n",
       "min          35.000000\n",
       "25%         110.000000\n",
       "50%         220.000000\n",
       "75%         220.000000\n",
       "max       17400.000000\n",
       "Name: item_price, dtype: float64"
      ]
     },
     "execution_count": 29,
     "metadata": {},
     "output_type": "execute_result"
    }
   ],
   "source": [
    "Train[\"item_price\"].describe()"
   ]
  },
  {
   "cell_type": "code",
   "execution_count": 30,
   "metadata": {},
   "outputs": [
    {
     "data": {
      "text/html": [
       "<div>\n",
       "<style scoped>\n",
       "    .dataframe tbody tr th:only-of-type {\n",
       "        vertical-align: middle;\n",
       "    }\n",
       "\n",
       "    .dataframe tbody tr th {\n",
       "        vertical-align: top;\n",
       "    }\n",
       "\n",
       "    .dataframe thead th {\n",
       "        text-align: right;\n",
       "    }\n",
       "</style>\n",
       "<table border=\"1\" class=\"dataframe\">\n",
       "  <thead>\n",
       "    <tr style=\"text-align: right;\">\n",
       "      <th></th>\n",
       "      <th>item_description</th>\n",
       "      <th>shop_id</th>\n",
       "      <th>item_price</th>\n",
       "      <th>quantity_sold</th>\n",
       "      <th>shop_area_sq_ft</th>\n",
       "      <th>year</th>\n",
       "      <th>month</th>\n",
       "      <th>weekday</th>\n",
       "    </tr>\n",
       "  </thead>\n",
       "  <tbody>\n",
       "    <tr>\n",
       "      <th>0</th>\n",
       "      <td>ORANGE BARLEY 1.5L</td>\n",
       "      <td>SHOP008</td>\n",
       "      <td>220</td>\n",
       "      <td>2</td>\n",
       "      <td>678</td>\n",
       "      <td>2021</td>\n",
       "      <td>12</td>\n",
       "      <td>5</td>\n",
       "    </tr>\n",
       "    <tr>\n",
       "      <th>1</th>\n",
       "      <td>GINGER BEER 1.5L</td>\n",
       "      <td>SHOP112</td>\n",
       "      <td>220</td>\n",
       "      <td>2</td>\n",
       "      <td>668</td>\n",
       "      <td>2021</td>\n",
       "      <td>10</td>\n",
       "      <td>6</td>\n",
       "    </tr>\n",
       "    <tr>\n",
       "      <th>2</th>\n",
       "      <td>TONIC PET 500ML</td>\n",
       "      <td>SHOP008</td>\n",
       "      <td>160</td>\n",
       "      <td>2</td>\n",
       "      <td>678</td>\n",
       "      <td>2021</td>\n",
       "      <td>12</td>\n",
       "      <td>0</td>\n",
       "    </tr>\n",
       "    <tr>\n",
       "      <th>3</th>\n",
       "      <td>CREAM SODA 1L</td>\n",
       "      <td>SHOP008</td>\n",
       "      <td>150</td>\n",
       "      <td>2</td>\n",
       "      <td>678</td>\n",
       "      <td>2021</td>\n",
       "      <td>12</td>\n",
       "      <td>0</td>\n",
       "    </tr>\n",
       "    <tr>\n",
       "      <th>4</th>\n",
       "      <td>STRAWBERRY MILK 180ML</td>\n",
       "      <td>SHOP112</td>\n",
       "      <td>210</td>\n",
       "      <td>5</td>\n",
       "      <td>668</td>\n",
       "      <td>2021</td>\n",
       "      <td>10</td>\n",
       "      <td>5</td>\n",
       "    </tr>\n",
       "  </tbody>\n",
       "</table>\n",
       "</div>"
      ],
      "text/plain": [
       "        item_description  shop_id  item_price  quantity_sold  shop_area_sq_ft  \\\n",
       "0     ORANGE BARLEY 1.5L  SHOP008         220              2              678   \n",
       "1       GINGER BEER 1.5L  SHOP112         220              2              668   \n",
       "2        TONIC PET 500ML  SHOP008         160              2              678   \n",
       "3          CREAM SODA 1L  SHOP008         150              2              678   \n",
       "4  STRAWBERRY MILK 180ML  SHOP112         210              5              668   \n",
       "\n",
       "   year  month  weekday  \n",
       "0  2021     12        5  \n",
       "1  2021     10        6  \n",
       "2  2021     12        0  \n",
       "3  2021     12        0  \n",
       "4  2021     10        5  "
      ]
     },
     "execution_count": 30,
     "metadata": {},
     "output_type": "execute_result"
    }
   ],
   "source": [
    "Train['timestamp_dt'] = pd.to_datetime(Train['transaction_date'], format='%Y-%m-%d')\n",
    "Train['year'] = Train['timestamp_dt'].dt.year\n",
    "Train['month'] = Train['timestamp_dt'].dt.month\n",
    "Train['weekday'] = Train['timestamp_dt'].dt.weekday\n",
    "\n",
    "Train.drop(['timestamp_dt', 'transaction_date'], axis=1, inplace=True)\n",
    "\n",
    "Train.head()"
   ]
  },
  {
   "cell_type": "code",
   "execution_count": 31,
   "metadata": {},
   "outputs": [
    {
     "data": {
      "text/html": [
       "<div>\n",
       "<style scoped>\n",
       "    .dataframe tbody tr th:only-of-type {\n",
       "        vertical-align: middle;\n",
       "    }\n",
       "\n",
       "    .dataframe tbody tr th {\n",
       "        vertical-align: top;\n",
       "    }\n",
       "\n",
       "    .dataframe thead th {\n",
       "        text-align: right;\n",
       "    }\n",
       "</style>\n",
       "<table border=\"1\" class=\"dataframe\">\n",
       "  <thead>\n",
       "    <tr style=\"text-align: right;\">\n",
       "      <th></th>\n",
       "      <th>shop_id</th>\n",
       "      <th>item_description</th>\n",
       "      <th>item_price</th>\n",
       "      <th>quantity_sold</th>\n",
       "      <th>shop_area_sq_ft</th>\n",
       "      <th>year</th>\n",
       "      <th>month</th>\n",
       "      <th>weekday</th>\n",
       "    </tr>\n",
       "  </thead>\n",
       "  <tbody>\n",
       "    <tr>\n",
       "      <th>0</th>\n",
       "      <td>SHOP046</td>\n",
       "      <td>FIT O MIXED FRUIT 1L</td>\n",
       "      <td>270</td>\n",
       "      <td>1</td>\n",
       "      <td>545</td>\n",
       "      <td>2021</td>\n",
       "      <td>10</td>\n",
       "      <td>4</td>\n",
       "    </tr>\n",
       "    <tr>\n",
       "      <th>1</th>\n",
       "      <td>SHOP046</td>\n",
       "      <td>FIT O ORANGE 1L</td>\n",
       "      <td>290</td>\n",
       "      <td>1</td>\n",
       "      <td>545</td>\n",
       "      <td>2021</td>\n",
       "      <td>10</td>\n",
       "      <td>2</td>\n",
       "    </tr>\n",
       "    <tr>\n",
       "      <th>2</th>\n",
       "      <td>SHOP046</td>\n",
       "      <td>LEMONADE 1.5L</td>\n",
       "      <td>220</td>\n",
       "      <td>2</td>\n",
       "      <td>545</td>\n",
       "      <td>2021</td>\n",
       "      <td>10</td>\n",
       "      <td>3</td>\n",
       "    </tr>\n",
       "    <tr>\n",
       "      <th>3</th>\n",
       "      <td>SHOP046</td>\n",
       "      <td>FIT O MANGO 200ML</td>\n",
       "      <td>180</td>\n",
       "      <td>4</td>\n",
       "      <td>545</td>\n",
       "      <td>2021</td>\n",
       "      <td>11</td>\n",
       "      <td>2</td>\n",
       "    </tr>\n",
       "    <tr>\n",
       "      <th>4</th>\n",
       "      <td>SHOP046</td>\n",
       "      <td>FIT O MIXED FRUIT 200ML</td>\n",
       "      <td>60</td>\n",
       "      <td>1</td>\n",
       "      <td>545</td>\n",
       "      <td>2021</td>\n",
       "      <td>11</td>\n",
       "      <td>2</td>\n",
       "    </tr>\n",
       "  </tbody>\n",
       "</table>\n",
       "</div>"
      ],
      "text/plain": [
       "   shop_id         item_description  item_price  quantity_sold  \\\n",
       "0  SHOP046     FIT O MIXED FRUIT 1L         270              1   \n",
       "1  SHOP046          FIT O ORANGE 1L         290              1   \n",
       "2  SHOP046            LEMONADE 1.5L         220              2   \n",
       "3  SHOP046        FIT O MANGO 200ML         180              4   \n",
       "4  SHOP046  FIT O MIXED FRUIT 200ML          60              1   \n",
       "\n",
       "   shop_area_sq_ft  year  month  weekday  \n",
       "0              545  2021     10        4  \n",
       "1              545  2021     10        2  \n",
       "2              545  2021     10        3  \n",
       "3              545  2021     11        2  \n",
       "4              545  2021     11        2  "
      ]
     },
     "execution_count": 31,
     "metadata": {},
     "output_type": "execute_result"
    }
   ],
   "source": [
    "Submission_testing['timestamp_dt'] = pd.to_datetime(Submission_testing['transaction_date'], format='%Y-%m-%d')\n",
    "Submission_testing['year'] = Submission_testing['timestamp_dt'].dt.year\n",
    "Submission_testing['month'] = Submission_testing['timestamp_dt'].dt.month\n",
    "Submission_testing['weekday'] = Submission_testing['timestamp_dt'].dt.weekday\n",
    "\n",
    "Submission_testing.drop(['timestamp_dt', 'transaction_date'], axis=1, inplace=True)\n",
    "\n",
    "Submission_testing.head()"
   ]
  },
  {
   "cell_type": "code",
   "execution_count": 32,
   "metadata": {},
   "outputs": [],
   "source": [
    "from sklearn.preprocessing import LabelEncoder\n",
    "le = LabelEncoder()\n",
    "Train_y = le.fit_transform(Train_y)"
   ]
  },
  {
   "cell_type": "code",
   "execution_count": 33,
   "metadata": {},
   "outputs": [],
   "source": [
    "# remove the substring \"SHOP\" from the shop_id column and convert it to int\n",
    "Train[\"shop_id\"] = Train[\"shop_id\"].str.replace(\"SHOP\", \"\").astype(int)\n",
    "# Train[\"shop_id\"] = Train[\"shop_id\"].str.replace(\"SHOP\", \"\")\n",
    "# Train[\"shop_id\"] = Train[\"shop_id\"].astype()\")\n",
    "# convert it to categorical\n",
    "Train[\"shop_id\"] = Train[\"shop_id\"].astype(\"category\")"
   ]
  },
  {
   "cell_type": "code",
   "execution_count": 34,
   "metadata": {},
   "outputs": [],
   "source": [
    "# remove the substring \"SHOP\" from the shop_id column\n",
    "Submission_testing[\"shop_id\"] = Submission_testing[\"shop_id\"].str.replace(\"SHOP\", \"\").astype(int)"
   ]
  },
  {
   "cell_type": "code",
   "execution_count": 35,
   "metadata": {},
   "outputs": [],
   "source": [
    "## Splitting the dataset into the Training set and Test set\n",
    "\n",
    "from sklearn.model_selection import train_test_split\n",
    "X_train, X_test, y_train, y_test = train_test_split(Train, Train_y, test_size = 0.2, random_state = 1)"
   ]
  },
  {
   "cell_type": "code",
   "execution_count": 36,
   "metadata": {},
   "outputs": [
    {
     "data": {
      "text/html": [
       "<div>\n",
       "<style scoped>\n",
       "    .dataframe tbody tr th:only-of-type {\n",
       "        vertical-align: middle;\n",
       "    }\n",
       "\n",
       "    .dataframe tbody tr th {\n",
       "        vertical-align: top;\n",
       "    }\n",
       "\n",
       "    .dataframe thead th {\n",
       "        text-align: right;\n",
       "    }\n",
       "</style>\n",
       "<table border=\"1\" class=\"dataframe\">\n",
       "  <thead>\n",
       "    <tr style=\"text-align: right;\">\n",
       "      <th></th>\n",
       "      <th>item_description</th>\n",
       "      <th>shop_id</th>\n",
       "      <th>item_price</th>\n",
       "      <th>quantity_sold</th>\n",
       "      <th>shop_area_sq_ft</th>\n",
       "      <th>year</th>\n",
       "      <th>month</th>\n",
       "      <th>weekday</th>\n",
       "    </tr>\n",
       "  </thead>\n",
       "  <tbody>\n",
       "    <tr>\n",
       "      <th>13201</th>\n",
       "      <td>SODA 1L</td>\n",
       "      <td>86</td>\n",
       "      <td>110</td>\n",
       "      <td>2</td>\n",
       "      <td>661</td>\n",
       "      <td>2021</td>\n",
       "      <td>10</td>\n",
       "      <td>5</td>\n",
       "    </tr>\n",
       "    <tr>\n",
       "      <th>293065</th>\n",
       "      <td>LEMONADE 500ML</td>\n",
       "      <td>37</td>\n",
       "      <td>200</td>\n",
       "      <td>2</td>\n",
       "      <td>717</td>\n",
       "      <td>2021</td>\n",
       "      <td>12</td>\n",
       "      <td>5</td>\n",
       "    </tr>\n",
       "    <tr>\n",
       "      <th>63548</th>\n",
       "      <td>LEMONADE 1.5L</td>\n",
       "      <td>66</td>\n",
       "      <td>220</td>\n",
       "      <td>3</td>\n",
       "      <td>470</td>\n",
       "      <td>2021</td>\n",
       "      <td>12</td>\n",
       "      <td>0</td>\n",
       "    </tr>\n",
       "    <tr>\n",
       "      <th>466484</th>\n",
       "      <td>GINGER BEER 1.5L</td>\n",
       "      <td>60</td>\n",
       "      <td>220</td>\n",
       "      <td>1</td>\n",
       "      <td>676</td>\n",
       "      <td>2021</td>\n",
       "      <td>10</td>\n",
       "      <td>2</td>\n",
       "    </tr>\n",
       "    <tr>\n",
       "      <th>316348</th>\n",
       "      <td>SODA 1L</td>\n",
       "      <td>112</td>\n",
       "      <td>220</td>\n",
       "      <td>3</td>\n",
       "      <td>668</td>\n",
       "      <td>2021</td>\n",
       "      <td>11</td>\n",
       "      <td>0</td>\n",
       "    </tr>\n",
       "  </tbody>\n",
       "</table>\n",
       "</div>"
      ],
      "text/plain": [
       "        item_description shop_id  item_price  quantity_sold  shop_area_sq_ft  \\\n",
       "13201            SODA 1L      86         110              2              661   \n",
       "293065    LEMONADE 500ML      37         200              2              717   \n",
       "63548      LEMONADE 1.5L      66         220              3              470   \n",
       "466484  GINGER BEER 1.5L      60         220              1              676   \n",
       "316348           SODA 1L     112         220              3              668   \n",
       "\n",
       "        year  month  weekday  \n",
       "13201   2021     10        5  \n",
       "293065  2021     12        5  \n",
       "63548   2021     12        0  \n",
       "466484  2021     10        2  \n",
       "316348  2021     11        0  "
      ]
     },
     "execution_count": 36,
     "metadata": {},
     "output_type": "execute_result"
    }
   ],
   "source": [
    "X_train.head()"
   ]
  },
  {
   "cell_type": "code",
   "execution_count": 37,
   "metadata": {},
   "outputs": [],
   "source": [
    "y_train = pd.DataFrame(y_train)\n",
    "y_test = pd.DataFrame(y_test)"
   ]
  },
  {
   "cell_type": "code",
   "execution_count": 38,
   "metadata": {},
   "outputs": [
    {
     "name": "stdout",
     "output_type": "stream",
     "text": [
      "<class 'pandas.core.frame.DataFrame'>\n",
      "Int64Index: 266064 entries, 13201 to 182378\n",
      "Data columns (total 8 columns):\n",
      " #   Column            Non-Null Count   Dtype   \n",
      "---  ------            --------------   -----   \n",
      " 0   item_description  266064 non-null  category\n",
      " 1   shop_id           266064 non-null  category\n",
      " 2   item_price        266064 non-null  int64   \n",
      " 3   quantity_sold     266064 non-null  int64   \n",
      " 4   shop_area_sq_ft   266064 non-null  int64   \n",
      " 5   year              266064 non-null  int64   \n",
      " 6   month             266064 non-null  int64   \n",
      " 7   weekday           266064 non-null  int64   \n",
      "dtypes: category(2), int64(6)\n",
      "memory usage: 14.7 MB\n"
     ]
    }
   ],
   "source": [
    "X_train.info()"
   ]
  },
  {
   "cell_type": "code",
   "execution_count": 39,
   "metadata": {},
   "outputs": [],
   "source": [
    "Submission_testing = Submission_testing[Train.columns]"
   ]
  },
  {
   "cell_type": "code",
   "execution_count": 40,
   "metadata": {},
   "outputs": [
    {
     "data": {
      "text/html": [
       "<div>\n",
       "<style scoped>\n",
       "    .dataframe tbody tr th:only-of-type {\n",
       "        vertical-align: middle;\n",
       "    }\n",
       "\n",
       "    .dataframe tbody tr th {\n",
       "        vertical-align: top;\n",
       "    }\n",
       "\n",
       "    .dataframe thead th {\n",
       "        text-align: right;\n",
       "    }\n",
       "</style>\n",
       "<table border=\"1\" class=\"dataframe\">\n",
       "  <thead>\n",
       "    <tr style=\"text-align: right;\">\n",
       "      <th></th>\n",
       "      <th>item_description</th>\n",
       "      <th>shop_id</th>\n",
       "      <th>item_price</th>\n",
       "      <th>quantity_sold</th>\n",
       "      <th>shop_area_sq_ft</th>\n",
       "      <th>year</th>\n",
       "      <th>month</th>\n",
       "      <th>weekday</th>\n",
       "    </tr>\n",
       "  </thead>\n",
       "  <tbody>\n",
       "    <tr>\n",
       "      <th>13201</th>\n",
       "      <td>SODA 1L</td>\n",
       "      <td>86</td>\n",
       "      <td>110</td>\n",
       "      <td>2</td>\n",
       "      <td>661</td>\n",
       "      <td>2021</td>\n",
       "      <td>10</td>\n",
       "      <td>5</td>\n",
       "    </tr>\n",
       "    <tr>\n",
       "      <th>293065</th>\n",
       "      <td>LEMONADE 500ML</td>\n",
       "      <td>37</td>\n",
       "      <td>200</td>\n",
       "      <td>2</td>\n",
       "      <td>717</td>\n",
       "      <td>2021</td>\n",
       "      <td>12</td>\n",
       "      <td>5</td>\n",
       "    </tr>\n",
       "    <tr>\n",
       "      <th>63548</th>\n",
       "      <td>LEMONADE 1.5L</td>\n",
       "      <td>66</td>\n",
       "      <td>220</td>\n",
       "      <td>3</td>\n",
       "      <td>470</td>\n",
       "      <td>2021</td>\n",
       "      <td>12</td>\n",
       "      <td>0</td>\n",
       "    </tr>\n",
       "    <tr>\n",
       "      <th>466484</th>\n",
       "      <td>GINGER BEER 1.5L</td>\n",
       "      <td>60</td>\n",
       "      <td>220</td>\n",
       "      <td>1</td>\n",
       "      <td>676</td>\n",
       "      <td>2021</td>\n",
       "      <td>10</td>\n",
       "      <td>2</td>\n",
       "    </tr>\n",
       "    <tr>\n",
       "      <th>316348</th>\n",
       "      <td>SODA 1L</td>\n",
       "      <td>112</td>\n",
       "      <td>220</td>\n",
       "      <td>3</td>\n",
       "      <td>668</td>\n",
       "      <td>2021</td>\n",
       "      <td>11</td>\n",
       "      <td>0</td>\n",
       "    </tr>\n",
       "  </tbody>\n",
       "</table>\n",
       "</div>"
      ],
      "text/plain": [
       "        item_description shop_id  item_price  quantity_sold  shop_area_sq_ft  \\\n",
       "13201            SODA 1L      86         110              2              661   \n",
       "293065    LEMONADE 500ML      37         200              2              717   \n",
       "63548      LEMONADE 1.5L      66         220              3              470   \n",
       "466484  GINGER BEER 1.5L      60         220              1              676   \n",
       "316348           SODA 1L     112         220              3              668   \n",
       "\n",
       "        year  month  weekday  \n",
       "13201   2021     10        5  \n",
       "293065  2021     12        5  \n",
       "63548   2021     12        0  \n",
       "466484  2021     10        2  \n",
       "316348  2021     11        0  "
      ]
     },
     "execution_count": 40,
     "metadata": {},
     "output_type": "execute_result"
    }
   ],
   "source": [
    "X_train.head()"
   ]
  },
  {
   "cell_type": "code",
   "execution_count": 41,
   "metadata": {},
   "outputs": [
    {
     "data": {
      "text/plain": [
       "item_description     37\n",
       "shop_id             100\n",
       "item_price          172\n",
       "quantity_sold        59\n",
       "shop_area_sq_ft      53\n",
       "year                  1\n",
       "month                 3\n",
       "weekday               7\n",
       "dtype: int64"
      ]
     },
     "execution_count": 41,
     "metadata": {},
     "output_type": "execute_result"
    }
   ],
   "source": [
    "# unique values in each column\n",
    "X_train.nunique()"
   ]
  },
  {
   "cell_type": "code",
   "execution_count": 42,
   "metadata": {},
   "outputs": [
    {
     "name": "stdout",
     "output_type": "stream",
     "text": [
      "<class 'pandas.core.frame.DataFrame'>\n",
      "Int64Index: 266064 entries, 13201 to 182378\n",
      "Data columns (total 8 columns):\n",
      " #   Column            Non-Null Count   Dtype   \n",
      "---  ------            --------------   -----   \n",
      " 0   item_description  266064 non-null  category\n",
      " 1   shop_id           266064 non-null  category\n",
      " 2   item_price        266064 non-null  int64   \n",
      " 3   quantity_sold     266064 non-null  int64   \n",
      " 4   shop_area_sq_ft   266064 non-null  int64   \n",
      " 5   year              266064 non-null  int64   \n",
      " 6   month             266064 non-null  int64   \n",
      " 7   weekday           266064 non-null  int64   \n",
      "dtypes: category(2), int64(6)\n",
      "memory usage: 14.7 MB\n"
     ]
    }
   ],
   "source": [
    "X_train.info()"
   ]
  },
  {
   "cell_type": "code",
   "execution_count": 43,
   "metadata": {},
   "outputs": [],
   "source": [
    "categorical_columns = [\"year\", \"month\", \"weekday\"]\n",
    "\n",
    "for category in categorical_columns:\n",
    "    Train[category] = Train[category].astype(\"category\")"
   ]
  },
  {
   "attachments": {},
   "cell_type": "markdown",
   "metadata": {},
   "source": [
    "# Metrics"
   ]
  },
  {
   "cell_type": "code",
   "execution_count": 44,
   "metadata": {},
   "outputs": [],
   "source": [
    "from sklearn.metrics import accuracy_score, precision_score, recall_score, f1_score\n",
    "from sklearn.preprocessing import OneHotEncoder\n",
    "from sklearn.compose import ColumnTransformer\n",
    "\n",
    "\n",
    "def score_classification(model, df1_x, df1_y, df2_x, df2_y):\n",
    "  print(model)\n",
    "  df1_x = df1_x.copy()\n",
    "  df2_x = df2_x.copy()\n",
    "  \n",
    "  ct = ColumnTransformer(transformers=[('encoder', OneHotEncoder(handle_unknown='ignore'), [0])], remainder='passthrough')\n",
    " \n",
    "  # One hot encoding for the item_description column\n",
    "\n",
    "  df1_encoded = ct.fit_transform(df1_x[[\"item_description\"]])\n",
    "  df1_x = pd.concat([df1_x.drop(\"item_description\", axis=1).reset_index(drop=True), pd.DataFrame(df1_encoded.toarray())], axis='columns')\n",
    " \n",
    "  df2_encoded = ct.transform(df2_x[[\"item_description\"]]) \n",
    "  df2_x = pd.concat([df2_x.drop(\"item_description\", axis=1).reset_index(drop=True), pd.DataFrame(df2_encoded.toarray())], axis='columns')    \n",
    "  \n",
    "  df1_x.columns = df1_x.columns.astype(str)\n",
    "  df2_x.columns = df2_x.columns.astype(str)\n",
    " \n",
    "  # Fit the model  \n",
    "  model.fit(df1_x, df1_y)\n",
    "\n",
    "  # Make predictions\n",
    "  y_pred = model.predict(df2_x)\n",
    "\n",
    "  # Evaluate the model\n",
    "  accuracy = accuracy_score(df2_y, y_pred)\n",
    "  precision = precision_score(df2_y, y_pred,  average='macro')\n",
    "  recall = recall_score(df2_y, y_pred,  average='macro')\n",
    "  f1 = f1_score(df2_y, y_pred,  average='macro')\n",
    "\n",
    "  print(f\"Accuracy: {accuracy}\")\n",
    "  print(f\"Precision: {precision}\")\n",
    "  print(f\"Recall: {recall}\")\n",
    "  print(f\"F1 Score: {f1}\")"
   ]
  },
  {
   "cell_type": "code",
   "execution_count": 45,
   "metadata": {},
   "outputs": [
    {
     "name": "stdout",
     "output_type": "stream",
     "text": [
      "<class 'pandas.core.frame.DataFrame'>\n",
      "Int64Index: 86633 entries, 0 to 86632\n",
      "Data columns (total 8 columns):\n",
      " #   Column            Non-Null Count  Dtype   \n",
      "---  ------            --------------  -----   \n",
      " 0   item_description  80319 non-null  category\n",
      " 1   shop_id           86633 non-null  int32   \n",
      " 2   item_price        86633 non-null  int64   \n",
      " 3   quantity_sold     86633 non-null  int64   \n",
      " 4   shop_area_sq_ft   86633 non-null  int64   \n",
      " 5   year              86633 non-null  int64   \n",
      " 6   month             86633 non-null  int64   \n",
      " 7   weekday           86633 non-null  int64   \n",
      "dtypes: category(1), int32(1), int64(6)\n",
      "memory usage: 5.0 MB\n"
     ]
    }
   ],
   "source": [
    "Submission_testing.info()"
   ]
  },
  {
   "attachments": {},
   "cell_type": "markdown",
   "metadata": {},
   "source": [
    "## Result Output"
   ]
  },
  {
   "cell_type": "code",
   "execution_count": 46,
   "metadata": {},
   "outputs": [],
   "source": [
    "def outputResult(model, df1_x, df1_y, test, le):\n",
    "    print(model)\n",
    "    df1_x = df1_x.copy()\n",
    "    df2_x = test.copy()\n",
    "    \n",
    "    ct = ColumnTransformer(transformers=[('encoder', OneHotEncoder(handle_unknown='ignore'), [0])], remainder='passthrough')\n",
    "\n",
    "    # One hot encoding for the item_description column\n",
    "\n",
    "    df1_encoded = ct.fit_transform(df1_x[[\"item_description\"]])\n",
    "    df1_x = pd.concat([df1_x.drop(\"item_description\", axis=1).reset_index(drop=True), pd.DataFrame(df1_encoded.toarray())], axis='columns')\n",
    "\n",
    "    df2_encoded = ct.transform(df2_x[[\"item_description\"]])\n",
    "    df2_x = pd.concat([df2_x.drop(\"item_description\", axis=1).reset_index(drop=True), pd.DataFrame(df2_encoded.toarray())], axis='columns')\n",
    "\n",
    "    df1_x.columns = df1_x.columns.astype(str)\n",
    "    df2_x.columns = df2_x.columns.astype(str)\n",
    "\n",
    "    # Fit the model on the training data\n",
    "    model.fit(df1_x, df1_y)\n",
    "    \n",
    "    # Make predictions on the test data\n",
    "    y_pred = model.predict(df2_x)\n",
    "    \n",
    "    # Inverse transform the encoded predictions to the original shop profiles\n",
    "    y_pred = le.inverse_transform(y_pred)    \n",
    "    \n",
    "    # Create a dataframe with the predicted shop profiles\n",
    "    results_df = pd.DataFrame({'shop_id': test.shop_id, 'shop_profile': y_pred})    \n",
    "    # rename the shop_id column with the word \"SHOP\" and add a 0 in front of the shop_id\n",
    "    results_df[\"shop_id\"] = results_df[\"shop_id\"].astype(str)\n",
    "    results_df[\"shop_id\"] = \"SHOP\" + results_df[\"shop_id\"].str.zfill(3)\n",
    "    \n",
    "    results_df.drop_duplicates(inplace=True)\n",
    "    # Write the dataframe to a CSV file\n",
    "    results_df.to_csv('predictions_'+str(model).strip(\"()\")+'.csv', index=False)"
   ]
  },
  {
   "attachments": {},
   "cell_type": "markdown",
   "metadata": {},
   "source": [
    "# Modelling"
   ]
  },
  {
   "cell_type": "code",
   "execution_count": 47,
   "metadata": {},
   "outputs": [
    {
     "name": "stdout",
     "output_type": "stream",
     "text": [
      "['SODA 1L', 'LEMONADE 500ML', 'LEMONADE 1.5L', 'GINGER BEER 1.5L', 'SODA 500ML', ..., 'GINGER BEER SUGAR FREE 500ML', 'LEMONADE 1L', 'NECTO 1L', 'CHOCOLATE MILK 180ML', 'LIME CRUSH JUICE 1L']\n",
      "Length: 37\n",
      "Categories (37, object): ['BOTTLED DRINKING WATER 1.5L', 'BOTTLED DRINKING WATER 500ML', 'CHOCOLATE MILK 180ML', 'CREAM SODA 1.5L', ..., 'SODA PET 1.5L', 'STRAWBERRY MILK 180ML', 'TONIC PET 500ML', 'TWISTEE APPLE 1L']\n",
      "0\n"
     ]
    }
   ],
   "source": [
    "# unique values in item_description column\n",
    "\n",
    "print(X_train['item_description'].unique())\n",
    "\n",
    "# no of null values in item_description column\n",
    "\n",
    "print(X_train['item_description'].isnull().sum())"
   ]
  },
  {
   "cell_type": "code",
   "execution_count": 48,
   "metadata": {},
   "outputs": [
    {
     "name": "stdout",
     "output_type": "stream",
     "text": [
      "LogisticRegression()\n",
      "Accuracy: 0.4177127651577792\n",
      "Precision: 0.40657155211397283\n",
      "Recall: 0.4031049033930501\n",
      "F1 Score: 0.3961679449191819\n"
     ]
    }
   ],
   "source": [
    "from sklearn.linear_model import LogisticRegression\n",
    "import sys\n",
    "logr = LogisticRegression()\n",
    "# np.set_printoptions(threshold=np.inf)\n",
    "score_classification(logr, X_train, y_train, X_test, y_test)\n",
    "# np.set_printoptions(threshold=1000)"
   ]
  },
  {
   "attachments": {},
   "cell_type": "markdown",
   "metadata": {},
   "source": [
    "Bug with KNeighborsClassifiers"
   ]
  },
  {
   "cell_type": "code",
   "execution_count": 49,
   "metadata": {},
   "outputs": [],
   "source": [
    "#Dont use this\n",
    "# from sklearn.neighbors import KNeighborsClassifier\n",
    "\n",
    "# knn = KNeighborsClassifier()\n",
    "\n",
    "# score_classification(knn, X_train, y_train, X_test, y_test)"
   ]
  },
  {
   "cell_type": "code",
   "execution_count": 50,
   "metadata": {},
   "outputs": [],
   "source": [
    "# outputResult(knn, X_train, y_train, Submission_testing, le)"
   ]
  },
  {
   "cell_type": "code",
   "execution_count": 51,
   "metadata": {},
   "outputs": [
    {
     "name": "stdout",
     "output_type": "stream",
     "text": [
      "DecisionTreeClassifier()\n",
      "Accuracy: 1.0\n",
      "Precision: 1.0\n",
      "Recall: 1.0\n",
      "F1 Score: 1.0\n"
     ]
    }
   ],
   "source": [
    "from sklearn.tree import DecisionTreeClassifier\n",
    "\n",
    "dtc = DecisionTreeClassifier()\n",
    "\n",
    "score_classification(dtc, X_train, y_train, X_test, y_test)"
   ]
  },
  {
   "cell_type": "code",
   "execution_count": 52,
   "metadata": {},
   "outputs": [
    {
     "data": {
      "text/html": [
       "<div>\n",
       "<style scoped>\n",
       "    .dataframe tbody tr th:only-of-type {\n",
       "        vertical-align: middle;\n",
       "    }\n",
       "\n",
       "    .dataframe tbody tr th {\n",
       "        vertical-align: top;\n",
       "    }\n",
       "\n",
       "    .dataframe thead th {\n",
       "        text-align: right;\n",
       "    }\n",
       "</style>\n",
       "<table border=\"1\" class=\"dataframe\">\n",
       "  <thead>\n",
       "    <tr style=\"text-align: right;\">\n",
       "      <th></th>\n",
       "      <th>item_description</th>\n",
       "      <th>shop_id</th>\n",
       "      <th>item_price</th>\n",
       "      <th>quantity_sold</th>\n",
       "      <th>shop_area_sq_ft</th>\n",
       "      <th>year</th>\n",
       "      <th>month</th>\n",
       "      <th>weekday</th>\n",
       "    </tr>\n",
       "  </thead>\n",
       "  <tbody>\n",
       "    <tr>\n",
       "      <th>13201</th>\n",
       "      <td>SODA 1L</td>\n",
       "      <td>86</td>\n",
       "      <td>110</td>\n",
       "      <td>2</td>\n",
       "      <td>661</td>\n",
       "      <td>2021</td>\n",
       "      <td>10</td>\n",
       "      <td>5</td>\n",
       "    </tr>\n",
       "    <tr>\n",
       "      <th>293065</th>\n",
       "      <td>LEMONADE 500ML</td>\n",
       "      <td>37</td>\n",
       "      <td>200</td>\n",
       "      <td>2</td>\n",
       "      <td>717</td>\n",
       "      <td>2021</td>\n",
       "      <td>12</td>\n",
       "      <td>5</td>\n",
       "    </tr>\n",
       "    <tr>\n",
       "      <th>63548</th>\n",
       "      <td>LEMONADE 1.5L</td>\n",
       "      <td>66</td>\n",
       "      <td>220</td>\n",
       "      <td>3</td>\n",
       "      <td>470</td>\n",
       "      <td>2021</td>\n",
       "      <td>12</td>\n",
       "      <td>0</td>\n",
       "    </tr>\n",
       "    <tr>\n",
       "      <th>466484</th>\n",
       "      <td>GINGER BEER 1.5L</td>\n",
       "      <td>60</td>\n",
       "      <td>220</td>\n",
       "      <td>1</td>\n",
       "      <td>676</td>\n",
       "      <td>2021</td>\n",
       "      <td>10</td>\n",
       "      <td>2</td>\n",
       "    </tr>\n",
       "    <tr>\n",
       "      <th>316348</th>\n",
       "      <td>SODA 1L</td>\n",
       "      <td>112</td>\n",
       "      <td>220</td>\n",
       "      <td>3</td>\n",
       "      <td>668</td>\n",
       "      <td>2021</td>\n",
       "      <td>11</td>\n",
       "      <td>0</td>\n",
       "    </tr>\n",
       "  </tbody>\n",
       "</table>\n",
       "</div>"
      ],
      "text/plain": [
       "        item_description shop_id  item_price  quantity_sold  shop_area_sq_ft  \\\n",
       "13201            SODA 1L      86         110              2              661   \n",
       "293065    LEMONADE 500ML      37         200              2              717   \n",
       "63548      LEMONADE 1.5L      66         220              3              470   \n",
       "466484  GINGER BEER 1.5L      60         220              1              676   \n",
       "316348           SODA 1L     112         220              3              668   \n",
       "\n",
       "        year  month  weekday  \n",
       "13201   2021     10        5  \n",
       "293065  2021     12        5  \n",
       "63548   2021     12        0  \n",
       "466484  2021     10        2  \n",
       "316348  2021     11        0  "
      ]
     },
     "execution_count": 52,
     "metadata": {},
     "output_type": "execute_result"
    }
   ],
   "source": [
    "X_train.head()"
   ]
  },
  {
   "cell_type": "code",
   "execution_count": 53,
   "metadata": {},
   "outputs": [
    {
     "data": {
      "text/html": [
       "<div>\n",
       "<style scoped>\n",
       "    .dataframe tbody tr th:only-of-type {\n",
       "        vertical-align: middle;\n",
       "    }\n",
       "\n",
       "    .dataframe tbody tr th {\n",
       "        vertical-align: top;\n",
       "    }\n",
       "\n",
       "    .dataframe thead th {\n",
       "        text-align: right;\n",
       "    }\n",
       "</style>\n",
       "<table border=\"1\" class=\"dataframe\">\n",
       "  <thead>\n",
       "    <tr style=\"text-align: right;\">\n",
       "      <th></th>\n",
       "      <th>item_description</th>\n",
       "      <th>shop_id</th>\n",
       "      <th>item_price</th>\n",
       "      <th>quantity_sold</th>\n",
       "      <th>shop_area_sq_ft</th>\n",
       "      <th>year</th>\n",
       "      <th>month</th>\n",
       "      <th>weekday</th>\n",
       "    </tr>\n",
       "  </thead>\n",
       "  <tbody>\n",
       "    <tr>\n",
       "      <th>0</th>\n",
       "      <td>FIT O MIXED FRUIT 1L</td>\n",
       "      <td>46</td>\n",
       "      <td>270</td>\n",
       "      <td>1</td>\n",
       "      <td>545</td>\n",
       "      <td>2021</td>\n",
       "      <td>10</td>\n",
       "      <td>4</td>\n",
       "    </tr>\n",
       "    <tr>\n",
       "      <th>1</th>\n",
       "      <td>FIT O ORANGE 1L</td>\n",
       "      <td>46</td>\n",
       "      <td>290</td>\n",
       "      <td>1</td>\n",
       "      <td>545</td>\n",
       "      <td>2021</td>\n",
       "      <td>10</td>\n",
       "      <td>2</td>\n",
       "    </tr>\n",
       "    <tr>\n",
       "      <th>2</th>\n",
       "      <td>LEMONADE 1.5L</td>\n",
       "      <td>46</td>\n",
       "      <td>220</td>\n",
       "      <td>2</td>\n",
       "      <td>545</td>\n",
       "      <td>2021</td>\n",
       "      <td>10</td>\n",
       "      <td>3</td>\n",
       "    </tr>\n",
       "    <tr>\n",
       "      <th>3</th>\n",
       "      <td>FIT O MANGO 200ML</td>\n",
       "      <td>46</td>\n",
       "      <td>180</td>\n",
       "      <td>4</td>\n",
       "      <td>545</td>\n",
       "      <td>2021</td>\n",
       "      <td>11</td>\n",
       "      <td>2</td>\n",
       "    </tr>\n",
       "    <tr>\n",
       "      <th>4</th>\n",
       "      <td>FIT O MIXED FRUIT 200ML</td>\n",
       "      <td>46</td>\n",
       "      <td>60</td>\n",
       "      <td>1</td>\n",
       "      <td>545</td>\n",
       "      <td>2021</td>\n",
       "      <td>11</td>\n",
       "      <td>2</td>\n",
       "    </tr>\n",
       "  </tbody>\n",
       "</table>\n",
       "</div>"
      ],
      "text/plain": [
       "          item_description  shop_id  item_price  quantity_sold  \\\n",
       "0     FIT O MIXED FRUIT 1L       46         270              1   \n",
       "1          FIT O ORANGE 1L       46         290              1   \n",
       "2            LEMONADE 1.5L       46         220              2   \n",
       "3        FIT O MANGO 200ML       46         180              4   \n",
       "4  FIT O MIXED FRUIT 200ML       46          60              1   \n",
       "\n",
       "   shop_area_sq_ft  year  month  weekday  \n",
       "0              545  2021     10        4  \n",
       "1              545  2021     10        2  \n",
       "2              545  2021     10        3  \n",
       "3              545  2021     11        2  \n",
       "4              545  2021     11        2  "
      ]
     },
     "execution_count": 53,
     "metadata": {},
     "output_type": "execute_result"
    }
   ],
   "source": [
    "Submission_testing.head()"
   ]
  },
  {
   "cell_type": "code",
   "execution_count": 54,
   "metadata": {},
   "outputs": [
    {
     "name": "stdout",
     "output_type": "stream",
     "text": [
      "DecisionTreeClassifier()\n"
     ]
    }
   ],
   "source": [
    "outputResult(dtc, X_train, y_train, Submission_testing, le)"
   ]
  },
  {
   "cell_type": "code",
   "execution_count": 55,
   "metadata": {},
   "outputs": [
    {
     "name": "stdout",
     "output_type": "stream",
     "text": [
      "RandomForestClassifier()\n",
      "Accuracy: 0.9760662687733963\n",
      "Precision: 0.9761168100734796\n",
      "Recall: 0.9753853826851172\n",
      "F1 Score: 0.97572088280059\n"
     ]
    }
   ],
   "source": [
    "from sklearn.ensemble import RandomForestClassifier\n",
    "\n",
    "rfc = RandomForestClassifier()\n",
    "\n",
    "score_classification(rfc, X_train, y_train, X_test, y_test)"
   ]
  },
  {
   "cell_type": "code",
   "execution_count": 56,
   "metadata": {},
   "outputs": [
    {
     "name": "stdout",
     "output_type": "stream",
     "text": [
      "RandomForestClassifier()\n"
     ]
    }
   ],
   "source": [
    "outputResult(rfc, X_train, y_train, Submission_testing, le)"
   ]
  },
  {
   "cell_type": "code",
   "execution_count": 57,
   "metadata": {},
   "outputs": [
    {
     "name": "stdout",
     "output_type": "stream",
     "text": [
      "GaussianNB()\n",
      "Accuracy: 0.4189455327209585\n",
      "Precision: 0.4542690849945639\n",
      "Recall: 0.40085688663882246\n",
      "F1 Score: 0.3635349112833701\n"
     ]
    }
   ],
   "source": [
    "from sklearn.naive_bayes import GaussianNB\n",
    "\n",
    "nb = GaussianNB()\n",
    "\n",
    "score_classification(nb, X_train, y_train, X_test, y_test)"
   ]
  },
  {
   "cell_type": "code",
   "execution_count": 58,
   "metadata": {},
   "outputs": [],
   "source": [
    "# import xgboost as xgb\n",
    "\n",
    "# xgb_model = xgb.XGBClassifier(objective='binary:logistic', n_estimators=100, max_depth=5)\n",
    "\n",
    "# score_classification(xgb_model, X_train, y_train, X_test, y_test)\n"
   ]
  },
  {
   "attachments": {},
   "cell_type": "markdown",
   "metadata": {},
   "source": [
    "# Feature Engineering"
   ]
  },
  {
   "attachments": {},
   "cell_type": "markdown",
   "metadata": {},
   "source": [
    "Mutual Information"
   ]
  },
  {
   "cell_type": "code",
   "execution_count": 59,
   "metadata": {},
   "outputs": [],
   "source": [
    "from sklearn.feature_selection import mutual_info_regression\n",
    "\n",
    "def make_mi_scores(X,y):\n",
    "  X = X.copy()\n",
    "  for colname in X.select_dtypes([\"object\", \"category\"]):\n",
    "    X[colname], _ = X[colname].factorize()\n",
    "  # all discrete features should now have integer dtypes\n",
    "  discrete_features = [pd.api.types.is_integer_dtype(t) for t in X.dtypes]\n",
    "  mi_scores = mutual_info_regression(X, y, discrete_features=discrete_features, random_state=0)\n",
    "  mi_scores = pd.Series(mi_scores, name=\"Mutual Information Scores\", index=X.columns)\n",
    "  mi_scores = mi_scores.sort_values(ascending=False)\n",
    "  return mi_scores\n",
    "\n",
    "\n",
    "def plot_mi_scores(scores):\n",
    "  scores = scores.sort_values(ascending=True)\n",
    "  width = np.arange(len(scores))\n",
    "  ticks = list(scores.index)\n",
    "  plt.barh(width,scores)\n",
    "  plt.yticks(width, ticks)\n",
    "  plt.title(\"Mututal Information Scores\")"
   ]
  },
  {
   "cell_type": "code",
   "execution_count": 60,
   "metadata": {},
   "outputs": [
    {
     "data": {
      "text/plain": [
       "shop_id             1.094757\n",
       "shop_area_sq_ft     0.579597\n",
       "year                0.021894\n",
       "quantity_sold       0.009331\n",
       "item_price          0.008191\n",
       "month               0.006593\n",
       "weekday             0.004389\n",
       "item_description    0.004223\n",
       "Name: Mutual Information Scores, dtype: float64"
      ]
     },
     "execution_count": 60,
     "metadata": {},
     "output_type": "execute_result"
    }
   ],
   "source": [
    "mi_scores = make_mi_scores(X_train, y_train)\n",
    "mi_scores"
   ]
  },
  {
   "cell_type": "code",
   "execution_count": 61,
   "metadata": {},
   "outputs": [
    {
     "data": {
      "text/html": [
       "<div>\n",
       "<style scoped>\n",
       "    .dataframe tbody tr th:only-of-type {\n",
       "        vertical-align: middle;\n",
       "    }\n",
       "\n",
       "    .dataframe tbody tr th {\n",
       "        vertical-align: top;\n",
       "    }\n",
       "\n",
       "    .dataframe thead th {\n",
       "        text-align: right;\n",
       "    }\n",
       "</style>\n",
       "<table border=\"1\" class=\"dataframe\">\n",
       "  <thead>\n",
       "    <tr style=\"text-align: right;\">\n",
       "      <th></th>\n",
       "      <th>item_description</th>\n",
       "      <th>shop_id</th>\n",
       "      <th>item_price</th>\n",
       "      <th>quantity_sold</th>\n",
       "      <th>shop_area_sq_ft</th>\n",
       "      <th>year</th>\n",
       "      <th>month</th>\n",
       "      <th>weekday</th>\n",
       "    </tr>\n",
       "  </thead>\n",
       "  <tbody>\n",
       "    <tr>\n",
       "      <th>13201</th>\n",
       "      <td>SODA 1L</td>\n",
       "      <td>86</td>\n",
       "      <td>110</td>\n",
       "      <td>2</td>\n",
       "      <td>661</td>\n",
       "      <td>2021</td>\n",
       "      <td>10</td>\n",
       "      <td>5</td>\n",
       "    </tr>\n",
       "    <tr>\n",
       "      <th>293065</th>\n",
       "      <td>LEMONADE 500ML</td>\n",
       "      <td>37</td>\n",
       "      <td>200</td>\n",
       "      <td>2</td>\n",
       "      <td>717</td>\n",
       "      <td>2021</td>\n",
       "      <td>12</td>\n",
       "      <td>5</td>\n",
       "    </tr>\n",
       "    <tr>\n",
       "      <th>63548</th>\n",
       "      <td>LEMONADE 1.5L</td>\n",
       "      <td>66</td>\n",
       "      <td>220</td>\n",
       "      <td>3</td>\n",
       "      <td>470</td>\n",
       "      <td>2021</td>\n",
       "      <td>12</td>\n",
       "      <td>0</td>\n",
       "    </tr>\n",
       "    <tr>\n",
       "      <th>466484</th>\n",
       "      <td>GINGER BEER 1.5L</td>\n",
       "      <td>60</td>\n",
       "      <td>220</td>\n",
       "      <td>1</td>\n",
       "      <td>676</td>\n",
       "      <td>2021</td>\n",
       "      <td>10</td>\n",
       "      <td>2</td>\n",
       "    </tr>\n",
       "    <tr>\n",
       "      <th>316348</th>\n",
       "      <td>SODA 1L</td>\n",
       "      <td>112</td>\n",
       "      <td>220</td>\n",
       "      <td>3</td>\n",
       "      <td>668</td>\n",
       "      <td>2021</td>\n",
       "      <td>11</td>\n",
       "      <td>0</td>\n",
       "    </tr>\n",
       "  </tbody>\n",
       "</table>\n",
       "</div>"
      ],
      "text/plain": [
       "        item_description shop_id  item_price  quantity_sold  shop_area_sq_ft  \\\n",
       "13201            SODA 1L      86         110              2              661   \n",
       "293065    LEMONADE 500ML      37         200              2              717   \n",
       "63548      LEMONADE 1.5L      66         220              3              470   \n",
       "466484  GINGER BEER 1.5L      60         220              1              676   \n",
       "316348           SODA 1L     112         220              3              668   \n",
       "\n",
       "        year  month  weekday  \n",
       "13201   2021     10        5  \n",
       "293065  2021     12        5  \n",
       "63548   2021     12        0  \n",
       "466484  2021     10        2  \n",
       "316348  2021     11        0  "
      ]
     },
     "execution_count": 61,
     "metadata": {},
     "output_type": "execute_result"
    }
   ],
   "source": [
    "X_train.head()"
   ]
  },
  {
   "attachments": {},
   "cell_type": "markdown",
   "metadata": {},
   "source": [
    "Feature Scaling"
   ]
  },
  {
   "cell_type": "code",
   "execution_count": 62,
   "metadata": {},
   "outputs": [
    {
     "data": {
      "text/html": [
       "<div>\n",
       "<style scoped>\n",
       "    .dataframe tbody tr th:only-of-type {\n",
       "        vertical-align: middle;\n",
       "    }\n",
       "\n",
       "    .dataframe tbody tr th {\n",
       "        vertical-align: top;\n",
       "    }\n",
       "\n",
       "    .dataframe thead th {\n",
       "        text-align: right;\n",
       "    }\n",
       "</style>\n",
       "<table border=\"1\" class=\"dataframe\">\n",
       "  <thead>\n",
       "    <tr style=\"text-align: right;\">\n",
       "      <th></th>\n",
       "      <th>item_description</th>\n",
       "      <th>shop_id</th>\n",
       "      <th>item_price</th>\n",
       "      <th>quantity_sold</th>\n",
       "      <th>shop_area_sq_ft</th>\n",
       "      <th>year</th>\n",
       "      <th>month</th>\n",
       "      <th>weekday</th>\n",
       "    </tr>\n",
       "  </thead>\n",
       "  <tbody>\n",
       "    <tr>\n",
       "      <th>13201</th>\n",
       "      <td>SODA 1L</td>\n",
       "      <td>86</td>\n",
       "      <td>110</td>\n",
       "      <td>2</td>\n",
       "      <td>661</td>\n",
       "      <td>2021</td>\n",
       "      <td>10</td>\n",
       "      <td>5</td>\n",
       "    </tr>\n",
       "    <tr>\n",
       "      <th>293065</th>\n",
       "      <td>LEMONADE 500ML</td>\n",
       "      <td>37</td>\n",
       "      <td>200</td>\n",
       "      <td>2</td>\n",
       "      <td>717</td>\n",
       "      <td>2021</td>\n",
       "      <td>12</td>\n",
       "      <td>5</td>\n",
       "    </tr>\n",
       "    <tr>\n",
       "      <th>63548</th>\n",
       "      <td>LEMONADE 1.5L</td>\n",
       "      <td>66</td>\n",
       "      <td>220</td>\n",
       "      <td>3</td>\n",
       "      <td>470</td>\n",
       "      <td>2021</td>\n",
       "      <td>12</td>\n",
       "      <td>0</td>\n",
       "    </tr>\n",
       "    <tr>\n",
       "      <th>466484</th>\n",
       "      <td>GINGER BEER 1.5L</td>\n",
       "      <td>60</td>\n",
       "      <td>220</td>\n",
       "      <td>1</td>\n",
       "      <td>676</td>\n",
       "      <td>2021</td>\n",
       "      <td>10</td>\n",
       "      <td>2</td>\n",
       "    </tr>\n",
       "    <tr>\n",
       "      <th>316348</th>\n",
       "      <td>SODA 1L</td>\n",
       "      <td>112</td>\n",
       "      <td>220</td>\n",
       "      <td>3</td>\n",
       "      <td>668</td>\n",
       "      <td>2021</td>\n",
       "      <td>11</td>\n",
       "      <td>0</td>\n",
       "    </tr>\n",
       "  </tbody>\n",
       "</table>\n",
       "</div>"
      ],
      "text/plain": [
       "        item_description shop_id  item_price  quantity_sold  shop_area_sq_ft  \\\n",
       "13201            SODA 1L      86         110              2              661   \n",
       "293065    LEMONADE 500ML      37         200              2              717   \n",
       "63548      LEMONADE 1.5L      66         220              3              470   \n",
       "466484  GINGER BEER 1.5L      60         220              1              676   \n",
       "316348           SODA 1L     112         220              3              668   \n",
       "\n",
       "        year  month  weekday  \n",
       "13201   2021     10        5  \n",
       "293065  2021     12        5  \n",
       "63548   2021     12        0  \n",
       "466484  2021     10        2  \n",
       "316348  2021     11        0  "
      ]
     },
     "execution_count": 62,
     "metadata": {},
     "output_type": "execute_result"
    }
   ],
   "source": [
    "X_train.head()"
   ]
  },
  {
   "cell_type": "code",
   "execution_count": 63,
   "metadata": {},
   "outputs": [],
   "source": [
    "from sklearn.preprocessing import StandardScaler\n",
    "from sklearn.preprocessing import MinMaxScaler\n",
    "X_train.reset_index(drop=True, inplace=True)\n",
    "X_test.reset_index(drop=True, inplace=True)\n",
    "\n",
    "ct2 = ColumnTransformer([(\"sScaler\", StandardScaler(), [\"shop_area_sq_ft\"]),\n",
    "                         (\"MinMaxScaler\", MinMaxScaler(), [\"item_price\", \"quantity_sold\"])])\n",
    "scaled_df1_x = pd.DataFrame(ct2.fit_transform(X_train), columns=[\"shop_area_sq_ft\", \"item_price\", \"quantity_sold\"])\n",
    "scaled_df2_x = pd.DataFrame(ct2.transform(X_test), columns=[\"shop_area_sq_ft\", \"item_price\", \"quantity_sold\"])\n",
    "\n",
    "# Create copies of X_train and X_test with the scaled values\n",
    "X_train_scaled = X_train.copy()\n",
    "X_test_scaled = X_test.copy()\n",
    "\n",
    "# Assign the scaled values to the new dataframes\n",
    "X_train_scaled[scaled_df1_x.columns] = scaled_df1_x\n",
    "X_test_scaled[scaled_df2_x.columns] = scaled_df2_x"
   ]
  },
  {
   "cell_type": "code",
   "execution_count": 64,
   "metadata": {},
   "outputs": [
    {
     "data": {
      "text/html": [
       "<div>\n",
       "<style scoped>\n",
       "    .dataframe tbody tr th:only-of-type {\n",
       "        vertical-align: middle;\n",
       "    }\n",
       "\n",
       "    .dataframe tbody tr th {\n",
       "        vertical-align: top;\n",
       "    }\n",
       "\n",
       "    .dataframe thead th {\n",
       "        text-align: right;\n",
       "    }\n",
       "</style>\n",
       "<table border=\"1\" class=\"dataframe\">\n",
       "  <thead>\n",
       "    <tr style=\"text-align: right;\">\n",
       "      <th></th>\n",
       "      <th>item_description</th>\n",
       "      <th>shop_id</th>\n",
       "      <th>item_price</th>\n",
       "      <th>quantity_sold</th>\n",
       "      <th>shop_area_sq_ft</th>\n",
       "      <th>year</th>\n",
       "      <th>month</th>\n",
       "      <th>weekday</th>\n",
       "    </tr>\n",
       "  </thead>\n",
       "  <tbody>\n",
       "    <tr>\n",
       "      <th>0</th>\n",
       "      <td>SODA 1L</td>\n",
       "      <td>86</td>\n",
       "      <td>110</td>\n",
       "      <td>2</td>\n",
       "      <td>661</td>\n",
       "      <td>2021</td>\n",
       "      <td>10</td>\n",
       "      <td>5</td>\n",
       "    </tr>\n",
       "    <tr>\n",
       "      <th>1</th>\n",
       "      <td>LEMONADE 500ML</td>\n",
       "      <td>37</td>\n",
       "      <td>200</td>\n",
       "      <td>2</td>\n",
       "      <td>717</td>\n",
       "      <td>2021</td>\n",
       "      <td>12</td>\n",
       "      <td>5</td>\n",
       "    </tr>\n",
       "    <tr>\n",
       "      <th>2</th>\n",
       "      <td>LEMONADE 1.5L</td>\n",
       "      <td>66</td>\n",
       "      <td>220</td>\n",
       "      <td>3</td>\n",
       "      <td>470</td>\n",
       "      <td>2021</td>\n",
       "      <td>12</td>\n",
       "      <td>0</td>\n",
       "    </tr>\n",
       "    <tr>\n",
       "      <th>3</th>\n",
       "      <td>GINGER BEER 1.5L</td>\n",
       "      <td>60</td>\n",
       "      <td>220</td>\n",
       "      <td>1</td>\n",
       "      <td>676</td>\n",
       "      <td>2021</td>\n",
       "      <td>10</td>\n",
       "      <td>2</td>\n",
       "    </tr>\n",
       "    <tr>\n",
       "      <th>4</th>\n",
       "      <td>SODA 1L</td>\n",
       "      <td>112</td>\n",
       "      <td>220</td>\n",
       "      <td>3</td>\n",
       "      <td>668</td>\n",
       "      <td>2021</td>\n",
       "      <td>11</td>\n",
       "      <td>0</td>\n",
       "    </tr>\n",
       "  </tbody>\n",
       "</table>\n",
       "</div>"
      ],
      "text/plain": [
       "   item_description shop_id  item_price  quantity_sold  shop_area_sq_ft  year  \\\n",
       "0           SODA 1L      86         110              2              661  2021   \n",
       "1    LEMONADE 500ML      37         200              2              717  2021   \n",
       "2     LEMONADE 1.5L      66         220              3              470  2021   \n",
       "3  GINGER BEER 1.5L      60         220              1              676  2021   \n",
       "4           SODA 1L     112         220              3              668  2021   \n",
       "\n",
       "   month  weekday  \n",
       "0     10        5  \n",
       "1     12        5  \n",
       "2     12        0  \n",
       "3     10        2  \n",
       "4     11        0  "
      ]
     },
     "execution_count": 64,
     "metadata": {},
     "output_type": "execute_result"
    }
   ],
   "source": [
    "X_train.head()"
   ]
  },
  {
   "cell_type": "code",
   "execution_count": 65,
   "metadata": {},
   "outputs": [
    {
     "data": {
      "text/html": [
       "<div>\n",
       "<style scoped>\n",
       "    .dataframe tbody tr th:only-of-type {\n",
       "        vertical-align: middle;\n",
       "    }\n",
       "\n",
       "    .dataframe tbody tr th {\n",
       "        vertical-align: top;\n",
       "    }\n",
       "\n",
       "    .dataframe thead th {\n",
       "        text-align: right;\n",
       "    }\n",
       "</style>\n",
       "<table border=\"1\" class=\"dataframe\">\n",
       "  <thead>\n",
       "    <tr style=\"text-align: right;\">\n",
       "      <th></th>\n",
       "      <th>item_description</th>\n",
       "      <th>shop_id</th>\n",
       "      <th>item_price</th>\n",
       "      <th>quantity_sold</th>\n",
       "      <th>shop_area_sq_ft</th>\n",
       "      <th>year</th>\n",
       "      <th>month</th>\n",
       "      <th>weekday</th>\n",
       "    </tr>\n",
       "  </thead>\n",
       "  <tbody>\n",
       "    <tr>\n",
       "      <th>0</th>\n",
       "      <td>GINGER BEER 1L</td>\n",
       "      <td>10</td>\n",
       "      <td>0.006623</td>\n",
       "      <td>0.019608</td>\n",
       "      <td>-0.129331</td>\n",
       "      <td>2021</td>\n",
       "      <td>12</td>\n",
       "      <td>4</td>\n",
       "    </tr>\n",
       "    <tr>\n",
       "      <th>1</th>\n",
       "      <td>SODA 500ML</td>\n",
       "      <td>127</td>\n",
       "      <td>0.002016</td>\n",
       "      <td>0.019608</td>\n",
       "      <td>1.726061</td>\n",
       "      <td>2021</td>\n",
       "      <td>10</td>\n",
       "      <td>1</td>\n",
       "    </tr>\n",
       "    <tr>\n",
       "      <th>2</th>\n",
       "      <td>GINGER BEER 1.5L</td>\n",
       "      <td>84</td>\n",
       "      <td>0.010654</td>\n",
       "      <td>0.019608</td>\n",
       "      <td>-0.129331</td>\n",
       "      <td>2021</td>\n",
       "      <td>10</td>\n",
       "      <td>1</td>\n",
       "    </tr>\n",
       "    <tr>\n",
       "      <th>3</th>\n",
       "      <td>GINGER BEER 1.5L</td>\n",
       "      <td>17</td>\n",
       "      <td>0.010654</td>\n",
       "      <td>0.019608</td>\n",
       "      <td>-0.129331</td>\n",
       "      <td>2021</td>\n",
       "      <td>12</td>\n",
       "      <td>1</td>\n",
       "    </tr>\n",
       "    <tr>\n",
       "      <th>4</th>\n",
       "      <td>SODA 1L</td>\n",
       "      <td>83</td>\n",
       "      <td>0.004319</td>\n",
       "      <td>0.029412</td>\n",
       "      <td>0.344557</td>\n",
       "      <td>2021</td>\n",
       "      <td>12</td>\n",
       "      <td>1</td>\n",
       "    </tr>\n",
       "  </tbody>\n",
       "</table>\n",
       "</div>"
      ],
      "text/plain": [
       "   item_description shop_id  item_price  quantity_sold  shop_area_sq_ft  year  \\\n",
       "0    GINGER BEER 1L      10    0.006623       0.019608        -0.129331  2021   \n",
       "1        SODA 500ML     127    0.002016       0.019608         1.726061  2021   \n",
       "2  GINGER BEER 1.5L      84    0.010654       0.019608        -0.129331  2021   \n",
       "3  GINGER BEER 1.5L      17    0.010654       0.019608        -0.129331  2021   \n",
       "4           SODA 1L      83    0.004319       0.029412         0.344557  2021   \n",
       "\n",
       "   month  weekday  \n",
       "0     12        4  \n",
       "1     10        1  \n",
       "2     10        1  \n",
       "3     12        1  \n",
       "4     12        1  "
      ]
     },
     "execution_count": 65,
     "metadata": {},
     "output_type": "execute_result"
    }
   ],
   "source": [
    "X_test_scaled.head()"
   ]
  },
  {
   "cell_type": "code",
   "execution_count": 66,
   "metadata": {},
   "outputs": [
    {
     "name": "stdout",
     "output_type": "stream",
     "text": [
      "Scores after standard scaling: \n",
      "RandomForestClassifier()\n",
      "Accuracy: 0.9725934723454155\n",
      "Precision: 0.9726014220383554\n",
      "Recall: 0.9719298436224828\n",
      "F1 Score: 0.9722267578441782\n"
     ]
    }
   ],
   "source": [
    "\n",
    "print(\"Scores after standard scaling: \")\n",
    "score_classification(rfc, X_train_scaled, y_train, X_test_scaled, y_test)"
   ]
  },
  {
   "cell_type": "code",
   "execution_count": 67,
   "metadata": {},
   "outputs": [
    {
     "name": "stdout",
     "output_type": "stream",
     "text": [
      "DecisionTreeClassifier()\n",
      "Accuracy: 1.0\n",
      "Precision: 1.0\n",
      "Recall: 1.0\n",
      "F1 Score: 1.0\n"
     ]
    }
   ],
   "source": [
    "score_classification(dtc, X_train_scaled, y_train, X_test_scaled, y_test)"
   ]
  },
  {
   "cell_type": "code",
   "execution_count": 68,
   "metadata": {},
   "outputs": [],
   "source": [
    "from sklearn.decomposition import PCA\n",
    "\n",
    "def apply_pca(X):\n",
    "  pca= PCA()\n",
    "  df1_x = X.copy()\n",
    "  ct = ColumnTransformer(transformers=[('encoder', OneHotEncoder(handle_unknown='ignore'), [0])], remainder='passthrough')\n",
    "\n",
    "  # One hot encoding for the item_description column\n",
    "\n",
    "  df1_encoded = ct.fit_transform(df1_x[[\"item_description\"]])\n",
    "  df1_x = pd.concat([df1_x.drop(\"item_description\", axis=1).reset_index(drop=True), pd.DataFrame(df1_encoded.toarray())], axis='columns')\n",
    "\n",
    "  df1_x.columns = df1_x.columns.astype(str)\n",
    "\n",
    "  X_pca = pca.fit_transform(df1_x)\n",
    "  component_names = [f\"PC{i+1}\" for i in range(X_pca.shape[1])]\n",
    "  X_pca = pd.DataFrame(X_pca, columns=component_names)\n",
    "  #create loadings\n",
    "  loadings = pd.DataFrame(\n",
    "  pca.components_.T,\n",
    "  columns = component_names,\n",
    "  index=df1_x.columns,\n",
    "  )\n",
    "  return pca, X_pca, loadings\n",
    "\n",
    "def plot_variance(pca, width=8, dpi=100):\n",
    "  fig, axs = plt.subplots(1,2)\n",
    "  n = pca.n_components_\n",
    "  grid = np.arange(1, n+1)\n",
    "  evr = pca.explained_variance_ratio_\n",
    "  axs[0].bar(grid,evr)\n",
    "  axs[0].set(\n",
    "      xlabel=\"Component\",title=\"% Explained Variance\", ylim=(0.0,1.0)             )\n",
    "  #Cumulative Variance\n",
    "  cv = np.cumsum(evr)\n",
    "  axs[1].plot(np.r_[0,grid], np.r_[0,cv], \"o-\")\n",
    "  axs[1].set(xlabel=\"Component\", title=\"% Cumulatve Variance\", ylim=(0.0, 1.0))\n",
    "  fig.set(figwidth=8, dpi=100)\n",
    "  return axs"
   ]
  },
  {
   "cell_type": "code",
   "execution_count": 69,
   "metadata": {},
   "outputs": [
    {
     "name": "stdout",
     "output_type": "stream",
     "text": [
      "                          PC1           PC2           PC3           PC4  \\\n",
      "shop_id          9.999996e-01  4.073305e-04  7.770663e-04  1.847195e-05   \n",
      "item_price       2.802110e-06  7.253940e-07 -1.116153e-04 -4.562880e-04   \n",
      "quantity_sold    4.081165e-06  6.533448e-05  8.778209e-05 -7.046554e-05   \n",
      "shop_area_sq_ft -7.745281e-04 -5.647505e-03  9.997760e-01 -1.372293e-02   \n",
      "year            -0.000000e+00  0.000000e+00 -1.040834e-17  1.110223e-16   \n",
      "month            3.023641e-05  1.075261e-02 -1.319957e-02 -9.926971e-01   \n",
      "weekday          4.123251e-04 -9.999185e-01 -5.787727e-03 -1.030803e-02   \n",
      "0                3.538831e-05  4.065901e-04  2.313522e-04 -3.373090e-04   \n",
      "1                4.678739e-05  7.371814e-04  5.253566e-03 -7.205063e-04   \n",
      "2               -3.081842e-07  6.253379e-06 -2.643098e-05 -1.290928e-04   \n",
      "3               -2.438773e-05 -4.966977e-04 -4.258894e-03 -1.167124e-02   \n",
      "4               -9.818816e-06 -8.160396e-05  1.024362e-03  1.031647e-04   \n",
      "5               -4.283437e-05  2.398064e-04 -1.909636e-03  1.460061e-05   \n",
      "6                1.786125e-05  4.895940e-04 -1.408149e-04  3.680374e-03   \n",
      "7                3.017078e-06 -5.510573e-05  1.109068e-03  1.842968e-03   \n",
      "8                1.364733e-05  2.083726e-04  5.491961e-05  1.323190e-02   \n",
      "9                2.286641e-05  4.519836e-04 -2.495749e-04  1.285608e-03   \n",
      "10               1.293869e-05 -1.030501e-04 -4.656347e-04  2.342377e-04   \n",
      "11               1.061697e-05  4.798226e-04 -3.880432e-05  2.127288e-03   \n",
      "12               3.556176e-05 -1.812962e-04  1.500316e-04 -4.218777e-03   \n",
      "13               1.351037e-06  8.805991e-04  2.148323e-05  1.046535e-03   \n",
      "14              -6.899396e-05 -1.686603e-03 -4.963497e-03 -7.197107e-02   \n",
      "15               1.405676e-06  2.311599e-04  5.041203e-03  5.648927e-03   \n",
      "16              -5.864270e-06  3.455872e-04  4.376897e-04  5.841699e-04   \n",
      "17              -1.104536e-05  5.699796e-04 -9.338939e-04  1.061650e-03   \n",
      "18               5.027136e-06  1.464174e-04 -1.387558e-03  2.448628e-03   \n",
      "19              -3.858978e-06  1.075654e-04 -4.510499e-04  6.045637e-04   \n",
      "20               1.050109e-05 -1.212255e-03 -9.235198e-04 -6.493310e-03   \n",
      "21               8.225227e-07 -5.679169e-05  3.784296e-04  4.579316e-03   \n",
      "22              -1.838659e-05  2.375788e-04 -1.503294e-04  9.705223e-04   \n",
      "23              -4.219678e-07 -9.742836e-06  1.440344e-04 -1.077429e-04   \n",
      "24               3.676737e-05 -9.298779e-04 -6.816122e-03 -5.129592e-02   \n",
      "25              -6.483377e-07  5.305698e-05  3.372782e-04  3.926869e-04   \n",
      "26              -5.571255e-06  6.791924e-05 -5.169237e-04  9.411429e-04   \n",
      "27               3.005546e-05  1.513762e-03 -4.073471e-03  7.613078e-02   \n",
      "28              -1.883709e-05 -5.784458e-04 -9.364551e-04  2.281469e-03   \n",
      "29              -2.152330e-07  5.486880e-05  3.120271e-04 -5.688092e-04   \n",
      "30              -8.420810e-06  2.279666e-04 -6.214901e-04 -9.554362e-05   \n",
      "31              -1.811086e-06 -1.180137e-03  4.708934e-03  5.422762e-03   \n",
      "32              -4.506076e-05 -2.033675e-04  1.841618e-03  5.116467e-03   \n",
      "33              -2.565203e-05 -1.361563e-03  4.870736e-03  6.165538e-03   \n",
      "34               2.456692e-05  8.784116e-04 -1.226056e-03 -1.135603e-03   \n",
      "35              -2.406326e-05 -3.866045e-04  4.210068e-03  4.288307e-03   \n",
      "36               7.017697e-06  1.886663e-04 -3.664514e-05  8.541318e-03   \n",
      "\n",
      "                          PC5           PC6           PC7           PC8  \\\n",
      "shop_id          6.793972e-05  4.879489e-05 -3.662287e-05 -1.412213e-05   \n",
      "item_price       2.169257e-03  5.271626e-03  7.225771e-03  4.353989e-03   \n",
      "quantity_sold   -1.857501e-03 -1.424513e-03 -2.443187e-03 -1.013887e-03   \n",
      "shop_area_sq_ft  2.774049e-03  4.469073e-03  8.479089e-03  5.088416e-03   \n",
      "year            -1.110223e-16  2.775558e-17  2.844947e-16 -8.326673e-17   \n",
      "month           -6.491294e-02 -2.817762e-02  5.033956e-02 -7.710169e-02   \n",
      "weekday         -2.129104e-03 -1.109417e-03  1.663389e-03 -2.271078e-03   \n",
      "0               -1.909056e-02 -2.735508e-02 -2.399864e-02 -1.531330e-02   \n",
      "1               -4.105898e-02 -6.782217e-02 -1.107951e-01 -8.523015e-02   \n",
      "2               -9.946654e-05 -1.032877e-04  2.384565e-05 -1.600192e-04   \n",
      "3               -2.560017e-01  9.401288e-01  6.112270e-02  4.588950e-02   \n",
      "4               -7.129869e-03 -9.544323e-03 -6.936918e-03 -3.901551e-03   \n",
      "5               -4.436732e-02 -7.550220e-02 -1.530803e-01 -1.232278e-01   \n",
      "6               -2.471411e-02 -3.817624e-02 -4.562088e-02 -1.682537e-02   \n",
      "7               -1.128564e-02 -1.593208e-02 -1.426009e-02 -4.967513e-03   \n",
      "8               -8.737352e-03 -1.523831e-02 -2.651908e-02  1.045307e-02   \n",
      "9               -1.220717e-02 -1.720221e-02 -1.523833e-02 -6.516021e-03   \n",
      "10              -1.419218e-02 -1.986784e-02 -1.655079e-02 -9.527366e-03   \n",
      "11              -1.459773e-02 -2.104269e-02 -2.007252e-02 -7.452054e-03   \n",
      "12              -4.022045e-02 -6.420820e-02 -8.523037e-02 -8.631824e-02   \n",
      "13              -2.037991e-02 -2.989999e-02 -2.910008e-02 -1.488123e-02   \n",
      "14               9.517645e-01  2.076885e-01  3.007537e-02  5.256994e-02   \n",
      "15              -3.148045e-02 -5.137804e-02 -7.687172e-02 -2.417625e-02   \n",
      "16              -5.825819e-03 -7.873551e-03 -6.195491e-03 -2.631592e-03   \n",
      "17              -2.697271e-02 -4.118688e-02 -4.595812e-02 -2.542185e-02   \n",
      "18              -1.089477e-02 -1.557988e-02 -1.499611e-02 -4.374901e-03   \n",
      "19              -4.235755e-03 -5.721823e-03 -4.633336e-03 -1.804242e-03   \n",
      "20              -3.502770e-02 -5.281549e-02 -5.058352e-02 -6.177389e-02   \n",
      "21              -2.675689e-03 -4.463062e-03 -6.916465e-03  2.850613e-03   \n",
      "22              -1.285585e-02 -1.806471e-02 -1.556841e-02 -7.362788e-03   \n",
      "23              -1.128461e-04 -1.208336e-04  1.824715e-05 -1.307896e-04   \n",
      "24              -8.511847e-02 -1.416716e-01  2.542770e-01  9.130308e-01   \n",
      "25              -2.823616e-03 -3.766299e-03 -2.904454e-03 -1.106144e-03   \n",
      "26              -6.858233e-03 -9.399541e-03 -7.833675e-03 -3.093909e-03   \n",
      "27              -3.085546e-02 -1.013490e-01  9.040587e-01 -3.305372e-01   \n",
      "28              -1.645952e-02 -2.394694e-02 -2.330523e-02 -9.220941e-03   \n",
      "29              -3.188328e-03 -4.048929e-03 -2.330229e-03 -2.174977e-03   \n",
      "30              -9.109195e-03 -1.232996e-02 -9.328575e-03 -5.684195e-03   \n",
      "31              -2.962972e-02 -4.765673e-02 -6.645160e-02 -2.105257e-02   \n",
      "32              -4.239181e-02 -7.398001e-02 -1.714519e-01 -8.561221e-02   \n",
      "33              -3.691676e-02 -6.249744e-02 -1.142611e-01 -4.120861e-02   \n",
      "34              -1.121117e-02 -1.513326e-02 -1.097990e-02 -8.481199e-03   \n",
      "35              -2.832070e-02 -4.474902e-02 -5.771908e-02 -2.066612e-02   \n",
      "36              -4.717479e-03 -8.189702e-03 -1.388375e-02  6.041044e-03   \n",
      "\n",
      "                          PC9          PC10  ...          PC35          PC36  \\\n",
      "shop_id          5.503116e-06  7.459313e-05  ...  3.886874e-06 -2.325810e-06   \n",
      "item_price      -7.272709e-04 -3.611279e-03  ... -3.665033e-03 -1.997001e-03   \n",
      "quantity_sold    2.520355e-03 -3.678806e-03  ... -3.045486e-03 -2.005913e-03   \n",
      "shop_area_sq_ft -2.108164e-03  5.478683e-03  ...  3.273381e-04 -4.749455e-04   \n",
      "year            -1.955033e-15  3.053113e-16  ...  1.228184e-15 -6.904199e-16   \n",
      "month            6.243412e-03  2.139518e-04  ...  1.222812e-03  4.369038e-03   \n",
      "weekday         -1.556090e-04  9.178394e-05  ...  3.103639e-05 -5.631730e-05   \n",
      "0               -1.572994e-03 -1.619877e-02  ... -3.652258e-02 -2.018520e-02   \n",
      "1               -2.985790e-02 -4.493132e-01  ... -3.128027e-02 -1.744282e-02   \n",
      "2                1.038786e-05 -3.236015e-05  ...  3.768068e-04  2.867095e-04   \n",
      "3                1.832434e-03  2.538237e-02  ... -2.832894e-02 -1.626109e-02   \n",
      "4               -5.130595e-04 -3.997115e-03  ... -7.581260e-02 -3.763797e-02   \n",
      "5               -6.477378e-01  6.431321e-01  ... -3.093287e-02 -1.736685e-02   \n",
      "6               -4.094995e-03 -3.223017e-02  ... -3.349128e-02 -1.828727e-02   \n",
      "7               -1.152983e-03 -7.745568e-03  ... -4.467891e-02 -2.358869e-02   \n",
      "8               -2.856286e-03 -9.329061e-03  ... -4.118530e-02 -1.967242e-02   \n",
      "9               -1.009927e-03 -8.636810e-03  ... -4.319845e-02 -2.315358e-02   \n",
      "10              -1.046669e-03 -1.034935e-02  ... -4.069072e-02 -2.217564e-02   \n",
      "11              -1.463653e-03 -1.151380e-02  ... -3.929865e-02 -2.116609e-02   \n",
      "12              -1.075551e-02 -1.833297e-01  ... -3.153006e-02 -1.789513e-02   \n",
      "13              -2.091580e-03 -1.947837e-02  ... -3.546907e-02 -1.951447e-02   \n",
      "14               1.572387e-05  1.974532e-02  ... -2.787288e-02 -1.665204e-02   \n",
      "15              -1.143474e-02 -7.439660e-02  ... -3.197794e-02 -1.732816e-02   \n",
      "16              -4.321763e-04 -3.329051e-03  ... -1.123931e-01 -5.099567e-02   \n",
      "17              -3.663777e-03 -3.695313e-02  ... -3.326029e-02 -1.845382e-02   \n",
      "18              -1.003984e-03 -8.002065e-03  ... -4.520367e-02 -2.387214e-02   \n",
      "19              -2.788653e-04 -2.448972e-03  ...  9.221531e-01 -3.247319e-01   \n",
      "20              -3.088561e-03 -6.406850e-02  ... -3.244869e-02 -1.860046e-02   \n",
      "21              -7.268939e-04 -2.165477e-03  ...  2.801521e-01  9.350991e-01   \n",
      "22              -1.058859e-03 -9.251446e-03  ... -4.233129e-02 -2.282492e-02   \n",
      "23              -2.253566e-06 -2.134544e-05  ...  5.347329e-04  3.521512e-04   \n",
      "24              -1.249223e-02  7.211834e-02  ... -3.072399e-02 -1.965094e-02   \n",
      "25              -2.157675e-04 -1.480573e-03  ...  5.156197e-02  3.645347e-02   \n",
      "26              -4.979964e-04 -4.228608e-03  ... -7.613274e-02 -3.753808e-02   \n",
      "27               2.616351e-02  5.778939e-02  ... -2.863252e-02 -1.298566e-02   \n",
      "28              -1.731685e-03 -1.414433e-02  ... -3.759105e-02 -2.036791e-02   \n",
      "29              -1.214915e-04 -1.512227e-03  ...  5.501688e-02  4.073937e-02   \n",
      "30              -5.065140e-04 -5.660412e-03  ... -5.575059e-02 -2.940091e-02   \n",
      "31              -9.084670e-03 -5.664053e-02  ... -3.230386e-02 -1.746448e-02   \n",
      "32               7.598631e-01  5.150975e-01  ... -3.082816e-02 -1.693973e-02   \n",
      "33              -2.845742e-02 -2.384980e-01  ... -3.125485e-02 -1.697536e-02   \n",
      "34              -4.265666e-04 -7.150380e-03  ... -4.785979e-02 -2.609031e-02   \n",
      "35              -7.068351e-03 -4.672158e-02  ... -3.256718e-02 -1.768812e-02   \n",
      "36              -1.439031e-03 -4.437556e-03  ... -6.824324e-02 -3.002290e-02   \n",
      "\n",
      "                         PC37          PC38          PC39          PC40  \\\n",
      "shop_id          4.315784e-07  3.599714e-07 -4.308697e-06  3.704236e-07   \n",
      "item_price      -1.188199e-03 -6.156237e-04  4.307099e-01  2.564917e-02   \n",
      "quantity_sold   -3.169342e-03 -1.249136e-03  9.021998e-01 -2.093222e-02   \n",
      "shop_area_sq_ft -4.345022e-04 -1.082572e-04 -4.266562e-06 -1.439121e-04   \n",
      "year            -1.994932e-15 -2.442057e-15  1.214306e-15  9.956012e-15   \n",
      "month           -1.421315e-03  5.223674e-04 -2.428379e-04 -1.556526e-04   \n",
      "weekday          1.908083e-05  1.430935e-05  5.646946e-05 -1.122562e-05   \n",
      "0               -3.395563e-02 -7.802650e-03 -7.371670e-05 -2.962851e-02   \n",
      "1               -3.064309e-02 -7.073567e-03 -4.569794e-03 -2.936831e-02   \n",
      "2                5.188264e-04  1.426389e-04  1.303106e-02  6.426140e-02   \n",
      "3               -2.868305e-02 -6.693138e-03 -2.367850e-03 -2.981769e-02   \n",
      "4               -5.020204e-02 -1.122094e-02  2.386014e-03 -3.001400e-02   \n",
      "5               -3.058476e-02 -7.059240e-03  2.812499e-03 -2.964972e-02   \n",
      "6               -3.238542e-02 -7.378420e-03  1.034844e-03 -2.978809e-02   \n",
      "7               -3.854420e-02 -8.690912e-03 -3.936250e-03 -2.991963e-02   \n",
      "8               -3.803122e-02 -8.133619e-03 -2.095944e-03 -3.017820e-02   \n",
      "9               -3.777425e-02 -8.561225e-03 -2.801690e-03 -2.965599e-02   \n",
      "10              -3.638655e-02 -8.308160e-03 -2.524019e-03 -3.009678e-02   \n",
      "11              -3.575196e-02 -8.106448e-03 -3.566208e-03 -2.961466e-02   \n",
      "12              -3.079268e-02 -7.158416e-03 -3.840040e-03 -2.999114e-02   \n",
      "13              -3.343691e-02 -7.650744e-03 -4.350571e-03 -2.956167e-02   \n",
      "14              -2.796421e-02 -6.677658e-03 -7.293664e-04 -2.976326e-02   \n",
      "15              -3.137494e-02 -7.138869e-03  2.481196e-03 -2.974451e-02   \n",
      "16              -5.890029e-02 -1.292975e-02  1.388031e-03 -3.000570e-02   \n",
      "17              -3.211372e-02 -7.373469e-03  2.074706e-03 -2.968304e-02   \n",
      "18              -3.901600e-02 -8.772124e-03  1.439957e-03 -2.978502e-02   \n",
      "19              -9.738249e-02 -2.017280e-02  2.621230e-03 -3.022519e-02   \n",
      "20              -3.127094e-02 -7.314344e-03  2.321085e-04 -2.985507e-02   \n",
      "21              -1.178852e-01 -2.243086e-02  3.082628e-03 -3.031707e-02   \n",
      "22              -3.730347e-02 -8.478592e-03  2.876685e-03 -2.978655e-02   \n",
      "23               7.374137e-04  1.923739e-04  6.544946e-03  9.815907e-01   \n",
      "24              -2.912022e-02 -7.246258e-03 -2.179532e-03 -2.978094e-02   \n",
      "25               5.135375e-01  8.381148e-01  2.842328e-03 -3.055566e-02   \n",
      "26              -5.065438e-02 -1.124368e-02  3.092380e-03 -2.996344e-02   \n",
      "27              -3.099035e-02 -6.446683e-03 -1.541703e-03 -2.997502e-02   \n",
      "28              -3.485356e-02 -7.918438e-03 -3.502685e-04 -2.995515e-02   \n",
      "29               8.190516e-01 -5.426907e-01  1.982200e-03 -3.051318e-02   \n",
      "30              -4.336957e-02 -9.818341e-03  2.498529e-03 -2.987201e-02   \n",
      "31              -3.158692e-02 -7.183547e-03  1.274860e-03 -2.967366e-02   \n",
      "32              -3.062690e-02 -7.000085e-03 -5.465431e-04 -2.955343e-02   \n",
      "33              -3.092043e-02 -7.039330e-03 -2.918130e-03 -2.975997e-02   \n",
      "34              -3.980118e-02 -9.110421e-03 -4.295796e-03 -2.969962e-02   \n",
      "35              -3.172455e-02 -7.220319e-03 -9.104008e-03 -2.979138e-02   \n",
      "36              -4.981434e-02 -1.040602e-02 -1.904769e-03 -3.030884e-02   \n",
      "\n",
      "                         PC41          PC42          PC43          PC44  \n",
      "shop_id          3.889186e-07 -8.944822e-07 -0.000000e+00  0.000000e+00  \n",
      "item_price      -1.850923e-02  9.015006e-01 -7.582435e-13  1.184621e-14  \n",
      "quantity_sold   -5.257237e-03 -4.304175e-01  3.995653e-13 -6.266595e-15  \n",
      "shop_area_sq_ft  3.566124e-05  1.461171e-05  5.200993e-17  4.634706e-18  \n",
      "year             9.851928e-15 -2.866631e-14 -4.886962e-02 -9.988052e-01  \n",
      "month           -1.460604e-04 -1.794268e-04 -7.877092e-17  1.980335e-17  \n",
      "weekday          3.374874e-06  1.586463e-05 -6.287856e-18  5.603531e-19  \n",
      "0               -2.552933e-02  5.628610e-03 -1.642026e-01  8.034115e-03  \n",
      "1               -2.549405e-02  9.851494e-03 -1.642026e-01  8.034115e-03  \n",
      "2                9.841367e-01  1.215717e-02 -1.642026e-01  8.034115e-03  \n",
      "3               -2.526528e-02 -4.724808e-03 -1.642026e-01  8.034115e-03  \n",
      "4               -2.562944e-02  7.537370e-04 -1.642026e-01  8.034115e-03  \n",
      "5               -2.548779e-02  3.520495e-03 -1.642026e-01  8.034115e-03  \n",
      "6               -2.545561e-02  2.761127e-04 -1.642026e-01  8.034115e-03  \n",
      "7               -2.543681e-02 -1.763968e-03 -1.642026e-01  8.034115e-03  \n",
      "8               -2.542023e-02 -7.685696e-03 -1.642026e-01  8.034115e-03  \n",
      "9               -2.555749e-02  6.606991e-03 -1.642026e-01  8.034115e-03  \n",
      "10              -2.533163e-02 -7.849161e-03 -1.642026e-01  8.034115e-03  \n",
      "11              -2.552972e-02  6.617937e-03 -1.642026e-01  8.034115e-03  \n",
      "12              -2.522219e-02 -8.892525e-03 -1.642026e-01  8.034115e-03  \n",
      "13              -2.548507e-02  6.512692e-03 -1.642026e-01  8.034115e-03  \n",
      "14              -2.526489e-02 -3.919774e-03 -1.642026e-01  8.034115e-03  \n",
      "15              -2.547497e-02  7.062239e-04 -1.642026e-01  8.034115e-03  \n",
      "16              -2.569872e-02  3.372235e-03 -1.642026e-01  8.034115e-03  \n",
      "17              -2.550287e-02  3.481417e-03 -1.642026e-01  8.034115e-03  \n",
      "18              -2.559852e-02  4.711997e-03 -1.642026e-01  8.034115e-03  \n",
      "19              -2.579412e-02  2.445349e-03 -1.642026e-01  8.034115e-03  \n",
      "20              -2.535212e-02 -3.451158e-03 -1.642026e-01  8.034115e-03  \n",
      "21              -2.589572e-02  2.376886e-03 -1.642026e-01  8.034115e-03  \n",
      "22              -2.557721e-02  3.535109e-03 -1.642026e-01  8.034115e-03  \n",
      "23              -9.123896e-02 -3.292016e-02 -1.642026e-01  8.034115e-03  \n",
      "24              -2.521122e-02 -4.559433e-03 -1.642026e-01  8.034115e-03  \n",
      "25              -2.595459e-02  7.535909e-04 -1.642026e-01  8.034115e-03  \n",
      "26              -2.568170e-02  3.543689e-03 -1.642026e-01  8.034115e-03  \n",
      "27              -2.542286e-02 -4.362681e-03 -1.642026e-01  8.034115e-03  \n",
      "28              -2.541026e-02 -3.601298e-03 -1.642026e-01  8.034115e-03  \n",
      "29              -2.590936e-02  6.436549e-04 -1.642026e-01  8.034115e-03  \n",
      "30              -2.561826e-02  3.556354e-03 -1.642026e-01  8.034115e-03  \n",
      "31              -2.549281e-02  2.719145e-03 -1.642026e-01  8.034115e-03  \n",
      "32              -2.548930e-02  5.617318e-03 -1.642026e-01  8.034115e-03  \n",
      "33              -2.536923e-02 -1.405955e-03 -1.642026e-01  8.034115e-03  \n",
      "34              -2.552991e-02  5.856864e-03 -1.642026e-01  8.034115e-03  \n",
      "35              -2.527335e-02 -3.311715e-03 -1.642026e-01  8.034115e-03  \n",
      "36              -2.553110e-02 -6.796738e-03 -1.642026e-01  8.034115e-03  \n",
      "\n",
      "[44 rows x 44 columns]\n"
     ]
    }
   ],
   "source": [
    "pca, X_pca, loadings = apply_pca(X_train_scaled)\n",
    "print(loadings)"
   ]
  },
  {
   "cell_type": "code",
   "execution_count": 70,
   "metadata": {},
   "outputs": [],
   "source": [
    "# create new features\n",
    "X_train_scaled[\"total_revenue\"] = X_train_scaled[\"item_price\"] * X_train_scaled[\"quantity_sold\"]\n",
    "X_test_scaled[\"total_revenue\"] = X_test_scaled[\"item_price\"] * X_test_scaled[\"quantity_sold\"]\n",
    "\n",
    "X_train_scaled.drop([\"item_price\", \"quantity_sold\"], axis=1, inplace=True)\n",
    "X_test_scaled.drop([\"item_price\", \"quantity_sold\"], axis=1, inplace=True)"
   ]
  },
  {
   "cell_type": "code",
   "execution_count": 71,
   "metadata": {},
   "outputs": [
    {
     "data": {
      "text/plain": [
       "PC1     1.092137\n",
       "PC3     0.922310\n",
       "PC2     0.813435\n",
       "PC4     0.705458\n",
       "PC20    0.526378\n",
       "PC5     0.520097\n",
       "PC10    0.517198\n",
       "PC8     0.503522\n",
       "PC18    0.498645\n",
       "PC23    0.492386\n",
       "PC14    0.489111\n",
       "PC28    0.488910\n",
       "PC33    0.484306\n",
       "PC22    0.483800\n",
       "PC17    0.480447\n",
       "PC13    0.477267\n",
       "PC35    0.476823\n",
       "PC19    0.476669\n",
       "PC15    0.475994\n",
       "PC24    0.475980\n",
       "PC42    0.475768\n",
       "PC6     0.472891\n",
       "PC36    0.472135\n",
       "PC7     0.471602\n",
       "PC21    0.470641\n",
       "PC11    0.468679\n",
       "PC16    0.467102\n",
       "PC9     0.466920\n",
       "PC31    0.466909\n",
       "PC29    0.465286\n",
       "PC30    0.464821\n",
       "PC12    0.464109\n",
       "PC37    0.463963\n",
       "PC38    0.462273\n",
       "PC26    0.460995\n",
       "PC39    0.460308\n",
       "PC41    0.458861\n",
       "PC40    0.458275\n",
       "PC34    0.457402\n",
       "PC27    0.455995\n",
       "PC32    0.455208\n",
       "PC25    0.454391\n",
       "PC43    0.451809\n",
       "PC44    0.449076\n",
       "Name: Mutual Information Scores, dtype: float64"
      ]
     },
     "execution_count": 71,
     "metadata": {},
     "output_type": "execute_result"
    }
   ],
   "source": [
    "mi_scores = make_mi_scores(X_pca, y_train)\n",
    "mi_scores"
   ]
  },
  {
   "cell_type": "code",
   "execution_count": 73,
   "metadata": {},
   "outputs": [
    {
     "name": "stdout",
     "output_type": "stream",
     "text": [
      "RandomForestClassifier()\n",
      "Accuracy: 0.9844100004510126\n",
      "Precision: 0.9844297452502767\n",
      "Recall: 0.983946376473872\n",
      "F1 Score: 0.9841679944336\n"
     ]
    }
   ],
   "source": [
    "# prepare data from model\n",
    "score_classification(rfc, X_train_scaled, y_train, X_test_scaled, y_test)"
   ]
  },
  {
   "cell_type": "code",
   "execution_count": 74,
   "metadata": {},
   "outputs": [
    {
     "name": "stdout",
     "output_type": "stream",
     "text": [
      "DecisionTreeClassifier()\n",
      "Accuracy: 1.0\n",
      "Precision: 1.0\n",
      "Recall: 1.0\n",
      "F1 Score: 1.0\n"
     ]
    }
   ],
   "source": [
    "score_classification(dtc, X_train_scaled, y_train, X_test_scaled, y_test)"
   ]
  }
 ],
 "metadata": {
  "kernelspec": {
   "display_name": "base",
   "language": "python",
   "name": "python3"
  },
  "language_info": {
   "codemirror_mode": {
    "name": "ipython",
    "version": 3
   },
   "file_extension": ".py",
   "mimetype": "text/x-python",
   "name": "python",
   "nbconvert_exporter": "python",
   "pygments_lexer": "ipython3",
   "version": "3.9.13"
  },
  "orig_nbformat": 4
 },
 "nbformat": 4,
 "nbformat_minor": 2
}
