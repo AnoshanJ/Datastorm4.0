{
 "cells": [
  {
   "attachments": {},
   "cell_type": "markdown",
   "metadata": {},
   "source": [
    "# Preliminaries"
   ]
  },
  {
   "cell_type": "code",
   "execution_count": 522,
   "metadata": {},
   "outputs": [],
   "source": [
    "import numpy as np\n",
    "import pandas as pd\n",
    "import seaborn as sns\n",
    "import matplotlib.pyplot as plt\n",
    "import warnings"
   ]
  },
  {
   "cell_type": "code",
   "execution_count": 523,
   "metadata": {},
   "outputs": [],
   "source": [
    "# Set Matplotlib defaults\n",
    "plt.style.use(\"seaborn-whitegrid\")\n",
    "plt.rc(\"figure\", autolayout=True)\n",
    "plt.rc(\n",
    "    \"axes\",\n",
    "    labelweight=\"bold\",\n",
    "    labelsize=\"large\",\n",
    "    titleweight=\"bold\",\n",
    "    titlesize=14,\n",
    "    titlepad=10,\n",
    ")\n",
    "\n",
    "warnings.filterwarnings('ignore')"
   ]
  },
  {
   "attachments": {},
   "cell_type": "markdown",
   "metadata": {},
   "source": [
    "Import the data"
   ]
  },
  {
   "cell_type": "code",
   "execution_count": 524,
   "metadata": {},
   "outputs": [],
   "source": [
    "path = \"../Datasets/\"\n",
    "Train = pd.read_csv(path + '/Historical-transaction-data.csv')\n",
    "StoreInfo = pd.read_csv(path + '/Store-info.csv')\n",
    "Submission_testing = pd.read_csv(path + '/Testing-data.csv')"
   ]
  },
  {
   "attachments": {},
   "cell_type": "markdown",
   "metadata": {},
   "source": [
    "Join both datasets to form a train dataset"
   ]
  },
  {
   "cell_type": "code",
   "execution_count": 525,
   "metadata": {},
   "outputs": [],
   "source": [
    "Train = Train.merge(StoreInfo, on='shop_id', how='left')"
   ]
  },
  {
   "cell_type": "code",
   "execution_count": 526,
   "metadata": {},
   "outputs": [],
   "source": [
    "Submission_testing.drop(\"shop_profile\", axis=1, inplace=True)\n",
    "# Submission_testing = Submission_testing.merge(StoreInfo, on='shop_id', how='left')\n",
    "# Submission_testing.drop(\"shop_profile\", axis=1, inplace=True)\n",
    "Submission_testing = Submission_testing.merge(Train, on='shop_id', how='left')"
   ]
  },
  {
   "cell_type": "code",
   "execution_count": 527,
   "metadata": {},
   "outputs": [],
   "source": [
    "Submission_testing.drop(\"shop_profile\", axis=1, inplace=True)"
   ]
  },
  {
   "cell_type": "code",
   "execution_count": 528,
   "metadata": {},
   "outputs": [],
   "source": [
    "# Train.head()"
   ]
  },
  {
   "cell_type": "code",
   "execution_count": 529,
   "metadata": {},
   "outputs": [],
   "source": [
    "# Submission_testing.head()"
   ]
  },
  {
   "cell_type": "code",
   "execution_count": 530,
   "metadata": {},
   "outputs": [
    {
     "name": "stdout",
     "output_type": "stream",
     "text": [
      "New length:  473974\n"
     ]
    }
   ],
   "source": [
    "print(\"New length: \", Train.shape[0])"
   ]
  },
  {
   "attachments": {},
   "cell_type": "markdown",
   "metadata": {},
   "source": [
    "Remove Duplicates"
   ]
  },
  {
   "cell_type": "code",
   "execution_count": 531,
   "metadata": {},
   "outputs": [],
   "source": [
    "i_length = Train.shape[0]"
   ]
  },
  {
   "cell_type": "code",
   "execution_count": 532,
   "metadata": {},
   "outputs": [],
   "source": [
    "Train.drop_duplicates(inplace=True)"
   ]
  },
  {
   "cell_type": "code",
   "execution_count": 533,
   "metadata": {},
   "outputs": [
    {
     "name": "stdout",
     "output_type": "stream",
     "text": [
      "Duplicates dropped from Train:  31211\n",
      "New length:  442763\n"
     ]
    }
   ],
   "source": [
    "\n",
    "print(\"Duplicates dropped from Train: \", i_length - Train.shape[0] )\n",
    "print(\"New length: \", Train.shape[0])"
   ]
  },
  {
   "attachments": {},
   "cell_type": "markdown",
   "metadata": {},
   "source": [
    "# Analysis"
   ]
  },
  {
   "attachments": {},
   "cell_type": "markdown",
   "metadata": {},
   "source": [
    "Missing data"
   ]
  },
  {
   "cell_type": "code",
   "execution_count": 534,
   "metadata": {},
   "outputs": [],
   "source": [
    "# plt.figure(figsize=(10,8))\n",
    "# cols = Train.columns\n",
    "# colours = ['#000099', '#ffff00'] # specify colours: yellow - missing. blue - not missing\n",
    "# sns.heatmap(Train[cols].isna(), cmap=sns.color_palette(colours))"
   ]
  },
  {
   "cell_type": "code",
   "execution_count": 535,
   "metadata": {},
   "outputs": [],
   "source": [
    "# # No. of columns missing for the rows\n",
    "# missing_by_row = Train.isna().sum(axis=\"columns\")\n",
    "# missing_by_row.hist(bins=100)"
   ]
  },
  {
   "cell_type": "code",
   "execution_count": 536,
   "metadata": {},
   "outputs": [
    {
     "data": {
      "text/plain": [
       "item_description    0.079198\n",
       "transaction_date    0.000000\n",
       "invoice_id          0.013030\n",
       "customer_id         0.000000\n",
       "shop_id             0.000000\n",
       "item_price          0.000000\n",
       "quantity_sold       0.000000\n",
       "shop_area_sq_ft     0.000000\n",
       "shop_profile        0.183565\n",
       "dtype: float64"
      ]
     },
     "execution_count": 536,
     "metadata": {},
     "output_type": "execute_result"
    }
   ],
   "source": [
    "pct_missing = Train.isna().mean()\n",
    "pct_missing[:15]"
   ]
  },
  {
   "cell_type": "code",
   "execution_count": 537,
   "metadata": {},
   "outputs": [],
   "source": [
    "#Remove rows with null values for item_description or shop_profile\n",
    "Train = Train.dropna(subset=['item_description', 'shop_profile'], axis=0)"
   ]
  },
  {
   "cell_type": "code",
   "execution_count": 538,
   "metadata": {},
   "outputs": [],
   "source": [
    "# Train.info()"
   ]
  },
  {
   "cell_type": "code",
   "execution_count": 539,
   "metadata": {},
   "outputs": [
    {
     "name": "stdout",
     "output_type": "stream",
     "text": [
      "New length:  332581\n"
     ]
    }
   ],
   "source": [
    "print(\"New length: \", Train.shape[0])"
   ]
  },
  {
   "attachments": {},
   "cell_type": "markdown",
   "metadata": {},
   "source": [
    "Fill Missing Values"
   ]
  },
  {
   "cell_type": "code",
   "execution_count": 540,
   "metadata": {},
   "outputs": [],
   "source": [
    "# Train.info()"
   ]
  },
  {
   "attachments": {},
   "cell_type": "markdown",
   "metadata": {},
   "source": [
    "Encoding"
   ]
  },
  {
   "cell_type": "code",
   "execution_count": 541,
   "metadata": {},
   "outputs": [],
   "source": [
    "# Set the data types of each feature\n",
    "\n",
    "# The nominative (unordered) categorical features\n",
    "features_nom = [\"item_description\", \"customer_id\", \"shop_id\", \"shop_profile\"]\n",
    "\n",
    "for feature in features_nom:\n",
    "    Train[feature] = Train[feature].astype(\"category\")\n",
    "    if feature == \"shop_profile\":\n",
    "        continue\n",
    "    Submission_testing[feature] = Submission_testing[feature].astype(\"category\")\n",
    "\n",
    "Train[\"transaction_date\"] = pd.to_datetime(Train[\"transaction_date\"])"
   ]
  },
  {
   "cell_type": "code",
   "execution_count": 542,
   "metadata": {},
   "outputs": [],
   "source": [
    "Train_y = Train[\"shop_profile\"]\n",
    "Train.drop(\"shop_profile\", axis=1, inplace=True)"
   ]
  },
  {
   "cell_type": "code",
   "execution_count": 543,
   "metadata": {},
   "outputs": [],
   "source": [
    "# Train.info()"
   ]
  },
  {
   "cell_type": "code",
   "execution_count": 544,
   "metadata": {},
   "outputs": [],
   "source": [
    "Train.drop([\"invoice_id\", \"customer_id\"], axis=1, inplace=True)\n",
    "Submission_testing.drop([\"invoice_id\", \"customer_id\"], axis=1, inplace=True)"
   ]
  },
  {
   "cell_type": "code",
   "execution_count": 545,
   "metadata": {},
   "outputs": [],
   "source": [
    "# # creating mask\n",
    "# mask = np.triu(np.ones_like(Train.corr()))\n",
    " \n",
    "# # plotting a triangle correlation heatmap\n",
    "# dataplot = sns.heatmap(Train.corr(), cmap=\"YlGnBu\", annot=True, mask=mask)\n",
    " \n",
    "# # displaying heatmap\n",
    "# plt.show()"
   ]
  },
  {
   "cell_type": "code",
   "execution_count": 546,
   "metadata": {},
   "outputs": [
    {
     "data": {
      "text/plain": [
       "item_price         382.227475\n",
       "quantity_sold      420.507197\n",
       "shop_area_sq_ft      2.908254\n",
       "dtype: float64"
      ]
     },
     "execution_count": 546,
     "metadata": {},
     "output_type": "execute_result"
    }
   ],
   "source": [
    "# Check for outliers\n",
    "\n",
    "Train.kurt(numeric_only=True)"
   ]
  },
  {
   "cell_type": "code",
   "execution_count": 547,
   "metadata": {},
   "outputs": [
    {
     "data": {
      "text/plain": [
       "count    332581.000000\n",
       "mean          1.874626\n",
       "std           1.539118\n",
       "min          -1.000000\n",
       "25%           1.000000\n",
       "50%           2.000000\n",
       "75%           2.000000\n",
       "max         101.000000\n",
       "Name: quantity_sold, dtype: float64"
      ]
     },
     "execution_count": 547,
     "metadata": {},
     "output_type": "execute_result"
    }
   ],
   "source": [
    "Train[\"quantity_sold\"].describe()"
   ]
  },
  {
   "cell_type": "code",
   "execution_count": 548,
   "metadata": {},
   "outputs": [],
   "source": [
    "# TODO : further investigate the outliers"
   ]
  },
  {
   "cell_type": "code",
   "execution_count": 549,
   "metadata": {},
   "outputs": [
    {
     "data": {
      "text/plain": [
       "count    332581.000000\n",
       "mean        214.825306\n",
       "std         167.916289\n",
       "min          35.000000\n",
       "25%         110.000000\n",
       "50%         220.000000\n",
       "75%         220.000000\n",
       "max       17400.000000\n",
       "Name: item_price, dtype: float64"
      ]
     },
     "execution_count": 549,
     "metadata": {},
     "output_type": "execute_result"
    }
   ],
   "source": [
    "Train[\"item_price\"].describe()"
   ]
  },
  {
   "cell_type": "code",
   "execution_count": 550,
   "metadata": {},
   "outputs": [
    {
     "data": {
      "text/html": [
       "<div>\n",
       "<style scoped>\n",
       "    .dataframe tbody tr th:only-of-type {\n",
       "        vertical-align: middle;\n",
       "    }\n",
       "\n",
       "    .dataframe tbody tr th {\n",
       "        vertical-align: top;\n",
       "    }\n",
       "\n",
       "    .dataframe thead th {\n",
       "        text-align: right;\n",
       "    }\n",
       "</style>\n",
       "<table border=\"1\" class=\"dataframe\">\n",
       "  <thead>\n",
       "    <tr style=\"text-align: right;\">\n",
       "      <th></th>\n",
       "      <th>item_description</th>\n",
       "      <th>shop_id</th>\n",
       "      <th>item_price</th>\n",
       "      <th>quantity_sold</th>\n",
       "      <th>shop_area_sq_ft</th>\n",
       "      <th>year</th>\n",
       "      <th>month</th>\n",
       "      <th>weekday</th>\n",
       "    </tr>\n",
       "  </thead>\n",
       "  <tbody>\n",
       "    <tr>\n",
       "      <th>0</th>\n",
       "      <td>ORANGE BARLEY 1.5L</td>\n",
       "      <td>SHOP008</td>\n",
       "      <td>220</td>\n",
       "      <td>2</td>\n",
       "      <td>678</td>\n",
       "      <td>2021</td>\n",
       "      <td>12</td>\n",
       "      <td>5</td>\n",
       "    </tr>\n",
       "    <tr>\n",
       "      <th>1</th>\n",
       "      <td>GINGER BEER 1.5L</td>\n",
       "      <td>SHOP112</td>\n",
       "      <td>220</td>\n",
       "      <td>2</td>\n",
       "      <td>668</td>\n",
       "      <td>2021</td>\n",
       "      <td>10</td>\n",
       "      <td>6</td>\n",
       "    </tr>\n",
       "    <tr>\n",
       "      <th>2</th>\n",
       "      <td>TONIC PET 500ML</td>\n",
       "      <td>SHOP008</td>\n",
       "      <td>160</td>\n",
       "      <td>2</td>\n",
       "      <td>678</td>\n",
       "      <td>2021</td>\n",
       "      <td>12</td>\n",
       "      <td>0</td>\n",
       "    </tr>\n",
       "    <tr>\n",
       "      <th>3</th>\n",
       "      <td>CREAM SODA 1L</td>\n",
       "      <td>SHOP008</td>\n",
       "      <td>150</td>\n",
       "      <td>2</td>\n",
       "      <td>678</td>\n",
       "      <td>2021</td>\n",
       "      <td>12</td>\n",
       "      <td>0</td>\n",
       "    </tr>\n",
       "    <tr>\n",
       "      <th>4</th>\n",
       "      <td>STRAWBERRY MILK 180ML</td>\n",
       "      <td>SHOP112</td>\n",
       "      <td>210</td>\n",
       "      <td>5</td>\n",
       "      <td>668</td>\n",
       "      <td>2021</td>\n",
       "      <td>10</td>\n",
       "      <td>5</td>\n",
       "    </tr>\n",
       "  </tbody>\n",
       "</table>\n",
       "</div>"
      ],
      "text/plain": [
       "        item_description  shop_id  item_price  quantity_sold  shop_area_sq_ft  \\\n",
       "0     ORANGE BARLEY 1.5L  SHOP008         220              2              678   \n",
       "1       GINGER BEER 1.5L  SHOP112         220              2              668   \n",
       "2        TONIC PET 500ML  SHOP008         160              2              678   \n",
       "3          CREAM SODA 1L  SHOP008         150              2              678   \n",
       "4  STRAWBERRY MILK 180ML  SHOP112         210              5              668   \n",
       "\n",
       "   year  month  weekday  \n",
       "0  2021     12        5  \n",
       "1  2021     10        6  \n",
       "2  2021     12        0  \n",
       "3  2021     12        0  \n",
       "4  2021     10        5  "
      ]
     },
     "execution_count": 550,
     "metadata": {},
     "output_type": "execute_result"
    }
   ],
   "source": [
    "Train['timestamp_dt'] = pd.to_datetime(Train['transaction_date'], format='%Y-%m-%d')\n",
    "Train['year'] = Train['timestamp_dt'].dt.year\n",
    "Train['month'] = Train['timestamp_dt'].dt.month\n",
    "Train['weekday'] = Train['timestamp_dt'].dt.weekday\n",
    "\n",
    "Train.drop(['timestamp_dt', 'transaction_date'], axis=1, inplace=True)\n",
    "\n",
    "Train.head()"
   ]
  },
  {
   "cell_type": "code",
   "execution_count": 551,
   "metadata": {},
   "outputs": [
    {
     "data": {
      "text/html": [
       "<div>\n",
       "<style scoped>\n",
       "    .dataframe tbody tr th:only-of-type {\n",
       "        vertical-align: middle;\n",
       "    }\n",
       "\n",
       "    .dataframe tbody tr th {\n",
       "        vertical-align: top;\n",
       "    }\n",
       "\n",
       "    .dataframe thead th {\n",
       "        text-align: right;\n",
       "    }\n",
       "</style>\n",
       "<table border=\"1\" class=\"dataframe\">\n",
       "  <thead>\n",
       "    <tr style=\"text-align: right;\">\n",
       "      <th></th>\n",
       "      <th>shop_id</th>\n",
       "      <th>item_description</th>\n",
       "      <th>item_price</th>\n",
       "      <th>quantity_sold</th>\n",
       "      <th>shop_area_sq_ft</th>\n",
       "      <th>year</th>\n",
       "      <th>month</th>\n",
       "      <th>weekday</th>\n",
       "    </tr>\n",
       "  </thead>\n",
       "  <tbody>\n",
       "    <tr>\n",
       "      <th>0</th>\n",
       "      <td>SHOP046</td>\n",
       "      <td>FIT O MIXED FRUIT 1L</td>\n",
       "      <td>270</td>\n",
       "      <td>1</td>\n",
       "      <td>545</td>\n",
       "      <td>2021</td>\n",
       "      <td>10</td>\n",
       "      <td>4</td>\n",
       "    </tr>\n",
       "    <tr>\n",
       "      <th>1</th>\n",
       "      <td>SHOP046</td>\n",
       "      <td>FIT O ORANGE 1L</td>\n",
       "      <td>290</td>\n",
       "      <td>1</td>\n",
       "      <td>545</td>\n",
       "      <td>2021</td>\n",
       "      <td>10</td>\n",
       "      <td>2</td>\n",
       "    </tr>\n",
       "    <tr>\n",
       "      <th>2</th>\n",
       "      <td>SHOP046</td>\n",
       "      <td>LEMONADE 1.5L</td>\n",
       "      <td>220</td>\n",
       "      <td>2</td>\n",
       "      <td>545</td>\n",
       "      <td>2021</td>\n",
       "      <td>10</td>\n",
       "      <td>3</td>\n",
       "    </tr>\n",
       "    <tr>\n",
       "      <th>3</th>\n",
       "      <td>SHOP046</td>\n",
       "      <td>FIT O MANGO 200ML</td>\n",
       "      <td>180</td>\n",
       "      <td>4</td>\n",
       "      <td>545</td>\n",
       "      <td>2021</td>\n",
       "      <td>11</td>\n",
       "      <td>2</td>\n",
       "    </tr>\n",
       "    <tr>\n",
       "      <th>4</th>\n",
       "      <td>SHOP046</td>\n",
       "      <td>FIT O MIXED FRUIT 200ML</td>\n",
       "      <td>60</td>\n",
       "      <td>1</td>\n",
       "      <td>545</td>\n",
       "      <td>2021</td>\n",
       "      <td>11</td>\n",
       "      <td>2</td>\n",
       "    </tr>\n",
       "  </tbody>\n",
       "</table>\n",
       "</div>"
      ],
      "text/plain": [
       "   shop_id         item_description  item_price  quantity_sold  \\\n",
       "0  SHOP046     FIT O MIXED FRUIT 1L         270              1   \n",
       "1  SHOP046          FIT O ORANGE 1L         290              1   \n",
       "2  SHOP046            LEMONADE 1.5L         220              2   \n",
       "3  SHOP046        FIT O MANGO 200ML         180              4   \n",
       "4  SHOP046  FIT O MIXED FRUIT 200ML          60              1   \n",
       "\n",
       "   shop_area_sq_ft  year  month  weekday  \n",
       "0              545  2021     10        4  \n",
       "1              545  2021     10        2  \n",
       "2              545  2021     10        3  \n",
       "3              545  2021     11        2  \n",
       "4              545  2021     11        2  "
      ]
     },
     "execution_count": 551,
     "metadata": {},
     "output_type": "execute_result"
    }
   ],
   "source": [
    "Submission_testing['timestamp_dt'] = pd.to_datetime(Submission_testing['transaction_date'], format='%Y-%m-%d')\n",
    "Submission_testing['year'] = Submission_testing['timestamp_dt'].dt.year\n",
    "Submission_testing['month'] = Submission_testing['timestamp_dt'].dt.month\n",
    "Submission_testing['weekday'] = Submission_testing['timestamp_dt'].dt.weekday\n",
    "\n",
    "Submission_testing.drop(['timestamp_dt', 'transaction_date'], axis=1, inplace=True)\n",
    "\n",
    "Submission_testing.head()"
   ]
  },
  {
   "cell_type": "code",
   "execution_count": 552,
   "metadata": {},
   "outputs": [],
   "source": [
    "from sklearn.preprocessing import LabelEncoder\n",
    "le = LabelEncoder()\n",
    "Train_y = le.fit_transform(Train_y)"
   ]
  },
  {
   "cell_type": "code",
   "execution_count": 553,
   "metadata": {},
   "outputs": [],
   "source": [
    "# remove the substring \"SHOP\" from the shop_id column and convert it to int\n",
    "Train[\"shop_id\"] = Train[\"shop_id\"].str.replace(\"SHOP\", \"\").astype(int)\n",
    "# Train[\"shop_id\"] = Train[\"shop_id\"].str.replace(\"SHOP\", \"\")\n",
    "# Train[\"shop_id\"] = Train[\"shop_id\"].astype()\")\n",
    "# convert it to categorical\n",
    "Train[\"shop_id\"] = Train[\"shop_id\"].astype(\"category\")"
   ]
  },
  {
   "cell_type": "code",
   "execution_count": 554,
   "metadata": {},
   "outputs": [],
   "source": [
    "# remove the substring \"SHOP\" from the shop_id column\n",
    "Submission_testing[\"shop_id\"] = Submission_testing[\"shop_id\"].str.replace(\"SHOP\", \"\").astype(int)"
   ]
  },
  {
   "cell_type": "code",
   "execution_count": 555,
   "metadata": {},
   "outputs": [],
   "source": [
    "## Splitting the dataset into the Training set and Test set\n",
    "\n",
    "from sklearn.model_selection import train_test_split\n",
    "X_train, X_test, y_train, y_test = train_test_split(Train, Train_y, test_size = 0.2, random_state = 1)"
   ]
  },
  {
   "cell_type": "code",
   "execution_count": 556,
   "metadata": {},
   "outputs": [
    {
     "data": {
      "text/html": [
       "<div>\n",
       "<style scoped>\n",
       "    .dataframe tbody tr th:only-of-type {\n",
       "        vertical-align: middle;\n",
       "    }\n",
       "\n",
       "    .dataframe tbody tr th {\n",
       "        vertical-align: top;\n",
       "    }\n",
       "\n",
       "    .dataframe thead th {\n",
       "        text-align: right;\n",
       "    }\n",
       "</style>\n",
       "<table border=\"1\" class=\"dataframe\">\n",
       "  <thead>\n",
       "    <tr style=\"text-align: right;\">\n",
       "      <th></th>\n",
       "      <th>item_description</th>\n",
       "      <th>shop_id</th>\n",
       "      <th>item_price</th>\n",
       "      <th>quantity_sold</th>\n",
       "      <th>shop_area_sq_ft</th>\n",
       "      <th>year</th>\n",
       "      <th>month</th>\n",
       "      <th>weekday</th>\n",
       "    </tr>\n",
       "  </thead>\n",
       "  <tbody>\n",
       "    <tr>\n",
       "      <th>13201</th>\n",
       "      <td>SODA 1L</td>\n",
       "      <td>86</td>\n",
       "      <td>110</td>\n",
       "      <td>2</td>\n",
       "      <td>661</td>\n",
       "      <td>2021</td>\n",
       "      <td>10</td>\n",
       "      <td>5</td>\n",
       "    </tr>\n",
       "    <tr>\n",
       "      <th>293065</th>\n",
       "      <td>LEMONADE 500ML</td>\n",
       "      <td>37</td>\n",
       "      <td>200</td>\n",
       "      <td>2</td>\n",
       "      <td>717</td>\n",
       "      <td>2021</td>\n",
       "      <td>12</td>\n",
       "      <td>5</td>\n",
       "    </tr>\n",
       "    <tr>\n",
       "      <th>63548</th>\n",
       "      <td>LEMONADE 1.5L</td>\n",
       "      <td>66</td>\n",
       "      <td>220</td>\n",
       "      <td>3</td>\n",
       "      <td>470</td>\n",
       "      <td>2021</td>\n",
       "      <td>12</td>\n",
       "      <td>0</td>\n",
       "    </tr>\n",
       "    <tr>\n",
       "      <th>466484</th>\n",
       "      <td>GINGER BEER 1.5L</td>\n",
       "      <td>60</td>\n",
       "      <td>220</td>\n",
       "      <td>1</td>\n",
       "      <td>676</td>\n",
       "      <td>2021</td>\n",
       "      <td>10</td>\n",
       "      <td>2</td>\n",
       "    </tr>\n",
       "    <tr>\n",
       "      <th>316348</th>\n",
       "      <td>SODA 1L</td>\n",
       "      <td>112</td>\n",
       "      <td>220</td>\n",
       "      <td>3</td>\n",
       "      <td>668</td>\n",
       "      <td>2021</td>\n",
       "      <td>11</td>\n",
       "      <td>0</td>\n",
       "    </tr>\n",
       "  </tbody>\n",
       "</table>\n",
       "</div>"
      ],
      "text/plain": [
       "        item_description shop_id  item_price  quantity_sold  shop_area_sq_ft  \\\n",
       "13201            SODA 1L      86         110              2              661   \n",
       "293065    LEMONADE 500ML      37         200              2              717   \n",
       "63548      LEMONADE 1.5L      66         220              3              470   \n",
       "466484  GINGER BEER 1.5L      60         220              1              676   \n",
       "316348           SODA 1L     112         220              3              668   \n",
       "\n",
       "        year  month  weekday  \n",
       "13201   2021     10        5  \n",
       "293065  2021     12        5  \n",
       "63548   2021     12        0  \n",
       "466484  2021     10        2  \n",
       "316348  2021     11        0  "
      ]
     },
     "execution_count": 556,
     "metadata": {},
     "output_type": "execute_result"
    }
   ],
   "source": [
    "X_train.head()"
   ]
  },
  {
   "cell_type": "code",
   "execution_count": 557,
   "metadata": {},
   "outputs": [],
   "source": [
    "y_train = pd.DataFrame(y_train)\n",
    "y_test = pd.DataFrame(y_test)"
   ]
  },
  {
   "cell_type": "code",
   "execution_count": 558,
   "metadata": {},
   "outputs": [],
   "source": [
    "# X_train.info()"
   ]
  },
  {
   "cell_type": "code",
   "execution_count": 559,
   "metadata": {},
   "outputs": [],
   "source": [
    "Submission_testing = Submission_testing[Train.columns]"
   ]
  },
  {
   "cell_type": "code",
   "execution_count": 560,
   "metadata": {},
   "outputs": [],
   "source": [
    "# X_train.head()"
   ]
  },
  {
   "cell_type": "code",
   "execution_count": 561,
   "metadata": {},
   "outputs": [
    {
     "data": {
      "text/plain": [
       "item_description     37\n",
       "shop_id             100\n",
       "item_price          172\n",
       "quantity_sold        59\n",
       "shop_area_sq_ft      53\n",
       "year                  1\n",
       "month                 3\n",
       "weekday               7\n",
       "dtype: int64"
      ]
     },
     "execution_count": 561,
     "metadata": {},
     "output_type": "execute_result"
    }
   ],
   "source": [
    "# unique values in each column\n",
    "X_train.nunique()"
   ]
  },
  {
   "cell_type": "code",
   "execution_count": 562,
   "metadata": {},
   "outputs": [
    {
     "name": "stdout",
     "output_type": "stream",
     "text": [
      "<class 'pandas.core.frame.DataFrame'>\n",
      "Int64Index: 266064 entries, 13201 to 182378\n",
      "Data columns (total 8 columns):\n",
      " #   Column            Non-Null Count   Dtype   \n",
      "---  ------            --------------   -----   \n",
      " 0   item_description  266064 non-null  category\n",
      " 1   shop_id           266064 non-null  category\n",
      " 2   item_price        266064 non-null  int64   \n",
      " 3   quantity_sold     266064 non-null  int64   \n",
      " 4   shop_area_sq_ft   266064 non-null  int64   \n",
      " 5   year              266064 non-null  int64   \n",
      " 6   month             266064 non-null  int64   \n",
      " 7   weekday           266064 non-null  int64   \n",
      "dtypes: category(2), int64(6)\n",
      "memory usage: 14.7 MB\n"
     ]
    }
   ],
   "source": [
    "X_train.info()"
   ]
  },
  {
   "cell_type": "code",
   "execution_count": 563,
   "metadata": {},
   "outputs": [],
   "source": [
    "categorical_columns = [\"year\", \"month\", \"weekday\"]\n",
    "\n",
    "for category in categorical_columns:\n",
    "    Train[category] = Train[category].astype(\"category\")"
   ]
  },
  {
   "attachments": {},
   "cell_type": "markdown",
   "metadata": {},
   "source": [
    "# Metrics"
   ]
  },
  {
   "cell_type": "code",
   "execution_count": 564,
   "metadata": {},
   "outputs": [],
   "source": [
    "from sklearn.metrics import accuracy_score, precision_score, recall_score, f1_score\n",
    "from sklearn.preprocessing import OneHotEncoder\n",
    "from sklearn.compose import ColumnTransformer\n",
    "\n",
    "\n",
    "def score_classification(model, df1_x, df1_y, df2_x, df2_y):\n",
    "  print(model)\n",
    "  df1_x = df1_x.copy()\n",
    "  df2_x = df2_x.copy()\n",
    "  \n",
    "  ct = ColumnTransformer(transformers=[('encoder', OneHotEncoder(handle_unknown='ignore'), [0])], remainder='passthrough')\n",
    " \n",
    "  # One hot encoding for the item_description column\n",
    "\n",
    "  df1_encoded = ct.fit_transform(df1_x[[\"item_description\"]])\n",
    "  df1_x = pd.concat([df1_x.drop(\"item_description\", axis=1).reset_index(drop=True), pd.DataFrame(df1_encoded.toarray())], axis='columns')\n",
    " \n",
    "  df2_encoded = ct.transform(df2_x[[\"item_description\"]]) \n",
    "  df2_x = pd.concat([df2_x.drop(\"item_description\", axis=1).reset_index(drop=True), pd.DataFrame(df2_encoded.toarray())], axis='columns')    \n",
    "  \n",
    "  df1_x.columns = df1_x.columns.astype(str)\n",
    "  df2_x.columns = df2_x.columns.astype(str)\n",
    " \n",
    "  # Fit the model  \n",
    "  model.fit(df1_x, df1_y)\n",
    "\n",
    "  # Make predictions\n",
    "  y_pred = model.predict(df2_x)\n",
    "\n",
    "  # Evaluate the model\n",
    "  accuracy = accuracy_score(df2_y, y_pred)\n",
    "  precision = precision_score(df2_y, y_pred,  average='macro')\n",
    "  recall = recall_score(df2_y, y_pred,  average='macro')\n",
    "  f1 = f1_score(df2_y, y_pred,  average='macro')\n",
    "\n",
    "  print(f\"Accuracy: {accuracy}\")\n",
    "  print(f\"Precision: {precision}\")\n",
    "  print(f\"Recall: {recall}\")\n",
    "  print(f\"F1 Score: {f1}\")"
   ]
  },
  {
   "cell_type": "code",
   "execution_count": 565,
   "metadata": {},
   "outputs": [
    {
     "name": "stdout",
     "output_type": "stream",
     "text": [
      "<class 'pandas.core.frame.DataFrame'>\n",
      "Int64Index: 86633 entries, 0 to 86632\n",
      "Data columns (total 8 columns):\n",
      " #   Column            Non-Null Count  Dtype   \n",
      "---  ------            --------------  -----   \n",
      " 0   item_description  80319 non-null  category\n",
      " 1   shop_id           86633 non-null  int32   \n",
      " 2   item_price        86633 non-null  int64   \n",
      " 3   quantity_sold     86633 non-null  int64   \n",
      " 4   shop_area_sq_ft   86633 non-null  int64   \n",
      " 5   year              86633 non-null  int64   \n",
      " 6   month             86633 non-null  int64   \n",
      " 7   weekday           86633 non-null  int64   \n",
      "dtypes: category(1), int32(1), int64(6)\n",
      "memory usage: 5.0 MB\n"
     ]
    }
   ],
   "source": [
    "Submission_testing.info()"
   ]
  },
  {
   "attachments": {},
   "cell_type": "markdown",
   "metadata": {},
   "source": [
    "## Result Output"
   ]
  },
  {
   "cell_type": "code",
   "execution_count": 566,
   "metadata": {},
   "outputs": [],
   "source": [
    "def outputResult(model, df1_x, df1_y, test, le):\n",
    "    print(model)\n",
    "    df1_x = df1_x.copy()\n",
    "    df2_x = test.copy()\n",
    "    \n",
    "    ct = ColumnTransformer(transformers=[('encoder', OneHotEncoder(handle_unknown='ignore'), [0])], remainder='passthrough')\n",
    "\n",
    "    # One hot encoding for the item_description column\n",
    "\n",
    "    df1_encoded = ct.fit_transform(df1_x[[\"item_description\"]])\n",
    "    df1_x = pd.concat([df1_x.drop(\"item_description\", axis=1).reset_index(drop=True), pd.DataFrame(df1_encoded.toarray())], axis='columns')\n",
    "\n",
    "    df2_encoded = ct.transform(df2_x[[\"item_description\"]])\n",
    "    df2_x = pd.concat([df2_x.drop(\"item_description\", axis=1).reset_index(drop=True), pd.DataFrame(df2_encoded.toarray())], axis='columns')\n",
    "\n",
    "    df1_x.columns = df1_x.columns.astype(str)\n",
    "    df2_x.columns = df2_x.columns.astype(str)\n",
    "\n",
    "    # Fit the model on the training data\n",
    "    model.fit(df1_x, df1_y)\n",
    "    \n",
    "    # Make predictions on the test data\n",
    "    y_pred = model.predict(df2_x)\n",
    "    \n",
    "    # Inverse transform the encoded predictions to the original shop profiles\n",
    "    y_pred = le.inverse_transform(y_pred)    \n",
    "    \n",
    "    # Create a dataframe with the predicted shop profiles\n",
    "    results_df = pd.DataFrame({'shop_id': test.shop_id, 'shop_profile': y_pred})    \n",
    "    # rename the shop_id column with the word \"SHOP\" and add a 0 in front of the shop_id\n",
    "    results_df[\"shop_id\"] = results_df[\"shop_id\"].astype(str)\n",
    "    results_df[\"shop_id\"] = \"SHOP\" + results_df[\"shop_id\"].str.zfill(3)\n",
    "    \n",
    "    results_df.drop_duplicates(inplace=True)\n",
    "    # Write the dataframe to a CSV file\n",
    "    results_df.to_csv('predictions_'+str(model).strip(\"()\")+'.csv', index=False)"
   ]
  },
  {
   "attachments": {},
   "cell_type": "markdown",
   "metadata": {},
   "source": [
    "# Modelling"
   ]
  },
  {
   "cell_type": "code",
   "execution_count": 567,
   "metadata": {},
   "outputs": [
    {
     "name": "stdout",
     "output_type": "stream",
     "text": [
      "['SODA 1L', 'LEMONADE 500ML', 'LEMONADE 1.5L', 'GINGER BEER 1.5L', 'SODA 500ML', ..., 'GINGER BEER SUGAR FREE 500ML', 'LEMONADE 1L', 'NECTO 1L', 'CHOCOLATE MILK 180ML', 'LIME CRUSH JUICE 1L']\n",
      "Length: 37\n",
      "Categories (37, object): ['BOTTLED DRINKING WATER 1.5L', 'BOTTLED DRINKING WATER 500ML', 'CHOCOLATE MILK 180ML', 'CREAM SODA 1.5L', ..., 'SODA PET 1.5L', 'STRAWBERRY MILK 180ML', 'TONIC PET 500ML', 'TWISTEE APPLE 1L']\n",
      "0\n"
     ]
    }
   ],
   "source": [
    "# unique values in item_description column\n",
    "\n",
    "print(X_train['item_description'].unique())\n",
    "\n",
    "# no of null values in item_description column\n",
    "\n",
    "print(X_train['item_description'].isnull().sum())"
   ]
  },
  {
   "cell_type": "code",
   "execution_count": 568,
   "metadata": {},
   "outputs": [
    {
     "name": "stdout",
     "output_type": "stream",
     "text": [
      "LogisticRegression()\n",
      "Accuracy: 0.42414721048754456\n",
      "Precision: 0.41393245648700505\n",
      "Recall: 0.4099652958364213\n",
      "F1 Score: 0.4041638373147771\n"
     ]
    }
   ],
   "source": [
    "from sklearn.linear_model import LogisticRegression\n",
    "import sys\n",
    "logr = LogisticRegression()\n",
    "# np.set_printoptions(threshold=np.inf)\n",
    "score_classification(logr, X_train, y_train, X_test, y_test)\n",
    "# np.set_printoptions(threshold=1000)"
   ]
  },
  {
   "cell_type": "code",
   "execution_count": 569,
   "metadata": {},
   "outputs": [
    {
     "data": {
      "text/html": [
       "<div>\n",
       "<style scoped>\n",
       "    .dataframe tbody tr th:only-of-type {\n",
       "        vertical-align: middle;\n",
       "    }\n",
       "\n",
       "    .dataframe tbody tr th {\n",
       "        vertical-align: top;\n",
       "    }\n",
       "\n",
       "    .dataframe thead th {\n",
       "        text-align: right;\n",
       "    }\n",
       "</style>\n",
       "<table border=\"1\" class=\"dataframe\">\n",
       "  <thead>\n",
       "    <tr style=\"text-align: right;\">\n",
       "      <th></th>\n",
       "      <th>item_description</th>\n",
       "      <th>shop_id</th>\n",
       "      <th>item_price</th>\n",
       "      <th>quantity_sold</th>\n",
       "      <th>shop_area_sq_ft</th>\n",
       "      <th>year</th>\n",
       "      <th>month</th>\n",
       "      <th>weekday</th>\n",
       "    </tr>\n",
       "  </thead>\n",
       "  <tbody>\n",
       "    <tr>\n",
       "      <th>0</th>\n",
       "      <td>FIT O MIXED FRUIT 1L</td>\n",
       "      <td>46</td>\n",
       "      <td>270</td>\n",
       "      <td>1</td>\n",
       "      <td>545</td>\n",
       "      <td>2021</td>\n",
       "      <td>10</td>\n",
       "      <td>4</td>\n",
       "    </tr>\n",
       "    <tr>\n",
       "      <th>1</th>\n",
       "      <td>FIT O ORANGE 1L</td>\n",
       "      <td>46</td>\n",
       "      <td>290</td>\n",
       "      <td>1</td>\n",
       "      <td>545</td>\n",
       "      <td>2021</td>\n",
       "      <td>10</td>\n",
       "      <td>2</td>\n",
       "    </tr>\n",
       "    <tr>\n",
       "      <th>2</th>\n",
       "      <td>LEMONADE 1.5L</td>\n",
       "      <td>46</td>\n",
       "      <td>220</td>\n",
       "      <td>2</td>\n",
       "      <td>545</td>\n",
       "      <td>2021</td>\n",
       "      <td>10</td>\n",
       "      <td>3</td>\n",
       "    </tr>\n",
       "    <tr>\n",
       "      <th>3</th>\n",
       "      <td>FIT O MANGO 200ML</td>\n",
       "      <td>46</td>\n",
       "      <td>180</td>\n",
       "      <td>4</td>\n",
       "      <td>545</td>\n",
       "      <td>2021</td>\n",
       "      <td>11</td>\n",
       "      <td>2</td>\n",
       "    </tr>\n",
       "    <tr>\n",
       "      <th>4</th>\n",
       "      <td>FIT O MIXED FRUIT 200ML</td>\n",
       "      <td>46</td>\n",
       "      <td>60</td>\n",
       "      <td>1</td>\n",
       "      <td>545</td>\n",
       "      <td>2021</td>\n",
       "      <td>11</td>\n",
       "      <td>2</td>\n",
       "    </tr>\n",
       "  </tbody>\n",
       "</table>\n",
       "</div>"
      ],
      "text/plain": [
       "          item_description  shop_id  item_price  quantity_sold  \\\n",
       "0     FIT O MIXED FRUIT 1L       46         270              1   \n",
       "1          FIT O ORANGE 1L       46         290              1   \n",
       "2            LEMONADE 1.5L       46         220              2   \n",
       "3        FIT O MANGO 200ML       46         180              4   \n",
       "4  FIT O MIXED FRUIT 200ML       46          60              1   \n",
       "\n",
       "   shop_area_sq_ft  year  month  weekday  \n",
       "0              545  2021     10        4  \n",
       "1              545  2021     10        2  \n",
       "2              545  2021     10        3  \n",
       "3              545  2021     11        2  \n",
       "4              545  2021     11        2  "
      ]
     },
     "execution_count": 569,
     "metadata": {},
     "output_type": "execute_result"
    }
   ],
   "source": [
    "Submission_testing.head()"
   ]
  },
  {
   "cell_type": "code",
   "execution_count": 570,
   "metadata": {},
   "outputs": [
    {
     "name": "stdout",
     "output_type": "stream",
     "text": [
      "LogisticRegression()\n"
     ]
    }
   ],
   "source": [
    "outputResult(logr, X_train, y_train, Submission_testing, le)"
   ]
  },
  {
   "attachments": {},
   "cell_type": "markdown",
   "metadata": {},
   "source": [
    "Bug with KNeighborsClassifiers"
   ]
  },
  {
   "cell_type": "code",
   "execution_count": 571,
   "metadata": {},
   "outputs": [],
   "source": [
    "#Dont use this\n",
    "# from sklearn.neighbors import KNeighborsClassifier\n",
    "\n",
    "# knn = KNeighborsClassifier()\n",
    "\n",
    "# score_classification(knn, X_train, y_train, X_test, y_test)"
   ]
  },
  {
   "cell_type": "code",
   "execution_count": 572,
   "metadata": {},
   "outputs": [],
   "source": [
    "# outputResult(knn, X_train, y_train, Submission_testing, le)"
   ]
  },
  {
   "cell_type": "code",
   "execution_count": 573,
   "metadata": {},
   "outputs": [
    {
     "name": "stdout",
     "output_type": "stream",
     "text": [
      "DecisionTreeClassifier()\n",
      "Accuracy: 1.0\n",
      "Precision: 1.0\n",
      "Recall: 1.0\n",
      "F1 Score: 1.0\n"
     ]
    }
   ],
   "source": [
    "from sklearn.tree import DecisionTreeClassifier\n",
    "\n",
    "dtc = DecisionTreeClassifier()\n",
    "\n",
    "score_classification(dtc, X_train, y_train, X_test, y_test)"
   ]
  },
  {
   "cell_type": "code",
   "execution_count": 574,
   "metadata": {},
   "outputs": [
    {
     "data": {
      "text/html": [
       "<div>\n",
       "<style scoped>\n",
       "    .dataframe tbody tr th:only-of-type {\n",
       "        vertical-align: middle;\n",
       "    }\n",
       "\n",
       "    .dataframe tbody tr th {\n",
       "        vertical-align: top;\n",
       "    }\n",
       "\n",
       "    .dataframe thead th {\n",
       "        text-align: right;\n",
       "    }\n",
       "</style>\n",
       "<table border=\"1\" class=\"dataframe\">\n",
       "  <thead>\n",
       "    <tr style=\"text-align: right;\">\n",
       "      <th></th>\n",
       "      <th>item_description</th>\n",
       "      <th>shop_id</th>\n",
       "      <th>item_price</th>\n",
       "      <th>quantity_sold</th>\n",
       "      <th>shop_area_sq_ft</th>\n",
       "      <th>year</th>\n",
       "      <th>month</th>\n",
       "      <th>weekday</th>\n",
       "    </tr>\n",
       "  </thead>\n",
       "  <tbody>\n",
       "    <tr>\n",
       "      <th>13201</th>\n",
       "      <td>SODA 1L</td>\n",
       "      <td>86</td>\n",
       "      <td>110</td>\n",
       "      <td>2</td>\n",
       "      <td>661</td>\n",
       "      <td>2021</td>\n",
       "      <td>10</td>\n",
       "      <td>5</td>\n",
       "    </tr>\n",
       "    <tr>\n",
       "      <th>293065</th>\n",
       "      <td>LEMONADE 500ML</td>\n",
       "      <td>37</td>\n",
       "      <td>200</td>\n",
       "      <td>2</td>\n",
       "      <td>717</td>\n",
       "      <td>2021</td>\n",
       "      <td>12</td>\n",
       "      <td>5</td>\n",
       "    </tr>\n",
       "    <tr>\n",
       "      <th>63548</th>\n",
       "      <td>LEMONADE 1.5L</td>\n",
       "      <td>66</td>\n",
       "      <td>220</td>\n",
       "      <td>3</td>\n",
       "      <td>470</td>\n",
       "      <td>2021</td>\n",
       "      <td>12</td>\n",
       "      <td>0</td>\n",
       "    </tr>\n",
       "    <tr>\n",
       "      <th>466484</th>\n",
       "      <td>GINGER BEER 1.5L</td>\n",
       "      <td>60</td>\n",
       "      <td>220</td>\n",
       "      <td>1</td>\n",
       "      <td>676</td>\n",
       "      <td>2021</td>\n",
       "      <td>10</td>\n",
       "      <td>2</td>\n",
       "    </tr>\n",
       "    <tr>\n",
       "      <th>316348</th>\n",
       "      <td>SODA 1L</td>\n",
       "      <td>112</td>\n",
       "      <td>220</td>\n",
       "      <td>3</td>\n",
       "      <td>668</td>\n",
       "      <td>2021</td>\n",
       "      <td>11</td>\n",
       "      <td>0</td>\n",
       "    </tr>\n",
       "  </tbody>\n",
       "</table>\n",
       "</div>"
      ],
      "text/plain": [
       "        item_description shop_id  item_price  quantity_sold  shop_area_sq_ft  \\\n",
       "13201            SODA 1L      86         110              2              661   \n",
       "293065    LEMONADE 500ML      37         200              2              717   \n",
       "63548      LEMONADE 1.5L      66         220              3              470   \n",
       "466484  GINGER BEER 1.5L      60         220              1              676   \n",
       "316348           SODA 1L     112         220              3              668   \n",
       "\n",
       "        year  month  weekday  \n",
       "13201   2021     10        5  \n",
       "293065  2021     12        5  \n",
       "63548   2021     12        0  \n",
       "466484  2021     10        2  \n",
       "316348  2021     11        0  "
      ]
     },
     "execution_count": 574,
     "metadata": {},
     "output_type": "execute_result"
    }
   ],
   "source": [
    "X_train.head()"
   ]
  },
  {
   "cell_type": "code",
   "execution_count": 575,
   "metadata": {},
   "outputs": [
    {
     "data": {
      "text/html": [
       "<div>\n",
       "<style scoped>\n",
       "    .dataframe tbody tr th:only-of-type {\n",
       "        vertical-align: middle;\n",
       "    }\n",
       "\n",
       "    .dataframe tbody tr th {\n",
       "        vertical-align: top;\n",
       "    }\n",
       "\n",
       "    .dataframe thead th {\n",
       "        text-align: right;\n",
       "    }\n",
       "</style>\n",
       "<table border=\"1\" class=\"dataframe\">\n",
       "  <thead>\n",
       "    <tr style=\"text-align: right;\">\n",
       "      <th></th>\n",
       "      <th>item_description</th>\n",
       "      <th>shop_id</th>\n",
       "      <th>item_price</th>\n",
       "      <th>quantity_sold</th>\n",
       "      <th>shop_area_sq_ft</th>\n",
       "      <th>year</th>\n",
       "      <th>month</th>\n",
       "      <th>weekday</th>\n",
       "    </tr>\n",
       "  </thead>\n",
       "  <tbody>\n",
       "    <tr>\n",
       "      <th>0</th>\n",
       "      <td>FIT O MIXED FRUIT 1L</td>\n",
       "      <td>46</td>\n",
       "      <td>270</td>\n",
       "      <td>1</td>\n",
       "      <td>545</td>\n",
       "      <td>2021</td>\n",
       "      <td>10</td>\n",
       "      <td>4</td>\n",
       "    </tr>\n",
       "    <tr>\n",
       "      <th>1</th>\n",
       "      <td>FIT O ORANGE 1L</td>\n",
       "      <td>46</td>\n",
       "      <td>290</td>\n",
       "      <td>1</td>\n",
       "      <td>545</td>\n",
       "      <td>2021</td>\n",
       "      <td>10</td>\n",
       "      <td>2</td>\n",
       "    </tr>\n",
       "    <tr>\n",
       "      <th>2</th>\n",
       "      <td>LEMONADE 1.5L</td>\n",
       "      <td>46</td>\n",
       "      <td>220</td>\n",
       "      <td>2</td>\n",
       "      <td>545</td>\n",
       "      <td>2021</td>\n",
       "      <td>10</td>\n",
       "      <td>3</td>\n",
       "    </tr>\n",
       "    <tr>\n",
       "      <th>3</th>\n",
       "      <td>FIT O MANGO 200ML</td>\n",
       "      <td>46</td>\n",
       "      <td>180</td>\n",
       "      <td>4</td>\n",
       "      <td>545</td>\n",
       "      <td>2021</td>\n",
       "      <td>11</td>\n",
       "      <td>2</td>\n",
       "    </tr>\n",
       "    <tr>\n",
       "      <th>4</th>\n",
       "      <td>FIT O MIXED FRUIT 200ML</td>\n",
       "      <td>46</td>\n",
       "      <td>60</td>\n",
       "      <td>1</td>\n",
       "      <td>545</td>\n",
       "      <td>2021</td>\n",
       "      <td>11</td>\n",
       "      <td>2</td>\n",
       "    </tr>\n",
       "  </tbody>\n",
       "</table>\n",
       "</div>"
      ],
      "text/plain": [
       "          item_description  shop_id  item_price  quantity_sold  \\\n",
       "0     FIT O MIXED FRUIT 1L       46         270              1   \n",
       "1          FIT O ORANGE 1L       46         290              1   \n",
       "2            LEMONADE 1.5L       46         220              2   \n",
       "3        FIT O MANGO 200ML       46         180              4   \n",
       "4  FIT O MIXED FRUIT 200ML       46          60              1   \n",
       "\n",
       "   shop_area_sq_ft  year  month  weekday  \n",
       "0              545  2021     10        4  \n",
       "1              545  2021     10        2  \n",
       "2              545  2021     10        3  \n",
       "3              545  2021     11        2  \n",
       "4              545  2021     11        2  "
      ]
     },
     "execution_count": 575,
     "metadata": {},
     "output_type": "execute_result"
    }
   ],
   "source": [
    "Submission_testing.head()"
   ]
  },
  {
   "cell_type": "code",
   "execution_count": 576,
   "metadata": {},
   "outputs": [
    {
     "name": "stdout",
     "output_type": "stream",
     "text": [
      "DecisionTreeClassifier()\n"
     ]
    }
   ],
   "source": [
    "outputResult(dtc, X_train, y_train, Submission_testing, le)"
   ]
  },
  {
   "cell_type": "code",
   "execution_count": 577,
   "metadata": {},
   "outputs": [
    {
     "name": "stdout",
     "output_type": "stream",
     "text": [
      "RandomForestClassifier()\n",
      "Accuracy: 0.975179277477938\n",
      "Precision: 0.9752861717671962\n",
      "Recall: 0.9744813259569143\n",
      "F1 Score: 0.9748466546398514\n"
     ]
    }
   ],
   "source": [
    "from sklearn.ensemble import RandomForestClassifier\n",
    "\n",
    "rfc = RandomForestClassifier()\n",
    "\n",
    "score_classification(rfc, X_train, y_train, X_test, y_test)"
   ]
  },
  {
   "cell_type": "code",
   "execution_count": 578,
   "metadata": {},
   "outputs": [
    {
     "name": "stdout",
     "output_type": "stream",
     "text": [
      "RandomForestClassifier()\n"
     ]
    }
   ],
   "source": [
    "outputResult(rfc, X_train, y_train, Submission_testing, le)"
   ]
  },
  {
   "cell_type": "code",
   "execution_count": 579,
   "metadata": {},
   "outputs": [],
   "source": [
    "# from sklearn.naive_bayes import GaussianNB\n",
    "\n",
    "# nb = GaussianNB()\n",
    "\n",
    "# score_classification(nb, X_train, y_train, X_test, y_test)"
   ]
  },
  {
   "cell_type": "code",
   "execution_count": 580,
   "metadata": {},
   "outputs": [],
   "source": [
    "# import xgboost as xgb\n",
    "\n",
    "# xgb_model = xgb.XGBClassifier(objective='binary:logistic', n_estimators=100, max_depth=5)\n",
    "\n",
    "# score_classification(xgb_model, X_train, y_train, X_test, y_test)\n"
   ]
  },
  {
   "attachments": {},
   "cell_type": "markdown",
   "metadata": {},
   "source": [
    "# Feature Engineering"
   ]
  },
  {
   "attachments": {},
   "cell_type": "markdown",
   "metadata": {},
   "source": [
    "Mutual Information"
   ]
  },
  {
   "cell_type": "code",
   "execution_count": 581,
   "metadata": {},
   "outputs": [],
   "source": [
    "from sklearn.feature_selection import mutual_info_regression\n",
    "\n",
    "def make_mi_scores(X,y):\n",
    "  X = X.copy()\n",
    "  for colname in X.select_dtypes([\"object\", \"category\"]):\n",
    "    X[colname], _ = X[colname].factorize()\n",
    "  # all discrete features should now have integer dtypes\n",
    "  discrete_features = [pd.api.types.is_integer_dtype(t) for t in X.dtypes]\n",
    "  mi_scores = mutual_info_regression(X, y, discrete_features=discrete_features, random_state=0)\n",
    "  mi_scores = pd.Series(mi_scores, name=\"Mutual Information Scores\", index=X.columns)\n",
    "  mi_scores = mi_scores.sort_values(ascending=False)\n",
    "  return mi_scores\n",
    "\n",
    "\n",
    "def plot_mi_scores(scores):\n",
    "  scores = scores.sort_values(ascending=True)\n",
    "  width = np.arange(len(scores))\n",
    "  ticks = list(scores.index)\n",
    "  plt.barh(width,scores)\n",
    "  plt.yticks(width, ticks)\n",
    "  plt.title(\"Mututal Information Scores\")"
   ]
  },
  {
   "cell_type": "code",
   "execution_count": 582,
   "metadata": {},
   "outputs": [
    {
     "ename": "KeyboardInterrupt",
     "evalue": "",
     "output_type": "error",
     "traceback": [
      "\u001b[1;31m---------------------------------------------------------------------------\u001b[0m",
      "\u001b[1;31mKeyboardInterrupt\u001b[0m                         Traceback (most recent call last)",
      "Cell \u001b[1;32mIn[582], line 1\u001b[0m\n\u001b[1;32m----> 1\u001b[0m mi_scores \u001b[39m=\u001b[39m make_mi_scores(X_train, y_train)\n\u001b[0;32m      2\u001b[0m mi_scores\n",
      "Cell \u001b[1;32mIn[581], line 9\u001b[0m, in \u001b[0;36mmake_mi_scores\u001b[1;34m(X, y)\u001b[0m\n\u001b[0;32m      7\u001b[0m \u001b[39m# all discrete features should now have integer dtypes\u001b[39;00m\n\u001b[0;32m      8\u001b[0m discrete_features \u001b[39m=\u001b[39m [pd\u001b[39m.\u001b[39mapi\u001b[39m.\u001b[39mtypes\u001b[39m.\u001b[39mis_integer_dtype(t) \u001b[39mfor\u001b[39;00m t \u001b[39min\u001b[39;00m X\u001b[39m.\u001b[39mdtypes]\n\u001b[1;32m----> 9\u001b[0m mi_scores \u001b[39m=\u001b[39m mutual_info_regression(X, y, discrete_features\u001b[39m=\u001b[39;49mdiscrete_features, random_state\u001b[39m=\u001b[39;49m\u001b[39m0\u001b[39;49m)\n\u001b[0;32m     10\u001b[0m mi_scores \u001b[39m=\u001b[39m pd\u001b[39m.\u001b[39mSeries(mi_scores, name\u001b[39m=\u001b[39m\u001b[39m\"\u001b[39m\u001b[39mMutual Information Scores\u001b[39m\u001b[39m\"\u001b[39m, index\u001b[39m=\u001b[39mX\u001b[39m.\u001b[39mcolumns)\n\u001b[0;32m     11\u001b[0m mi_scores \u001b[39m=\u001b[39m mi_scores\u001b[39m.\u001b[39msort_values(ascending\u001b[39m=\u001b[39m\u001b[39mFalse\u001b[39;00m)\n",
      "File \u001b[1;32mc:\\ProgramData\\anaconda3\\lib\\site-packages\\sklearn\\feature_selection\\_mutual_info.py:388\u001b[0m, in \u001b[0;36mmutual_info_regression\u001b[1;34m(X, y, discrete_features, n_neighbors, copy, random_state)\u001b[0m\n\u001b[0;32m    312\u001b[0m \u001b[39mdef\u001b[39;00m \u001b[39mmutual_info_regression\u001b[39m(\n\u001b[0;32m    313\u001b[0m     X, y, \u001b[39m*\u001b[39m, discrete_features\u001b[39m=\u001b[39m\u001b[39m\"\u001b[39m\u001b[39mauto\u001b[39m\u001b[39m\"\u001b[39m, n_neighbors\u001b[39m=\u001b[39m\u001b[39m3\u001b[39m, copy\u001b[39m=\u001b[39m\u001b[39mTrue\u001b[39;00m, random_state\u001b[39m=\u001b[39m\u001b[39mNone\u001b[39;00m\n\u001b[0;32m    314\u001b[0m ):\n\u001b[0;32m    315\u001b[0m     \u001b[39m\"\"\"Estimate mutual information for a continuous target variable.\u001b[39;00m\n\u001b[0;32m    316\u001b[0m \n\u001b[0;32m    317\u001b[0m \u001b[39m    Mutual information (MI) [1]_ between two random variables is a non-negative\u001b[39;00m\n\u001b[1;32m   (...)\u001b[0m\n\u001b[0;32m    386\u001b[0m \u001b[39m           of a Random Vector\", Probl. Peredachi Inf., 23:2 (1987), 9-16\u001b[39;00m\n\u001b[0;32m    387\u001b[0m \u001b[39m    \"\"\"\u001b[39;00m\n\u001b[1;32m--> 388\u001b[0m     \u001b[39mreturn\u001b[39;00m _estimate_mi(X, y, discrete_features, \u001b[39mFalse\u001b[39;49;00m, n_neighbors, copy, random_state)\n",
      "File \u001b[1;32mc:\\ProgramData\\anaconda3\\lib\\site-packages\\sklearn\\feature_selection\\_mutual_info.py:304\u001b[0m, in \u001b[0;36m_estimate_mi\u001b[1;34m(X, y, discrete_features, discrete_target, n_neighbors, copy, random_state)\u001b[0m\n\u001b[0;32m    297\u001b[0m     y \u001b[39m=\u001b[39m scale(y, with_mean\u001b[39m=\u001b[39m\u001b[39mFalse\u001b[39;00m)\n\u001b[0;32m    298\u001b[0m     y \u001b[39m+\u001b[39m\u001b[39m=\u001b[39m (\n\u001b[0;32m    299\u001b[0m         \u001b[39m1e-10\u001b[39m\n\u001b[0;32m    300\u001b[0m         \u001b[39m*\u001b[39m np\u001b[39m.\u001b[39mmaximum(\u001b[39m1\u001b[39m, np\u001b[39m.\u001b[39mmean(np\u001b[39m.\u001b[39mabs(y)))\n\u001b[0;32m    301\u001b[0m         \u001b[39m*\u001b[39m rng\u001b[39m.\u001b[39mstandard_normal(size\u001b[39m=\u001b[39mn_samples)\n\u001b[0;32m    302\u001b[0m     )\n\u001b[1;32m--> 304\u001b[0m mi \u001b[39m=\u001b[39m [\n\u001b[0;32m    305\u001b[0m     _compute_mi(x, y, discrete_feature, discrete_target, n_neighbors)\n\u001b[0;32m    306\u001b[0m     \u001b[39mfor\u001b[39;00m x, discrete_feature \u001b[39min\u001b[39;00m \u001b[39mzip\u001b[39m(_iterate_columns(X), discrete_mask)\n\u001b[0;32m    307\u001b[0m ]\n\u001b[0;32m    309\u001b[0m \u001b[39mreturn\u001b[39;00m np\u001b[39m.\u001b[39marray(mi)\n",
      "File \u001b[1;32mc:\\ProgramData\\anaconda3\\lib\\site-packages\\sklearn\\feature_selection\\_mutual_info.py:305\u001b[0m, in \u001b[0;36m<listcomp>\u001b[1;34m(.0)\u001b[0m\n\u001b[0;32m    297\u001b[0m     y \u001b[39m=\u001b[39m scale(y, with_mean\u001b[39m=\u001b[39m\u001b[39mFalse\u001b[39;00m)\n\u001b[0;32m    298\u001b[0m     y \u001b[39m+\u001b[39m\u001b[39m=\u001b[39m (\n\u001b[0;32m    299\u001b[0m         \u001b[39m1e-10\u001b[39m\n\u001b[0;32m    300\u001b[0m         \u001b[39m*\u001b[39m np\u001b[39m.\u001b[39mmaximum(\u001b[39m1\u001b[39m, np\u001b[39m.\u001b[39mmean(np\u001b[39m.\u001b[39mabs(y)))\n\u001b[0;32m    301\u001b[0m         \u001b[39m*\u001b[39m rng\u001b[39m.\u001b[39mstandard_normal(size\u001b[39m=\u001b[39mn_samples)\n\u001b[0;32m    302\u001b[0m     )\n\u001b[0;32m    304\u001b[0m mi \u001b[39m=\u001b[39m [\n\u001b[1;32m--> 305\u001b[0m     _compute_mi(x, y, discrete_feature, discrete_target, n_neighbors)\n\u001b[0;32m    306\u001b[0m     \u001b[39mfor\u001b[39;00m x, discrete_feature \u001b[39min\u001b[39;00m \u001b[39mzip\u001b[39m(_iterate_columns(X), discrete_mask)\n\u001b[0;32m    307\u001b[0m ]\n\u001b[0;32m    309\u001b[0m \u001b[39mreturn\u001b[39;00m np\u001b[39m.\u001b[39marray(mi)\n",
      "File \u001b[1;32mc:\\ProgramData\\anaconda3\\lib\\site-packages\\sklearn\\feature_selection\\_mutual_info.py:161\u001b[0m, in \u001b[0;36m_compute_mi\u001b[1;34m(x, y, x_discrete, y_discrete, n_neighbors)\u001b[0m\n\u001b[0;32m    159\u001b[0m     \u001b[39mreturn\u001b[39;00m mutual_info_score(x, y)\n\u001b[0;32m    160\u001b[0m \u001b[39melif\u001b[39;00m x_discrete \u001b[39mand\u001b[39;00m \u001b[39mnot\u001b[39;00m y_discrete:\n\u001b[1;32m--> 161\u001b[0m     \u001b[39mreturn\u001b[39;00m _compute_mi_cd(y, x, n_neighbors)\n\u001b[0;32m    162\u001b[0m \u001b[39melif\u001b[39;00m \u001b[39mnot\u001b[39;00m x_discrete \u001b[39mand\u001b[39;00m y_discrete:\n\u001b[0;32m    163\u001b[0m     \u001b[39mreturn\u001b[39;00m _compute_mi_cd(x, y, n_neighbors)\n",
      "File \u001b[1;32mc:\\ProgramData\\anaconda3\\lib\\site-packages\\sklearn\\feature_selection\\_mutual_info.py:125\u001b[0m, in \u001b[0;36m_compute_mi_cd\u001b[1;34m(c, d, n_neighbors)\u001b[0m\n\u001b[0;32m    123\u001b[0m nn\u001b[39m.\u001b[39mset_params(n_neighbors\u001b[39m=\u001b[39mk)\n\u001b[0;32m    124\u001b[0m nn\u001b[39m.\u001b[39mfit(c[mask])\n\u001b[1;32m--> 125\u001b[0m r \u001b[39m=\u001b[39m nn\u001b[39m.\u001b[39;49mkneighbors()[\u001b[39m0\u001b[39m]\n\u001b[0;32m    126\u001b[0m radius[mask] \u001b[39m=\u001b[39m np\u001b[39m.\u001b[39mnextafter(r[:, \u001b[39m-\u001b[39m\u001b[39m1\u001b[39m], \u001b[39m0\u001b[39m)\n\u001b[0;32m    127\u001b[0m k_all[mask] \u001b[39m=\u001b[39m k\n",
      "File \u001b[1;32mc:\\ProgramData\\anaconda3\\lib\\site-packages\\sklearn\\neighbors\\_base.py:824\u001b[0m, in \u001b[0;36mKNeighborsMixin.kneighbors\u001b[1;34m(self, X, n_neighbors, return_distance)\u001b[0m\n\u001b[0;32m    817\u001b[0m use_pairwise_distances_reductions \u001b[39m=\u001b[39m (\n\u001b[0;32m    818\u001b[0m     \u001b[39mself\u001b[39m\u001b[39m.\u001b[39m_fit_method \u001b[39m==\u001b[39m \u001b[39m\"\u001b[39m\u001b[39mbrute\u001b[39m\u001b[39m\"\u001b[39m\n\u001b[0;32m    819\u001b[0m     \u001b[39mand\u001b[39;00m ArgKmin\u001b[39m.\u001b[39mis_usable_for(\n\u001b[0;32m    820\u001b[0m         X \u001b[39mif\u001b[39;00m X \u001b[39mis\u001b[39;00m \u001b[39mnot\u001b[39;00m \u001b[39mNone\u001b[39;00m \u001b[39melse\u001b[39;00m \u001b[39mself\u001b[39m\u001b[39m.\u001b[39m_fit_X, \u001b[39mself\u001b[39m\u001b[39m.\u001b[39m_fit_X, \u001b[39mself\u001b[39m\u001b[39m.\u001b[39meffective_metric_\n\u001b[0;32m    821\u001b[0m     )\n\u001b[0;32m    822\u001b[0m )\n\u001b[0;32m    823\u001b[0m \u001b[39mif\u001b[39;00m use_pairwise_distances_reductions:\n\u001b[1;32m--> 824\u001b[0m     results \u001b[39m=\u001b[39m ArgKmin\u001b[39m.\u001b[39;49mcompute(\n\u001b[0;32m    825\u001b[0m         X\u001b[39m=\u001b[39;49mX,\n\u001b[0;32m    826\u001b[0m         Y\u001b[39m=\u001b[39;49m\u001b[39mself\u001b[39;49m\u001b[39m.\u001b[39;49m_fit_X,\n\u001b[0;32m    827\u001b[0m         k\u001b[39m=\u001b[39;49mn_neighbors,\n\u001b[0;32m    828\u001b[0m         metric\u001b[39m=\u001b[39;49m\u001b[39mself\u001b[39;49m\u001b[39m.\u001b[39;49meffective_metric_,\n\u001b[0;32m    829\u001b[0m         metric_kwargs\u001b[39m=\u001b[39;49m\u001b[39mself\u001b[39;49m\u001b[39m.\u001b[39;49meffective_metric_params_,\n\u001b[0;32m    830\u001b[0m         strategy\u001b[39m=\u001b[39;49m\u001b[39m\"\u001b[39;49m\u001b[39mauto\u001b[39;49m\u001b[39m\"\u001b[39;49m,\n\u001b[0;32m    831\u001b[0m         return_distance\u001b[39m=\u001b[39;49mreturn_distance,\n\u001b[0;32m    832\u001b[0m     )\n\u001b[0;32m    834\u001b[0m \u001b[39melif\u001b[39;00m (\n\u001b[0;32m    835\u001b[0m     \u001b[39mself\u001b[39m\u001b[39m.\u001b[39m_fit_method \u001b[39m==\u001b[39m \u001b[39m\"\u001b[39m\u001b[39mbrute\u001b[39m\u001b[39m\"\u001b[39m \u001b[39mand\u001b[39;00m \u001b[39mself\u001b[39m\u001b[39m.\u001b[39mmetric \u001b[39m==\u001b[39m \u001b[39m\"\u001b[39m\u001b[39mprecomputed\u001b[39m\u001b[39m\"\u001b[39m \u001b[39mand\u001b[39;00m issparse(X)\n\u001b[0;32m    836\u001b[0m ):\n\u001b[0;32m    837\u001b[0m     results \u001b[39m=\u001b[39m _kneighbors_from_graph(\n\u001b[0;32m    838\u001b[0m         X, n_neighbors\u001b[39m=\u001b[39mn_neighbors, return_distance\u001b[39m=\u001b[39mreturn_distance\n\u001b[0;32m    839\u001b[0m     )\n",
      "File \u001b[1;32mc:\\ProgramData\\anaconda3\\lib\\site-packages\\sklearn\\metrics\\_pairwise_distances_reduction\\_dispatcher.py:277\u001b[0m, in \u001b[0;36mArgKmin.compute\u001b[1;34m(cls, X, Y, k, metric, chunk_size, metric_kwargs, strategy, return_distance)\u001b[0m\n\u001b[0;32m    196\u001b[0m \u001b[39m\"\"\"Compute the argkmin reduction.\u001b[39;00m\n\u001b[0;32m    197\u001b[0m \n\u001b[0;32m    198\u001b[0m \u001b[39mParameters\u001b[39;00m\n\u001b[1;32m   (...)\u001b[0m\n\u001b[0;32m    274\u001b[0m \u001b[39mreturns.\u001b[39;00m\n\u001b[0;32m    275\u001b[0m \u001b[39m\"\"\"\u001b[39;00m\n\u001b[0;32m    276\u001b[0m \u001b[39mif\u001b[39;00m X\u001b[39m.\u001b[39mdtype \u001b[39m==\u001b[39m Y\u001b[39m.\u001b[39mdtype \u001b[39m==\u001b[39m np\u001b[39m.\u001b[39mfloat64:\n\u001b[1;32m--> 277\u001b[0m     \u001b[39mreturn\u001b[39;00m ArgKmin64\u001b[39m.\u001b[39;49mcompute(\n\u001b[0;32m    278\u001b[0m         X\u001b[39m=\u001b[39;49mX,\n\u001b[0;32m    279\u001b[0m         Y\u001b[39m=\u001b[39;49mY,\n\u001b[0;32m    280\u001b[0m         k\u001b[39m=\u001b[39;49mk,\n\u001b[0;32m    281\u001b[0m         metric\u001b[39m=\u001b[39;49mmetric,\n\u001b[0;32m    282\u001b[0m         chunk_size\u001b[39m=\u001b[39;49mchunk_size,\n\u001b[0;32m    283\u001b[0m         metric_kwargs\u001b[39m=\u001b[39;49mmetric_kwargs,\n\u001b[0;32m    284\u001b[0m         strategy\u001b[39m=\u001b[39;49mstrategy,\n\u001b[0;32m    285\u001b[0m         return_distance\u001b[39m=\u001b[39;49mreturn_distance,\n\u001b[0;32m    286\u001b[0m     )\n\u001b[0;32m    288\u001b[0m \u001b[39mif\u001b[39;00m X\u001b[39m.\u001b[39mdtype \u001b[39m==\u001b[39m Y\u001b[39m.\u001b[39mdtype \u001b[39m==\u001b[39m np\u001b[39m.\u001b[39mfloat32:\n\u001b[0;32m    289\u001b[0m     \u001b[39mreturn\u001b[39;00m ArgKmin32\u001b[39m.\u001b[39mcompute(\n\u001b[0;32m    290\u001b[0m         X\u001b[39m=\u001b[39mX,\n\u001b[0;32m    291\u001b[0m         Y\u001b[39m=\u001b[39mY,\n\u001b[1;32m   (...)\u001b[0m\n\u001b[0;32m    297\u001b[0m         return_distance\u001b[39m=\u001b[39mreturn_distance,\n\u001b[0;32m    298\u001b[0m     )\n",
      "File \u001b[1;32msklearn\\metrics\\_pairwise_distances_reduction\\_argkmin.pyx:95\u001b[0m, in \u001b[0;36msklearn.metrics._pairwise_distances_reduction._argkmin.ArgKmin64.compute\u001b[1;34m()\u001b[0m\n",
      "File \u001b[1;32mc:\\ProgramData\\anaconda3\\lib\\site-packages\\sklearn\\utils\\fixes.py:139\u001b[0m, in \u001b[0;36mthreadpool_limits\u001b[1;34m(limits, user_api)\u001b[0m\n\u001b[0;32m    137\u001b[0m     \u001b[39mreturn\u001b[39;00m controller\u001b[39m.\u001b[39mlimit(limits\u001b[39m=\u001b[39mlimits, user_api\u001b[39m=\u001b[39muser_api)\n\u001b[0;32m    138\u001b[0m \u001b[39melse\u001b[39;00m:\n\u001b[1;32m--> 139\u001b[0m     \u001b[39mreturn\u001b[39;00m threadpoolctl\u001b[39m.\u001b[39;49mthreadpool_limits(limits\u001b[39m=\u001b[39;49mlimits, user_api\u001b[39m=\u001b[39;49muser_api)\n",
      "File \u001b[1;32mc:\\ProgramData\\anaconda3\\lib\\site-packages\\threadpoolctl.py:171\u001b[0m, in \u001b[0;36mthreadpool_limits.__init__\u001b[1;34m(self, limits, user_api)\u001b[0m\n\u001b[0;32m    167\u001b[0m \u001b[39mdef\u001b[39;00m \u001b[39m__init__\u001b[39m(\u001b[39mself\u001b[39m, limits\u001b[39m=\u001b[39m\u001b[39mNone\u001b[39;00m, user_api\u001b[39m=\u001b[39m\u001b[39mNone\u001b[39;00m):\n\u001b[0;32m    168\u001b[0m     \u001b[39mself\u001b[39m\u001b[39m.\u001b[39m_limits, \u001b[39mself\u001b[39m\u001b[39m.\u001b[39m_user_api, \u001b[39mself\u001b[39m\u001b[39m.\u001b[39m_prefixes \u001b[39m=\u001b[39m \\\n\u001b[0;32m    169\u001b[0m         \u001b[39mself\u001b[39m\u001b[39m.\u001b[39m_check_params(limits, user_api)\n\u001b[1;32m--> 171\u001b[0m     \u001b[39mself\u001b[39m\u001b[39m.\u001b[39m_original_info \u001b[39m=\u001b[39m \u001b[39mself\u001b[39;49m\u001b[39m.\u001b[39;49m_set_threadpool_limits()\n",
      "File \u001b[1;32mc:\\ProgramData\\anaconda3\\lib\\site-packages\\threadpoolctl.py:268\u001b[0m, in \u001b[0;36mthreadpool_limits._set_threadpool_limits\u001b[1;34m(self)\u001b[0m\n\u001b[0;32m    265\u001b[0m \u001b[39mif\u001b[39;00m \u001b[39mself\u001b[39m\u001b[39m.\u001b[39m_limits \u001b[39mis\u001b[39;00m \u001b[39mNone\u001b[39;00m:\n\u001b[0;32m    266\u001b[0m     \u001b[39mreturn\u001b[39;00m \u001b[39mNone\u001b[39;00m\n\u001b[1;32m--> 268\u001b[0m modules \u001b[39m=\u001b[39m _ThreadpoolInfo(prefixes\u001b[39m=\u001b[39;49m\u001b[39mself\u001b[39;49m\u001b[39m.\u001b[39;49m_prefixes,\n\u001b[0;32m    269\u001b[0m                           user_api\u001b[39m=\u001b[39;49m\u001b[39mself\u001b[39;49m\u001b[39m.\u001b[39;49m_user_api)\n\u001b[0;32m    270\u001b[0m \u001b[39mfor\u001b[39;00m module \u001b[39min\u001b[39;00m modules:\n\u001b[0;32m    271\u001b[0m     \u001b[39m# self._limits is a dict {key: num_threads} where key is either\u001b[39;00m\n\u001b[0;32m    272\u001b[0m     \u001b[39m# a prefix or a user_api. If a module matches both, the limit\u001b[39;00m\n\u001b[0;32m    273\u001b[0m     \u001b[39m# corresponding to the prefix is chosed.\u001b[39;00m\n\u001b[0;32m    274\u001b[0m     \u001b[39mif\u001b[39;00m module\u001b[39m.\u001b[39mprefix \u001b[39min\u001b[39;00m \u001b[39mself\u001b[39m\u001b[39m.\u001b[39m_limits:\n",
      "File \u001b[1;32mc:\\ProgramData\\anaconda3\\lib\\site-packages\\threadpoolctl.py:340\u001b[0m, in \u001b[0;36m_ThreadpoolInfo.__init__\u001b[1;34m(self, user_api, prefixes, modules)\u001b[0m\n\u001b[0;32m    337\u001b[0m     \u001b[39mself\u001b[39m\u001b[39m.\u001b[39muser_api \u001b[39m=\u001b[39m [] \u001b[39mif\u001b[39;00m user_api \u001b[39mis\u001b[39;00m \u001b[39mNone\u001b[39;00m \u001b[39melse\u001b[39;00m user_api\n\u001b[0;32m    339\u001b[0m     \u001b[39mself\u001b[39m\u001b[39m.\u001b[39mmodules \u001b[39m=\u001b[39m []\n\u001b[1;32m--> 340\u001b[0m     \u001b[39mself\u001b[39;49m\u001b[39m.\u001b[39;49m_load_modules()\n\u001b[0;32m    341\u001b[0m     \u001b[39mself\u001b[39m\u001b[39m.\u001b[39m_warn_if_incompatible_openmp()\n\u001b[0;32m    342\u001b[0m \u001b[39melse\u001b[39;00m:\n",
      "File \u001b[1;32mc:\\ProgramData\\anaconda3\\lib\\site-packages\\threadpoolctl.py:373\u001b[0m, in \u001b[0;36m_ThreadpoolInfo._load_modules\u001b[1;34m(self)\u001b[0m\n\u001b[0;32m    371\u001b[0m     \u001b[39mself\u001b[39m\u001b[39m.\u001b[39m_find_modules_with_dyld()\n\u001b[0;32m    372\u001b[0m \u001b[39melif\u001b[39;00m sys\u001b[39m.\u001b[39mplatform \u001b[39m==\u001b[39m \u001b[39m\"\u001b[39m\u001b[39mwin32\u001b[39m\u001b[39m\"\u001b[39m:\n\u001b[1;32m--> 373\u001b[0m     \u001b[39mself\u001b[39;49m\u001b[39m.\u001b[39;49m_find_modules_with_enum_process_module_ex()\n\u001b[0;32m    374\u001b[0m \u001b[39melse\u001b[39;00m:\n\u001b[0;32m    375\u001b[0m     \u001b[39mself\u001b[39m\u001b[39m.\u001b[39m_find_modules_with_dl_iterate_phdr()\n",
      "File \u001b[1;32mc:\\ProgramData\\anaconda3\\lib\\site-packages\\threadpoolctl.py:478\u001b[0m, in \u001b[0;36m_ThreadpoolInfo._find_modules_with_enum_process_module_ex\u001b[1;34m(self)\u001b[0m\n\u001b[0;32m    474\u001b[0m n_size \u001b[39m=\u001b[39m DWORD()\n\u001b[0;32m    475\u001b[0m \u001b[39mfor\u001b[39;00m h_module \u001b[39min\u001b[39;00m h_modules:\n\u001b[0;32m    476\u001b[0m \n\u001b[0;32m    477\u001b[0m     \u001b[39m# Get the path of the current module\u001b[39;00m\n\u001b[1;32m--> 478\u001b[0m     \u001b[39mif\u001b[39;00m \u001b[39mnot\u001b[39;00m ps_api\u001b[39m.\u001b[39;49mGetModuleFileNameExW(\n\u001b[0;32m    479\u001b[0m             h_process, h_module, ctypes\u001b[39m.\u001b[39;49mbyref(buf),\n\u001b[0;32m    480\u001b[0m             ctypes\u001b[39m.\u001b[39;49mbyref(n_size)):\n\u001b[0;32m    481\u001b[0m         \u001b[39mraise\u001b[39;00m \u001b[39mOSError\u001b[39;00m(\u001b[39m\"\u001b[39m\u001b[39mGetModuleFileNameEx failed\u001b[39m\u001b[39m\"\u001b[39m)\n\u001b[0;32m    482\u001b[0m     filepath \u001b[39m=\u001b[39m buf\u001b[39m.\u001b[39mvalue\n",
      "\u001b[1;31mKeyboardInterrupt\u001b[0m: "
     ]
    }
   ],
   "source": [
    "# mi_scores = make_mi_scores(X_train, y_train)\n",
    "# mi_scores"
   ]
  },
  {
   "cell_type": "code",
   "execution_count": null,
   "metadata": {},
   "outputs": [
    {
     "data": {
      "text/html": [
       "<div>\n",
       "<style scoped>\n",
       "    .dataframe tbody tr th:only-of-type {\n",
       "        vertical-align: middle;\n",
       "    }\n",
       "\n",
       "    .dataframe tbody tr th {\n",
       "        vertical-align: top;\n",
       "    }\n",
       "\n",
       "    .dataframe thead th {\n",
       "        text-align: right;\n",
       "    }\n",
       "</style>\n",
       "<table border=\"1\" class=\"dataframe\">\n",
       "  <thead>\n",
       "    <tr style=\"text-align: right;\">\n",
       "      <th></th>\n",
       "      <th>item_description</th>\n",
       "      <th>shop_id</th>\n",
       "      <th>item_price</th>\n",
       "      <th>quantity_sold</th>\n",
       "      <th>shop_area_sq_ft</th>\n",
       "      <th>year</th>\n",
       "      <th>month</th>\n",
       "      <th>weekday</th>\n",
       "    </tr>\n",
       "  </thead>\n",
       "  <tbody>\n",
       "    <tr>\n",
       "      <th>13201</th>\n",
       "      <td>SODA 1L</td>\n",
       "      <td>86</td>\n",
       "      <td>110</td>\n",
       "      <td>2</td>\n",
       "      <td>661</td>\n",
       "      <td>2021</td>\n",
       "      <td>10</td>\n",
       "      <td>5</td>\n",
       "    </tr>\n",
       "    <tr>\n",
       "      <th>293065</th>\n",
       "      <td>LEMONADE 500ML</td>\n",
       "      <td>37</td>\n",
       "      <td>200</td>\n",
       "      <td>2</td>\n",
       "      <td>717</td>\n",
       "      <td>2021</td>\n",
       "      <td>12</td>\n",
       "      <td>5</td>\n",
       "    </tr>\n",
       "    <tr>\n",
       "      <th>63548</th>\n",
       "      <td>LEMONADE 1.5L</td>\n",
       "      <td>66</td>\n",
       "      <td>220</td>\n",
       "      <td>3</td>\n",
       "      <td>470</td>\n",
       "      <td>2021</td>\n",
       "      <td>12</td>\n",
       "      <td>0</td>\n",
       "    </tr>\n",
       "    <tr>\n",
       "      <th>466484</th>\n",
       "      <td>GINGER BEER 1.5L</td>\n",
       "      <td>60</td>\n",
       "      <td>220</td>\n",
       "      <td>1</td>\n",
       "      <td>676</td>\n",
       "      <td>2021</td>\n",
       "      <td>10</td>\n",
       "      <td>2</td>\n",
       "    </tr>\n",
       "    <tr>\n",
       "      <th>316348</th>\n",
       "      <td>SODA 1L</td>\n",
       "      <td>112</td>\n",
       "      <td>220</td>\n",
       "      <td>3</td>\n",
       "      <td>668</td>\n",
       "      <td>2021</td>\n",
       "      <td>11</td>\n",
       "      <td>0</td>\n",
       "    </tr>\n",
       "  </tbody>\n",
       "</table>\n",
       "</div>"
      ],
      "text/plain": [
       "        item_description shop_id  item_price  quantity_sold  shop_area_sq_ft  \\\n",
       "13201            SODA 1L      86         110              2              661   \n",
       "293065    LEMONADE 500ML      37         200              2              717   \n",
       "63548      LEMONADE 1.5L      66         220              3              470   \n",
       "466484  GINGER BEER 1.5L      60         220              1              676   \n",
       "316348           SODA 1L     112         220              3              668   \n",
       "\n",
       "        year  month  weekday  \n",
       "13201   2021     10        5  \n",
       "293065  2021     12        5  \n",
       "63548   2021     12        0  \n",
       "466484  2021     10        2  \n",
       "316348  2021     11        0  "
      ]
     },
     "execution_count": 432,
     "metadata": {},
     "output_type": "execute_result"
    }
   ],
   "source": [
    "X_train.head()"
   ]
  },
  {
   "attachments": {},
   "cell_type": "markdown",
   "metadata": {},
   "source": [
    "Feature Scaling"
   ]
  },
  {
   "cell_type": "code",
   "execution_count": null,
   "metadata": {},
   "outputs": [
    {
     "data": {
      "text/html": [
       "<div>\n",
       "<style scoped>\n",
       "    .dataframe tbody tr th:only-of-type {\n",
       "        vertical-align: middle;\n",
       "    }\n",
       "\n",
       "    .dataframe tbody tr th {\n",
       "        vertical-align: top;\n",
       "    }\n",
       "\n",
       "    .dataframe thead th {\n",
       "        text-align: right;\n",
       "    }\n",
       "</style>\n",
       "<table border=\"1\" class=\"dataframe\">\n",
       "  <thead>\n",
       "    <tr style=\"text-align: right;\">\n",
       "      <th></th>\n",
       "      <th>item_description</th>\n",
       "      <th>shop_id</th>\n",
       "      <th>item_price</th>\n",
       "      <th>quantity_sold</th>\n",
       "      <th>shop_area_sq_ft</th>\n",
       "      <th>year</th>\n",
       "      <th>month</th>\n",
       "      <th>weekday</th>\n",
       "    </tr>\n",
       "  </thead>\n",
       "  <tbody>\n",
       "    <tr>\n",
       "      <th>13201</th>\n",
       "      <td>SODA 1L</td>\n",
       "      <td>86</td>\n",
       "      <td>110</td>\n",
       "      <td>2</td>\n",
       "      <td>661</td>\n",
       "      <td>2021</td>\n",
       "      <td>10</td>\n",
       "      <td>5</td>\n",
       "    </tr>\n",
       "    <tr>\n",
       "      <th>293065</th>\n",
       "      <td>LEMONADE 500ML</td>\n",
       "      <td>37</td>\n",
       "      <td>200</td>\n",
       "      <td>2</td>\n",
       "      <td>717</td>\n",
       "      <td>2021</td>\n",
       "      <td>12</td>\n",
       "      <td>5</td>\n",
       "    </tr>\n",
       "    <tr>\n",
       "      <th>63548</th>\n",
       "      <td>LEMONADE 1.5L</td>\n",
       "      <td>66</td>\n",
       "      <td>220</td>\n",
       "      <td>3</td>\n",
       "      <td>470</td>\n",
       "      <td>2021</td>\n",
       "      <td>12</td>\n",
       "      <td>0</td>\n",
       "    </tr>\n",
       "    <tr>\n",
       "      <th>466484</th>\n",
       "      <td>GINGER BEER 1.5L</td>\n",
       "      <td>60</td>\n",
       "      <td>220</td>\n",
       "      <td>1</td>\n",
       "      <td>676</td>\n",
       "      <td>2021</td>\n",
       "      <td>10</td>\n",
       "      <td>2</td>\n",
       "    </tr>\n",
       "    <tr>\n",
       "      <th>316348</th>\n",
       "      <td>SODA 1L</td>\n",
       "      <td>112</td>\n",
       "      <td>220</td>\n",
       "      <td>3</td>\n",
       "      <td>668</td>\n",
       "      <td>2021</td>\n",
       "      <td>11</td>\n",
       "      <td>0</td>\n",
       "    </tr>\n",
       "  </tbody>\n",
       "</table>\n",
       "</div>"
      ],
      "text/plain": [
       "        item_description shop_id  item_price  quantity_sold  shop_area_sq_ft  \\\n",
       "13201            SODA 1L      86         110              2              661   \n",
       "293065    LEMONADE 500ML      37         200              2              717   \n",
       "63548      LEMONADE 1.5L      66         220              3              470   \n",
       "466484  GINGER BEER 1.5L      60         220              1              676   \n",
       "316348           SODA 1L     112         220              3              668   \n",
       "\n",
       "        year  month  weekday  \n",
       "13201   2021     10        5  \n",
       "293065  2021     12        5  \n",
       "63548   2021     12        0  \n",
       "466484  2021     10        2  \n",
       "316348  2021     11        0  "
      ]
     },
     "execution_count": 433,
     "metadata": {},
     "output_type": "execute_result"
    }
   ],
   "source": [
    "X_train.head()"
   ]
  },
  {
   "cell_type": "code",
   "execution_count": 583,
   "metadata": {},
   "outputs": [],
   "source": [
    "from sklearn.preprocessing import StandardScaler\n",
    "from sklearn.preprocessing import MinMaxScaler\n",
    "X_train.reset_index(drop=True, inplace=True)\n",
    "X_test.reset_index(drop=True, inplace=True)\n",
    "\n",
    "ct2 = ColumnTransformer([(\"sScaler\", StandardScaler(), []),\n",
    "                         (\"MinMaxScaler\", MinMaxScaler(), [\"shop_area_sq_ft\",\"item_price\", \"quantity_sold\"])])\n",
    "scaled_df1_x = pd.DataFrame(ct2.fit_transform(X_train), columns=[\"shop_area_sq_ft\", \"item_price\", \"quantity_sold\"])\n",
    "scaled_df2_x = pd.DataFrame(ct2.transform(X_test), columns=[\"shop_area_sq_ft\", \"item_price\", \"quantity_sold\"])\n",
    "scaled_submission_df_x = pd.DataFrame(ct2.transform(Submission_testing), columns=[\"shop_area_sq_ft\", \"item_price\", \"quantity_sold\"])\n",
    "\n",
    "# Create copies of X_train and X_test with the scaled values\n",
    "X_train_scaled = X_train.copy()\n",
    "X_test_scaled = X_test.copy()\n",
    "X_submission_scaled = Submission_testing.copy()\n",
    "\n",
    "\n",
    "# Assign the scaled values to the new dataframes\n",
    "X_train_scaled[scaled_df1_x.columns] = scaled_df1_x\n",
    "X_test_scaled[scaled_df2_x.columns] = scaled_df2_x\n",
    "X_submission_scaled[scaled_submission_df_x.columns] = scaled_submission_df_x"
   ]
  },
  {
   "cell_type": "code",
   "execution_count": null,
   "metadata": {},
   "outputs": [
    {
     "data": {
      "text/html": [
       "<div>\n",
       "<style scoped>\n",
       "    .dataframe tbody tr th:only-of-type {\n",
       "        vertical-align: middle;\n",
       "    }\n",
       "\n",
       "    .dataframe tbody tr th {\n",
       "        vertical-align: top;\n",
       "    }\n",
       "\n",
       "    .dataframe thead th {\n",
       "        text-align: right;\n",
       "    }\n",
       "</style>\n",
       "<table border=\"1\" class=\"dataframe\">\n",
       "  <thead>\n",
       "    <tr style=\"text-align: right;\">\n",
       "      <th></th>\n",
       "      <th>item_description</th>\n",
       "      <th>shop_id</th>\n",
       "      <th>item_price</th>\n",
       "      <th>quantity_sold</th>\n",
       "      <th>shop_area_sq_ft</th>\n",
       "      <th>year</th>\n",
       "      <th>month</th>\n",
       "      <th>weekday</th>\n",
       "    </tr>\n",
       "  </thead>\n",
       "  <tbody>\n",
       "    <tr>\n",
       "      <th>0</th>\n",
       "      <td>SODA 1L</td>\n",
       "      <td>86</td>\n",
       "      <td>110</td>\n",
       "      <td>2</td>\n",
       "      <td>661</td>\n",
       "      <td>2021</td>\n",
       "      <td>10</td>\n",
       "      <td>5</td>\n",
       "    </tr>\n",
       "    <tr>\n",
       "      <th>1</th>\n",
       "      <td>LEMONADE 500ML</td>\n",
       "      <td>37</td>\n",
       "      <td>200</td>\n",
       "      <td>2</td>\n",
       "      <td>717</td>\n",
       "      <td>2021</td>\n",
       "      <td>12</td>\n",
       "      <td>5</td>\n",
       "    </tr>\n",
       "    <tr>\n",
       "      <th>2</th>\n",
       "      <td>LEMONADE 1.5L</td>\n",
       "      <td>66</td>\n",
       "      <td>220</td>\n",
       "      <td>3</td>\n",
       "      <td>470</td>\n",
       "      <td>2021</td>\n",
       "      <td>12</td>\n",
       "      <td>0</td>\n",
       "    </tr>\n",
       "    <tr>\n",
       "      <th>3</th>\n",
       "      <td>GINGER BEER 1.5L</td>\n",
       "      <td>60</td>\n",
       "      <td>220</td>\n",
       "      <td>1</td>\n",
       "      <td>676</td>\n",
       "      <td>2021</td>\n",
       "      <td>10</td>\n",
       "      <td>2</td>\n",
       "    </tr>\n",
       "    <tr>\n",
       "      <th>4</th>\n",
       "      <td>SODA 1L</td>\n",
       "      <td>112</td>\n",
       "      <td>220</td>\n",
       "      <td>3</td>\n",
       "      <td>668</td>\n",
       "      <td>2021</td>\n",
       "      <td>11</td>\n",
       "      <td>0</td>\n",
       "    </tr>\n",
       "  </tbody>\n",
       "</table>\n",
       "</div>"
      ],
      "text/plain": [
       "   item_description shop_id  item_price  quantity_sold  shop_area_sq_ft  year  \\\n",
       "0           SODA 1L      86         110              2              661  2021   \n",
       "1    LEMONADE 500ML      37         200              2              717  2021   \n",
       "2     LEMONADE 1.5L      66         220              3              470  2021   \n",
       "3  GINGER BEER 1.5L      60         220              1              676  2021   \n",
       "4           SODA 1L     112         220              3              668  2021   \n",
       "\n",
       "   month  weekday  \n",
       "0     10        5  \n",
       "1     12        5  \n",
       "2     12        0  \n",
       "3     10        2  \n",
       "4     11        0  "
      ]
     },
     "execution_count": 366,
     "metadata": {},
     "output_type": "execute_result"
    }
   ],
   "source": [
    "X_train.head()"
   ]
  },
  {
   "cell_type": "code",
   "execution_count": null,
   "metadata": {},
   "outputs": [
    {
     "data": {
      "text/html": [
       "<div>\n",
       "<style scoped>\n",
       "    .dataframe tbody tr th:only-of-type {\n",
       "        vertical-align: middle;\n",
       "    }\n",
       "\n",
       "    .dataframe tbody tr th {\n",
       "        vertical-align: top;\n",
       "    }\n",
       "\n",
       "    .dataframe thead th {\n",
       "        text-align: right;\n",
       "    }\n",
       "</style>\n",
       "<table border=\"1\" class=\"dataframe\">\n",
       "  <thead>\n",
       "    <tr style=\"text-align: right;\">\n",
       "      <th></th>\n",
       "      <th>item_description</th>\n",
       "      <th>shop_id</th>\n",
       "      <th>item_price</th>\n",
       "      <th>quantity_sold</th>\n",
       "      <th>shop_area_sq_ft</th>\n",
       "      <th>year</th>\n",
       "      <th>month</th>\n",
       "      <th>weekday</th>\n",
       "    </tr>\n",
       "  </thead>\n",
       "  <tbody>\n",
       "    <tr>\n",
       "      <th>0</th>\n",
       "      <td>GINGER BEER 1L</td>\n",
       "      <td>10</td>\n",
       "      <td>0.006623</td>\n",
       "      <td>0.019608</td>\n",
       "      <td>0.409499</td>\n",
       "      <td>2021</td>\n",
       "      <td>12</td>\n",
       "      <td>4</td>\n",
       "    </tr>\n",
       "    <tr>\n",
       "      <th>1</th>\n",
       "      <td>SODA 500ML</td>\n",
       "      <td>127</td>\n",
       "      <td>0.002016</td>\n",
       "      <td>0.019608</td>\n",
       "      <td>0.706033</td>\n",
       "      <td>2021</td>\n",
       "      <td>10</td>\n",
       "      <td>1</td>\n",
       "    </tr>\n",
       "    <tr>\n",
       "      <th>2</th>\n",
       "      <td>GINGER BEER 1.5L</td>\n",
       "      <td>84</td>\n",
       "      <td>0.010654</td>\n",
       "      <td>0.019608</td>\n",
       "      <td>0.409499</td>\n",
       "      <td>2021</td>\n",
       "      <td>10</td>\n",
       "      <td>1</td>\n",
       "    </tr>\n",
       "    <tr>\n",
       "      <th>3</th>\n",
       "      <td>GINGER BEER 1.5L</td>\n",
       "      <td>17</td>\n",
       "      <td>0.010654</td>\n",
       "      <td>0.019608</td>\n",
       "      <td>0.409499</td>\n",
       "      <td>2021</td>\n",
       "      <td>12</td>\n",
       "      <td>1</td>\n",
       "    </tr>\n",
       "    <tr>\n",
       "      <th>4</th>\n",
       "      <td>SODA 1L</td>\n",
       "      <td>83</td>\n",
       "      <td>0.004319</td>\n",
       "      <td>0.029412</td>\n",
       "      <td>0.485237</td>\n",
       "      <td>2021</td>\n",
       "      <td>12</td>\n",
       "      <td>1</td>\n",
       "    </tr>\n",
       "  </tbody>\n",
       "</table>\n",
       "</div>"
      ],
      "text/plain": [
       "   item_description shop_id  item_price  quantity_sold  shop_area_sq_ft  year  \\\n",
       "0    GINGER BEER 1L      10    0.006623       0.019608         0.409499  2021   \n",
       "1        SODA 500ML     127    0.002016       0.019608         0.706033  2021   \n",
       "2  GINGER BEER 1.5L      84    0.010654       0.019608         0.409499  2021   \n",
       "3  GINGER BEER 1.5L      17    0.010654       0.019608         0.409499  2021   \n",
       "4           SODA 1L      83    0.004319       0.029412         0.485237  2021   \n",
       "\n",
       "   month  weekday  \n",
       "0     12        4  \n",
       "1     10        1  \n",
       "2     10        1  \n",
       "3     12        1  \n",
       "4     12        1  "
      ]
     },
     "execution_count": 367,
     "metadata": {},
     "output_type": "execute_result"
    }
   ],
   "source": [
    "X_test_scaled.head()"
   ]
  },
  {
   "cell_type": "code",
   "execution_count": 584,
   "metadata": {},
   "outputs": [
    {
     "name": "stdout",
     "output_type": "stream",
     "text": [
      "Scores after standard scaling: \n",
      "RandomForestClassifier()\n",
      "Accuracy: 0.9752995474841019\n",
      "Precision: 0.9754218704498799\n",
      "Recall: 0.9746671944958739\n",
      "F1 Score: 0.9750152235636746\n"
     ]
    }
   ],
   "source": [
    "\n",
    "print(\"Scores after standard scaling: \")\n",
    "score_classification(rfc, X_train_scaled, y_train, X_test_scaled, y_test)"
   ]
  },
  {
   "cell_type": "code",
   "execution_count": 585,
   "metadata": {},
   "outputs": [
    {
     "name": "stdout",
     "output_type": "stream",
     "text": [
      "DecisionTreeClassifier()\n",
      "Accuracy: 1.0\n",
      "Precision: 1.0\n",
      "Recall: 1.0\n",
      "F1 Score: 1.0\n"
     ]
    }
   ],
   "source": [
    "score_classification(dtc, X_train_scaled, y_train, X_test_scaled, y_test)"
   ]
  },
  {
   "cell_type": "code",
   "execution_count": 586,
   "metadata": {},
   "outputs": [],
   "source": [
    "from sklearn.decomposition import PCA\n",
    "\n",
    "def apply_pca(X):\n",
    "  pca= PCA()\n",
    "  df1_x = X.copy()\n",
    "  ct = ColumnTransformer(transformers=[('encoder', OneHotEncoder(handle_unknown='ignore'), [0])], remainder='passthrough')\n",
    "\n",
    "  # One hot encoding for the item_description column\n",
    "\n",
    "  df1_encoded = ct.fit_transform(df1_x[[\"item_description\"]])\n",
    "  df1_x = pd.concat([df1_x.drop(\"item_description\", axis=1).reset_index(drop=True), pd.DataFrame(df1_encoded.toarray())], axis='columns')\n",
    "\n",
    "  df1_x.columns = df1_x.columns.astype(str)\n",
    "\n",
    "  X_pca = pca.fit_transform(df1_x)\n",
    "  component_names = [f\"PC{i+1}\" for i in range(X_pca.shape[1])]\n",
    "  X_pca = pd.DataFrame(X_pca, columns=component_names)\n",
    "  #create loadings\n",
    "  loadings = pd.DataFrame(\n",
    "  pca.components_.T,\n",
    "  columns = component_names,\n",
    "  index=df1_x.columns,\n",
    "  )\n",
    "  return pca, X_pca, loadings\n",
    "\n",
    "def plot_variance(pca, width=8, dpi=100):\n",
    "  fig, axs = plt.subplots(1,2)\n",
    "  n = pca.n_components_\n",
    "  grid = np.arange(1, n+1)\n",
    "  evr = pca.explained_variance_ratio_\n",
    "  axs[0].bar(grid,evr)\n",
    "  axs[0].set(\n",
    "      xlabel=\"Component\",title=\"% Explained Variance\", ylim=(0.0,1.0)             )\n",
    "  #Cumulative Variance\n",
    "  cv = np.cumsum(evr)\n",
    "  axs[1].plot(np.r_[0,grid], np.r_[0,cv], \"o-\")\n",
    "  axs[1].set(xlabel=\"Component\", title=\"% Cumulatve Variance\", ylim=(0.0, 1.0))\n",
    "  fig.set(figwidth=8, dpi=100)\n",
    "  return axs"
   ]
  },
  {
   "cell_type": "code",
   "execution_count": null,
   "metadata": {},
   "outputs": [
    {
     "name": "stdout",
     "output_type": "stream",
     "text": [
      "                          PC1           PC2           PC3           PC4  \\\n",
      "shop_id          9.999999e-01  4.116362e-04  2.930904e-05  6.532546e-05   \n",
      "item_price       2.802056e-06  5.847241e-07 -4.588511e-04  2.174064e-03   \n",
      "quantity_sold    4.081212e-06  6.545116e-05 -6.837778e-05 -1.860780e-03   \n",
      "shop_area_sq_ft -1.236992e-04 -6.843135e-04  1.459271e-03 -3.732076e-03   \n",
      "year            -1.577722e-30 -3.252607e-19 -5.551115e-17 -1.110223e-16   \n",
      "month            3.023357e-05  1.074471e-02 -9.927798e-01 -6.496051e-02   \n",
      "weekday          4.123347e-04 -9.999343e-01 -1.037887e-02 -2.114663e-03   \n",
      "0                3.538843e-05  4.068883e-04 -3.315671e-04 -1.910297e-02   \n",
      "1                4.679017e-05  7.441194e-04 -5.964619e-04 -4.126000e-02   \n",
      "2               -3.081984e-07  6.218528e-06 -1.296671e-04 -9.884733e-05   \n",
      "3               -2.438986e-05 -5.020817e-04 -1.177097e-02 -2.556760e-01   \n",
      "4               -9.818263e-06 -8.022412e-05  1.268312e-04 -7.160366e-03   \n",
      "5               -4.283542e-05  2.372459e-04 -2.967240e-05 -4.430792e-02   \n",
      "6                1.786115e-05  4.893499e-04  3.676640e-03 -2.471459e-02   \n",
      "7                3.017668e-06 -5.363870e-05  1.868357e-03 -1.132029e-02   \n",
      "8                1.364729e-05  2.083060e-04  1.323037e-02 -8.736476e-03   \n",
      "9                2.286626e-05  4.516244e-04  1.279754e-03 -1.220274e-02   \n",
      "10               1.293843e-05 -1.036960e-04  2.236811e-04 -1.418224e-02   \n",
      "11               1.061693e-05  4.797377e-04  2.126146e-03 -1.459973e-02   \n",
      "12               3.556186e-05 -1.810921e-04 -4.213692e-03 -4.023809e-02   \n",
      "13               1.351022e-06  8.806044e-04  1.047091e-03 -2.038558e-02   \n",
      "14              -6.899612e-05 -1.692194e-03 -7.207658e-02  9.518424e-01   \n",
      "15               1.408319e-06  2.377833e-04  5.766039e-03 -3.165994e-02   \n",
      "16              -5.864042e-06  3.461717e-04  5.941849e-04 -5.839278e-03   \n",
      "17              -1.104589e-05  5.687011e-04  1.040046e-03 -2.694873e-02   \n",
      "18               5.026364e-06  1.445073e-04  2.416264e-03 -1.085670e-02   \n",
      "19              -3.859234e-06  1.069417e-04  5.941590e-04 -4.224478e-03   \n",
      "20               1.050063e-05 -1.213463e-03 -6.512811e-03 -3.500838e-02   \n",
      "21               8.227083e-07 -5.632719e-05  4.587045e-03 -2.685139e-03   \n",
      "22              -1.838669e-05  2.373543e-04  9.670508e-04 -1.285460e-02   \n",
      "23              -4.218879e-07 -9.545176e-06 -1.044248e-04 -1.166734e-04   \n",
      "24               3.676401e-05 -9.384055e-04 -5.144431e-02 -8.488528e-02   \n",
      "25              -6.481568e-07  5.350946e-05  4.003800e-04 -2.833318e-03   \n",
      "26              -5.571549e-06  6.720122e-05  9.291760e-04 -6.845428e-03   \n",
      "27               3.005299e-05  1.507698e-03  7.601686e-02 -3.064805e-02   \n",
      "28              -1.883761e-05 -5.797498e-04  2.259593e-03 -1.643484e-02   \n",
      "29              -2.150616e-07  5.529629e-05 -5.614766e-04 -3.197786e-03   \n",
      "30              -8.421159e-06  2.271176e-04 -1.096775e-04 -9.094147e-03   \n",
      "31              -1.808598e-06 -1.173956e-03  5.532098e-03 -2.979525e-02   \n",
      "32              -4.505984e-05 -2.010186e-04  5.159228e-03 -4.246859e-02   \n",
      "33              -2.564948e-05 -1.355208e-03  6.279024e-03 -3.709832e-02   \n",
      "34               2.456624e-05  8.767602e-04 -1.163467e-03 -1.117935e-02   \n",
      "35              -2.406105e-05 -3.810633e-04  4.386085e-03 -2.846752e-02   \n",
      "36               7.017634e-06  1.885261e-04  8.538670e-03 -4.714748e-03   \n",
      "\n",
      "                          PC5           PC6           PC7           PC8  \\\n",
      "shop_id          4.389679e-05 -4.991733e-05 -2.058623e-05  7.681695e-06   \n",
      "item_price       5.283716e-03  7.324702e-03  4.116637e-03 -6.036895e-04   \n",
      "quantity_sold   -1.434300e-03 -2.532196e-03 -9.898802e-04  2.623701e-03   \n",
      "shop_area_sq_ft -1.087940e-02 -5.235819e-02 -3.323078e-02  2.060968e-02   \n",
      "year            -1.110223e-16 -4.163336e-17 -1.526557e-16 -2.269452e-15   \n",
      "month           -2.821831e-02  4.781322e-02 -7.871408e-02  6.250381e-03   \n",
      "weekday         -1.080955e-03  1.674398e-03 -2.271744e-03 -1.854751e-04   \n",
      "0               -2.736831e-02 -2.419216e-02 -1.443904e-02 -1.497882e-03   \n",
      "1               -6.847064e-02 -1.180213e-01 -8.580875e-02 -1.716951e-02   \n",
      "2               -1.014621e-04  2.793014e-05 -1.551248e-04  7.194523e-06   \n",
      "3                9.402821e-01  6.065042e-02  4.305612e-02  2.194763e-03   \n",
      "4               -9.623998e-03 -7.368348e-03 -3.900576e-03 -3.403872e-04   \n",
      "5               -7.520446e-02 -1.481555e-01 -1.113362e-01 -6.663322e-01   \n",
      "6               -3.814225e-02 -4.522706e-02 -1.488517e-02 -4.129487e-03   \n",
      "7               -1.602104e-02 -1.471744e-02 -4.751130e-03 -9.303844e-04   \n",
      "8               -1.522472e-02 -2.590321e-02  1.142584e-02 -2.858741e-03   \n",
      "9               -1.717397e-02 -1.509015e-02 -5.848669e-03 -1.055054e-03   \n",
      "10              -1.982013e-02 -1.634828e-02 -8.726966e-03 -1.136230e-03   \n",
      "11              -2.103022e-02 -1.997420e-02 -6.656478e-03 -1.464735e-03   \n",
      "12              -6.420321e-02 -8.564564e-02 -8.220631e-02 -1.033952e-02   \n",
      "13              -2.989029e-02 -2.907668e-02 -1.372174e-02 -2.066185e-03   \n",
      "14               2.074190e-01  3.066332e-02  5.111656e-02  1.867740e-04   \n",
      "15              -5.193955e-02 -8.121769e-02 -2.457130e-02 -7.760213e-03   \n",
      "16              -7.905421e-03 -6.359637e-03 -2.505246e-03 -3.601155e-04   \n",
      "17              -4.106938e-02 -4.514013e-02 -2.300061e-02 -4.018533e-03   \n",
      "18              -1.545382e-02 -1.427492e-02 -3.385646e-03 -1.268496e-03   \n",
      "19              -5.684986e-03 -4.455169e-03 -1.521052e-03 -3.437244e-04   \n",
      "20              -5.269650e-02 -5.032675e-02 -5.881025e-02 -3.559339e-03   \n",
      "21              -4.486848e-03 -6.891329e-03  3.014882e-03 -6.747467e-04   \n",
      "22              -1.804503e-02 -1.548309e-02 -6.710166e-03 -1.079590e-03   \n",
      "23              -1.313220e-04 -3.367607e-05 -1.616767e-04  1.647575e-05   \n",
      "24              -1.405147e-01  2.813150e-01  9.049176e-01 -9.075002e-03   \n",
      "25              -3.790476e-03 -3.020009e-03 -1.073637e-03 -1.668775e-04   \n",
      "26              -9.354602e-03 -7.608179e-03 -2.661469e-03 -5.788005e-04   \n",
      "27              -1.003319e-01  8.929607e-01 -3.580117e-01  2.799912e-02   \n",
      "28              -2.385000e-02 -2.271199e-02 -7.969949e-03 -1.946027e-03   \n",
      "29              -4.072017e-03 -2.473546e-03 -2.156679e-03 -7.488112e-05   \n",
      "30              -1.227524e-02 -9.095927e-03 -5.153082e-03 -6.084053e-04   \n",
      "31              -4.816702e-02 -7.020647e-02 -2.134384e-02 -6.262231e-03   \n",
      "32              -7.418438e-02 -1.722348e-01 -7.915571e-02  7.440706e-01   \n",
      "33              -6.307721e-02 -1.194195e-01 -4.097819e-02 -2.040849e-02   \n",
      "34              -1.502594e-02 -1.051317e-02 -7.695787e-03 -6.487655e-04   \n",
      "35              -4.519374e-02 -6.090782e-02 -2.079134e-02 -4.867645e-03   \n",
      "36              -8.176276e-03 -1.352357e-02  6.562494e-03 -1.452734e-03   \n",
      "\n",
      "                          PC9          PC10  ...          PC35          PC36  \\\n",
      "shop_id          6.374002e-05 -2.907658e-05  ...  3.963675e-06 -2.427732e-06   \n",
      "item_price      -3.623566e-03 -9.959823e-03  ... -3.665303e-03 -1.996510e-03   \n",
      "quantity_sold   -3.624950e-03  5.498439e-03  ... -3.045780e-03 -2.005455e-03   \n",
      "shop_area_sq_ft -5.277095e-02  3.908925e-03  ...  2.678928e-03 -3.802671e-03   \n",
      "year             7.806256e-16  1.901257e-15  ... -6.869505e-16  1.460637e-15   \n",
      "month            2.453728e-04 -5.089593e-03  ...  1.223633e-03  4.368434e-03   \n",
      "weekday          1.539359e-04  1.304172e-03  ...  3.064551e-05 -5.581255e-05   \n",
      "0               -1.527128e-02 -1.120033e-02  ... -3.652601e-02 -2.017923e-02   \n",
      "1               -4.511275e-01  7.720614e-01  ... -3.129707e-02 -1.741969e-02   \n",
      "2               -2.184898e-05 -2.908794e-05  ...  3.764142e-04  2.872649e-04   \n",
      "3                2.284642e-02  1.546421e-02  ... -2.832626e-02 -1.626348e-02   \n",
      "4               -4.171706e-03 -2.613930e-03  ... -7.584742e-02 -3.759337e-02   \n",
      "5                6.248222e-01  1.409368e-01  ... -3.092947e-02 -1.736999e-02   \n",
      "6               -2.984423e-02 -2.202271e-02  ... -3.349232e-02 -1.828447e-02   \n",
      "7               -7.796515e-03 -4.944179e-03  ... -4.469358e-02 -2.356815e-02   \n",
      "8               -8.700311e-03 -4.481314e-03  ... -4.118642e-02 -1.966877e-02   \n",
      "9               -7.929059e-03 -5.597197e-03  ... -4.319797e-02 -2.315217e-02   \n",
      "10              -9.404641e-03 -6.808088e-03  ... -4.068881e-02 -2.217623e-02   \n",
      "11              -1.072045e-02 -7.375344e-03  ... -3.930024e-02 -2.116228e-02   \n",
      "12              -1.683203e-01 -2.688895e-01  ... -3.153244e-02 -1.789076e-02   \n",
      "13              -1.818519e-02 -1.314446e-02  ... -3.547104e-02 -1.951040e-02   \n",
      "14               1.801390e-02  1.337919e-02  ... -2.787191e-02 -1.665232e-02   \n",
      "15              -7.931870e-02 -6.102037e-02  ... -3.199653e-02 -1.730263e-02   \n",
      "16              -3.289285e-03 -2.153658e-03  ... -1.124204e-01 -5.095939e-02   \n",
      "17              -3.333269e-02 -2.590863e-02  ... -3.325819e-02 -1.845511e-02   \n",
      "18              -6.770056e-03 -4.790912e-03  ... -4.518946e-02 -2.388776e-02   \n",
      "19              -2.116315e-03 -1.482287e-03  ...  9.221114e-01 -3.248145e-01   \n",
      "20              -5.790194e-02 -5.255353e-02  ... -3.244756e-02 -1.860064e-02   \n",
      "21              -2.157794e-03 -9.792596e-04  ...  2.802482e-01  9.350708e-01   \n",
      "22              -8.563507e-03 -5.872289e-03  ... -4.233196e-02 -2.282213e-02   \n",
      "23              -6.789707e-05 -3.053383e-05  ...  5.372180e-04  3.486095e-04   \n",
      "24               5.987877e-02  4.950190e-02  ... -3.071268e-02 -1.966476e-02   \n",
      "25              -1.506565e-03 -9.446696e-04  ...  5.158187e-02  3.642027e-02   \n",
      "26              -3.733203e-03 -2.571282e-03  ... -7.611995e-02 -3.754864e-02   \n",
      "27               5.023320e-02  1.749193e-02  ... -2.862436e-02 -1.299470e-02   \n",
      "28              -1.260698e-02 -8.684733e-03  ... -3.758645e-02 -2.037208e-02   \n",
      "29              -1.529283e-03 -1.051574e-03  ...  5.503703e-02  4.070577e-02   \n",
      "30              -5.010229e-03 -3.623153e-03  ... -5.574218e-02 -2.940841e-02   \n",
      "31              -6.037560e-02 -4.194161e-02  ... -3.232234e-02 -1.743911e-02   \n",
      "32               5.377961e-01  1.236355e-01  ... -3.083465e-02 -1.692997e-02   \n",
      "33              -2.442289e-01 -5.309454e-01  ... -3.127080e-02 -1.695328e-02   \n",
      "34              -6.082905e-03 -4.900949e-03  ... -4.784626e-02 -2.610494e-02   \n",
      "35              -4.939608e-02 -3.388242e-02  ... -3.258474e-02 -1.766397e-02   \n",
      "36              -4.109614e-03 -2.027607e-03  ... -6.824259e-02 -3.001942e-02   \n",
      "\n",
      "                         PC37          PC38          PC39          PC40  \\\n",
      "shop_id          3.662319e-07  3.445593e-07 -4.308731e-06  3.699110e-07   \n",
      "item_price      -1.188090e-03 -6.156599e-04  4.307099e-01  2.564925e-02   \n",
      "quantity_sold   -3.169298e-03 -1.249292e-03  9.021998e-01 -2.093224e-02   \n",
      "shop_area_sq_ft -3.251107e-03 -8.032716e-04 -2.697072e-05 -9.046172e-04   \n",
      "year             1.487525e-15  2.004907e-15 -2.147588e-15 -1.973942e-14   \n",
      "month           -1.421556e-03  5.222453e-04 -2.428381e-04 -1.556553e-04   \n",
      "weekday          1.940622e-05  1.438742e-05  5.646963e-05 -1.122300e-05   \n",
      "0               -3.395451e-02 -7.804090e-03 -7.371556e-05 -2.962851e-02   \n",
      "1               -3.063103e-02 -7.072272e-03 -4.569788e-03 -2.936823e-02   \n",
      "2                5.193461e-04  1.427937e-04  1.303106e-02  6.426203e-02   \n",
      "3               -2.868662e-02 -6.695420e-03 -2.367851e-03 -2.981773e-02   \n",
      "4               -5.018485e-02 -1.121953e-02  2.386020e-03 -3.001394e-02   \n",
      "5               -3.058887e-02 -7.061741e-03  2.812498e-03 -2.964976e-02   \n",
      "6               -3.238600e-02 -7.380180e-03  1.034844e-03 -2.978811e-02   \n",
      "7               -3.853547e-02 -8.690817e-03 -3.936246e-03 -2.991960e-02   \n",
      "8               -3.803165e-02 -8.135621e-03 -2.095944e-03 -3.017821e-02   \n",
      "9               -3.777610e-02 -8.563548e-03 -2.801690e-03 -2.965601e-02   \n",
      "10              -3.638945e-02 -8.310659e-03 -2.524020e-03 -3.009681e-02   \n",
      "11              -3.575225e-02 -8.108309e-03 -3.566207e-03 -2.961467e-02   \n",
      "12              -3.079220e-02 -7.159849e-03 -3.840039e-03 -2.999115e-02   \n",
      "13              -3.343684e-02 -7.652405e-03 -4.350570e-03 -2.956168e-02   \n",
      "14              -2.796644e-02 -6.679589e-03 -7.293668e-04 -2.976329e-02   \n",
      "15              -3.136155e-02 -7.137297e-03  2.481203e-03 -2.974443e-02   \n",
      "16              -5.889000e-02 -1.293037e-02  1.388034e-03 -3.000568e-02   \n",
      "17              -3.211677e-02 -7.375796e-03  2.074705e-03 -2.968307e-02   \n",
      "18              -3.902734e-02 -8.776710e-03  1.439953e-03 -2.978510e-02   \n",
      "19              -9.740347e-02 -2.018209e-02  2.621227e-03 -3.022525e-02   \n",
      "20              -3.127329e-02 -7.316468e-03  2.321081e-04 -2.985510e-02   \n",
      "21              -1.178608e-01 -2.243163e-02  3.082631e-03 -3.031704e-02   \n",
      "22              -3.730450e-02 -8.480702e-03  2.876685e-03 -2.978657e-02   \n",
      "23               7.344305e-04  1.916735e-04  6.544903e-03  9.815902e-01   \n",
      "24              -2.913103e-02 -7.250268e-03 -2.179537e-03 -2.978103e-02   \n",
      "25               5.134941e-01  8.381385e-01  2.842333e-03 -3.055562e-02   \n",
      "26              -5.066278e-02 -1.124812e-02  3.092378e-03 -2.996349e-02   \n",
      "27              -3.099796e-02 -6.450026e-03 -1.541706e-03 -2.997508e-02   \n",
      "28              -3.485843e-02 -7.921324e-03 -3.502698e-04 -2.995519e-02   \n",
      "29               8.190745e-01 -5.426523e-01  1.982204e-03 -3.051313e-02   \n",
      "30              -4.337650e-02 -9.822108e-03  2.498528e-03 -2.987205e-02   \n",
      "31              -3.157367e-02 -7.182022e-03  1.274867e-03 -2.967358e-02   \n",
      "32              -3.062304e-02 -7.000712e-03 -5.465406e-04 -2.955341e-02   \n",
      "33              -3.090902e-02 -7.038201e-03 -2.918124e-03 -2.975990e-02   \n",
      "34              -3.981196e-02 -9.114912e-03 -4.295799e-03 -2.969969e-02   \n",
      "35              -3.171209e-02 -7.218986e-03 -9.104001e-03 -2.979131e-02   \n",
      "36              -4.981588e-02 -1.040886e-02 -1.904769e-03 -3.030886e-02   \n",
      "\n",
      "                         PC41          PC42          PC43          PC44  \n",
      "shop_id          3.890080e-07 -8.944699e-07  0.000000e+00 -0.000000e+00  \n",
      "item_price      -1.850927e-02  9.015006e-01 -6.073874e-14  2.011920e-16  \n",
      "quantity_sold   -5.257216e-03 -4.304175e-01  3.168306e-14 -3.523170e-15  \n",
      "shop_area_sq_ft  2.238588e-04  9.152486e-05 -1.746952e-16 -6.543246e-17  \n",
      "year            -2.615443e-14  6.761779e-14  9.867469e-01  1.622672e-01  \n",
      "month           -1.460598e-04 -1.794267e-04 -2.117297e-17  1.707828e-18  \n",
      "weekday          3.374422e-06  1.586457e-05 -1.612284e-18  1.316958e-17  \n",
      "0               -2.552932e-02  5.628610e-03 -2.667656e-02  1.622202e-01  \n",
      "1               -2.549405e-02  9.851493e-03 -2.667656e-02  1.622202e-01  \n",
      "2                9.841366e-01  1.215718e-02 -2.667656e-02  1.622202e-01  \n",
      "3               -2.526526e-02 -4.724807e-03 -2.667656e-02  1.622202e-01  \n",
      "4               -2.562943e-02  7.537359e-04 -2.667656e-02  1.622202e-01  \n",
      "5               -2.548777e-02  3.520497e-03 -2.667656e-02  1.622202e-01  \n",
      "6               -2.545560e-02  2.761134e-04 -2.667656e-02  1.622202e-01  \n",
      "7               -2.543681e-02 -1.763968e-03 -2.667656e-02  1.622202e-01  \n",
      "8               -2.542021e-02 -7.685695e-03 -2.667656e-02  1.622202e-01  \n",
      "9               -2.555748e-02  6.606992e-03 -2.667656e-02  1.622202e-01  \n",
      "10              -2.533161e-02 -7.849160e-03 -2.667656e-02  1.622202e-01  \n",
      "11              -2.552970e-02  6.617937e-03 -2.667656e-02  1.622202e-01  \n",
      "12              -2.522217e-02 -8.892524e-03 -2.667656e-02  1.622202e-01  \n",
      "13              -2.548505e-02  6.512692e-03 -2.667656e-02  1.622202e-01  \n",
      "14              -2.526487e-02 -3.919772e-03 -2.667656e-02  1.622202e-01  \n",
      "15              -2.547497e-02  7.062223e-04 -2.667656e-02  1.622202e-01  \n",
      "16              -2.569871e-02  3.372235e-03 -2.667656e-02  1.622202e-01  \n",
      "17              -2.550285e-02  3.481419e-03 -2.667656e-02  1.622202e-01  \n",
      "18              -2.559849e-02  4.711999e-03 -2.667656e-02  1.622202e-01  \n",
      "19              -2.579410e-02  2.445351e-03 -2.667656e-02  1.622202e-01  \n",
      "20              -2.535210e-02 -3.451157e-03 -2.667656e-02  1.622202e-01  \n",
      "21              -2.589571e-02  2.376886e-03 -2.667656e-02  1.622202e-01  \n",
      "22              -2.557719e-02  3.535110e-03 -2.667656e-02  1.622202e-01  \n",
      "23              -9.123942e-02 -3.292019e-02 -2.667656e-02  1.622202e-01  \n",
      "24              -2.521119e-02 -4.559430e-03 -2.667656e-02  1.622202e-01  \n",
      "25              -2.595458e-02  7.535902e-04 -2.667656e-02  1.622202e-01  \n",
      "26              -2.568168e-02  3.543691e-03 -2.667656e-02  1.622202e-01  \n",
      "27              -2.542283e-02 -4.362679e-03 -2.667656e-02  1.622202e-01  \n",
      "28              -2.541024e-02 -3.601297e-03 -2.667656e-02  1.622202e-01  \n",
      "29              -2.590935e-02  6.436543e-04 -2.667656e-02  1.622202e-01  \n",
      "30              -2.561824e-02  3.556356e-03 -2.667656e-02  1.622202e-01  \n",
      "31              -2.549281e-02  2.719144e-03 -2.667656e-02  1.622202e-01  \n",
      "32              -2.548929e-02  5.617318e-03 -2.667656e-02  1.622202e-01  \n",
      "33              -2.536923e-02 -1.405957e-03 -2.667656e-02  1.622202e-01  \n",
      "34              -2.552988e-02  5.856866e-03 -2.667656e-02  1.622202e-01  \n",
      "35              -2.527335e-02 -3.311716e-03 -2.667656e-02  1.622202e-01  \n",
      "36              -2.553108e-02 -6.796737e-03 -2.667656e-02  1.622202e-01  \n",
      "\n",
      "[44 rows x 44 columns]\n"
     ]
    }
   ],
   "source": [
    "# pca, X_pca, loadings = apply_pca(X_train_scaled)\n",
    "# print(loadings)"
   ]
  },
  {
   "cell_type": "code",
   "execution_count": null,
   "metadata": {},
   "outputs": [
    {
     "data": {
      "text/plain": [
       "PC1     1.092137\n",
       "PC3     0.922312\n",
       "PC2     0.813435\n",
       "PC4     0.705458\n",
       "PC20    0.526378\n",
       "PC5     0.520097\n",
       "PC10    0.517199\n",
       "PC8     0.503522\n",
       "PC18    0.498645\n",
       "PC23    0.492386\n",
       "PC14    0.489111\n",
       "PC28    0.488910\n",
       "PC33    0.484306\n",
       "PC22    0.483800\n",
       "PC17    0.480447\n",
       "PC13    0.477267\n",
       "PC35    0.476823\n",
       "PC19    0.476669\n",
       "PC15    0.475993\n",
       "PC24    0.475980\n",
       "PC42    0.475768\n",
       "PC6     0.472890\n",
       "PC36    0.472135\n",
       "PC7     0.471602\n",
       "PC21    0.470641\n",
       "PC11    0.468679\n",
       "PC16    0.467102\n",
       "PC9     0.466920\n",
       "PC31    0.466909\n",
       "PC29    0.465286\n",
       "PC30    0.464821\n",
       "PC12    0.464109\n",
       "PC37    0.463963\n",
       "PC38    0.462273\n",
       "PC26    0.460995\n",
       "PC39    0.460308\n",
       "PC41    0.458861\n",
       "PC40    0.458274\n",
       "PC34    0.457402\n",
       "PC27    0.455995\n",
       "PC32    0.455208\n",
       "PC25    0.454391\n",
       "PC44    0.448442\n",
       "PC43    0.448416\n",
       "Name: Mutual Information Scores, dtype: float64"
      ]
     },
     "execution_count": 295,
     "metadata": {},
     "output_type": "execute_result"
    }
   ],
   "source": [
    "# mi_scores = make_mi_scores(X_pca, y_train)\n",
    "# mi_scores"
   ]
  },
  {
   "cell_type": "code",
   "execution_count": null,
   "metadata": {},
   "outputs": [
    {
     "data": {
      "text/html": [
       "<div>\n",
       "<style scoped>\n",
       "    .dataframe tbody tr th:only-of-type {\n",
       "        vertical-align: middle;\n",
       "    }\n",
       "\n",
       "    .dataframe tbody tr th {\n",
       "        vertical-align: top;\n",
       "    }\n",
       "\n",
       "    .dataframe thead th {\n",
       "        text-align: right;\n",
       "    }\n",
       "</style>\n",
       "<table border=\"1\" class=\"dataframe\">\n",
       "  <thead>\n",
       "    <tr style=\"text-align: right;\">\n",
       "      <th></th>\n",
       "      <th>item_description</th>\n",
       "      <th>shop_id</th>\n",
       "      <th>item_price</th>\n",
       "      <th>quantity_sold</th>\n",
       "      <th>shop_area_sq_ft</th>\n",
       "      <th>year</th>\n",
       "      <th>month</th>\n",
       "      <th>weekday</th>\n",
       "    </tr>\n",
       "  </thead>\n",
       "  <tbody>\n",
       "    <tr>\n",
       "      <th>0</th>\n",
       "      <td>SODA 1L</td>\n",
       "      <td>86</td>\n",
       "      <td>0.004319</td>\n",
       "      <td>0.029412</td>\n",
       "      <td>0.465982</td>\n",
       "      <td>2021</td>\n",
       "      <td>10</td>\n",
       "      <td>5</td>\n",
       "    </tr>\n",
       "    <tr>\n",
       "      <th>1</th>\n",
       "      <td>LEMONADE 500ML</td>\n",
       "      <td>37</td>\n",
       "      <td>0.009502</td>\n",
       "      <td>0.029412</td>\n",
       "      <td>0.537869</td>\n",
       "      <td>2021</td>\n",
       "      <td>12</td>\n",
       "      <td>5</td>\n",
       "    </tr>\n",
       "    <tr>\n",
       "      <th>2</th>\n",
       "      <td>LEMONADE 1.5L</td>\n",
       "      <td>66</td>\n",
       "      <td>0.010654</td>\n",
       "      <td>0.039216</td>\n",
       "      <td>0.220796</td>\n",
       "      <td>2021</td>\n",
       "      <td>12</td>\n",
       "      <td>0</td>\n",
       "    </tr>\n",
       "    <tr>\n",
       "      <th>3</th>\n",
       "      <td>GINGER BEER 1.5L</td>\n",
       "      <td>60</td>\n",
       "      <td>0.010654</td>\n",
       "      <td>0.019608</td>\n",
       "      <td>0.485237</td>\n",
       "      <td>2021</td>\n",
       "      <td>10</td>\n",
       "      <td>2</td>\n",
       "    </tr>\n",
       "    <tr>\n",
       "      <th>4</th>\n",
       "      <td>SODA 1L</td>\n",
       "      <td>112</td>\n",
       "      <td>0.010654</td>\n",
       "      <td>0.039216</td>\n",
       "      <td>0.474968</td>\n",
       "      <td>2021</td>\n",
       "      <td>11</td>\n",
       "      <td>0</td>\n",
       "    </tr>\n",
       "  </tbody>\n",
       "</table>\n",
       "</div>"
      ],
      "text/plain": [
       "   item_description shop_id  item_price  quantity_sold  shop_area_sq_ft  year  \\\n",
       "0           SODA 1L      86    0.004319       0.029412         0.465982  2021   \n",
       "1    LEMONADE 500ML      37    0.009502       0.029412         0.537869  2021   \n",
       "2     LEMONADE 1.5L      66    0.010654       0.039216         0.220796  2021   \n",
       "3  GINGER BEER 1.5L      60    0.010654       0.019608         0.485237  2021   \n",
       "4           SODA 1L     112    0.010654       0.039216         0.474968  2021   \n",
       "\n",
       "   month  weekday  \n",
       "0     10        5  \n",
       "1     12        5  \n",
       "2     12        0  \n",
       "3     10        2  \n",
       "4     11        0  "
      ]
     },
     "execution_count": 370,
     "metadata": {},
     "output_type": "execute_result"
    }
   ],
   "source": [
    "X_train_scaled.head()"
   ]
  },
  {
   "cell_type": "code",
   "execution_count": 587,
   "metadata": {},
   "outputs": [],
   "source": [
    "# Create price-related features\n",
    "X_train_scaled['total_sales'] = X_train_scaled['item_price'] * X_train_scaled['quantity_sold']\n",
    "# Create shop-related features\n",
    "# X_train_scaled['shop_sales_per_sq_ft'] = X_train_scaled['total_sales'] / X_train_scaled['shop_area_sq_ft']\n",
    "X_train_scaled['shop_sales_rank'] = X_train_scaled.groupby('shop_id')['total_sales'].rank(ascending=False)\n",
    "\n",
    "\n",
    "X_test_scaled['total_sales'] = X_test_scaled['item_price'] * X_test_scaled['quantity_sold']\n",
    "# X_test_scaled['shop_sales_per_sq_ft'] = X_test_scaled['total_sales'] / X_test_scaled['shop_area_sq_ft']\n",
    "X_test_scaled['shop_sales_rank'] = X_test_scaled.groupby('shop_id')['total_sales'].rank(ascending=False)\n",
    "\n",
    "X_submission_scaled['total_sales'] = X_submission_scaled['item_price'] * X_submission_scaled['quantity_sold']\n",
    "# X_submission_scaled['shop_sales_per_sq_ft'] = X_submission_scaled['total_sales'] / X_submission_scaled['shop_area_sq_ft']\n",
    "X_submission_scaled['shop_sales_rank'] = X_submission_scaled.groupby('shop_id')['total_sales'].rank(ascending=False)"
   ]
  },
  {
   "cell_type": "code",
   "execution_count": 588,
   "metadata": {},
   "outputs": [],
   "source": [
    "# remove the redundant columns\n",
    "\n",
    "X_train_scaled.drop(['item_price', 'quantity_sold'], axis=1, inplace=True)\n",
    "X_test_scaled.drop(['item_price', 'quantity_sold'], axis=1, inplace=True)\n",
    "X_submission_scaled.drop(['item_price', 'quantity_sold'], axis=1, inplace=True)"
   ]
  },
  {
   "cell_type": "code",
   "execution_count": 589,
   "metadata": {},
   "outputs": [
    {
     "data": {
      "text/html": [
       "<div>\n",
       "<style scoped>\n",
       "    .dataframe tbody tr th:only-of-type {\n",
       "        vertical-align: middle;\n",
       "    }\n",
       "\n",
       "    .dataframe tbody tr th {\n",
       "        vertical-align: top;\n",
       "    }\n",
       "\n",
       "    .dataframe thead th {\n",
       "        text-align: right;\n",
       "    }\n",
       "</style>\n",
       "<table border=\"1\" class=\"dataframe\">\n",
       "  <thead>\n",
       "    <tr style=\"text-align: right;\">\n",
       "      <th></th>\n",
       "      <th>item_description</th>\n",
       "      <th>shop_id</th>\n",
       "      <th>shop_area_sq_ft</th>\n",
       "      <th>year</th>\n",
       "      <th>month</th>\n",
       "      <th>weekday</th>\n",
       "      <th>total_sales</th>\n",
       "      <th>shop_sales_rank</th>\n",
       "    </tr>\n",
       "  </thead>\n",
       "  <tbody>\n",
       "    <tr>\n",
       "      <th>0</th>\n",
       "      <td>SODA 1L</td>\n",
       "      <td>86</td>\n",
       "      <td>0.465982</td>\n",
       "      <td>2021</td>\n",
       "      <td>10</td>\n",
       "      <td>5</td>\n",
       "      <td>0.000127</td>\n",
       "      <td>3003.5</td>\n",
       "    </tr>\n",
       "    <tr>\n",
       "      <th>1</th>\n",
       "      <td>LEMONADE 500ML</td>\n",
       "      <td>37</td>\n",
       "      <td>0.537869</td>\n",
       "      <td>2021</td>\n",
       "      <td>12</td>\n",
       "      <td>5</td>\n",
       "      <td>0.000279</td>\n",
       "      <td>827.5</td>\n",
       "    </tr>\n",
       "    <tr>\n",
       "      <th>2</th>\n",
       "      <td>LEMONADE 1.5L</td>\n",
       "      <td>66</td>\n",
       "      <td>0.220796</td>\n",
       "      <td>2021</td>\n",
       "      <td>12</td>\n",
       "      <td>0</td>\n",
       "      <td>0.000418</td>\n",
       "      <td>580.0</td>\n",
       "    </tr>\n",
       "    <tr>\n",
       "      <th>3</th>\n",
       "      <td>GINGER BEER 1.5L</td>\n",
       "      <td>60</td>\n",
       "      <td>0.485237</td>\n",
       "      <td>2021</td>\n",
       "      <td>10</td>\n",
       "      <td>2</td>\n",
       "      <td>0.000209</td>\n",
       "      <td>1127.5</td>\n",
       "    </tr>\n",
       "    <tr>\n",
       "      <th>4</th>\n",
       "      <td>SODA 1L</td>\n",
       "      <td>112</td>\n",
       "      <td>0.474968</td>\n",
       "      <td>2021</td>\n",
       "      <td>11</td>\n",
       "      <td>0</td>\n",
       "      <td>0.000418</td>\n",
       "      <td>285.0</td>\n",
       "    </tr>\n",
       "  </tbody>\n",
       "</table>\n",
       "</div>"
      ],
      "text/plain": [
       "   item_description shop_id  shop_area_sq_ft  year  month  weekday  \\\n",
       "0           SODA 1L      86         0.465982  2021     10        5   \n",
       "1    LEMONADE 500ML      37         0.537869  2021     12        5   \n",
       "2     LEMONADE 1.5L      66         0.220796  2021     12        0   \n",
       "3  GINGER BEER 1.5L      60         0.485237  2021     10        2   \n",
       "4           SODA 1L     112         0.474968  2021     11        0   \n",
       "\n",
       "   total_sales  shop_sales_rank  \n",
       "0     0.000127           3003.5  \n",
       "1     0.000279            827.5  \n",
       "2     0.000418            580.0  \n",
       "3     0.000209           1127.5  \n",
       "4     0.000418            285.0  "
      ]
     },
     "execution_count": 589,
     "metadata": {},
     "output_type": "execute_result"
    }
   ],
   "source": [
    "X_train_scaled.head()"
   ]
  },
  {
   "cell_type": "code",
   "execution_count": 590,
   "metadata": {},
   "outputs": [
    {
     "data": {
      "text/html": [
       "<div>\n",
       "<style scoped>\n",
       "    .dataframe tbody tr th:only-of-type {\n",
       "        vertical-align: middle;\n",
       "    }\n",
       "\n",
       "    .dataframe tbody tr th {\n",
       "        vertical-align: top;\n",
       "    }\n",
       "\n",
       "    .dataframe thead th {\n",
       "        text-align: right;\n",
       "    }\n",
       "</style>\n",
       "<table border=\"1\" class=\"dataframe\">\n",
       "  <thead>\n",
       "    <tr style=\"text-align: right;\">\n",
       "      <th></th>\n",
       "      <th>shop_area_sq_ft</th>\n",
       "      <th>year</th>\n",
       "      <th>month</th>\n",
       "      <th>weekday</th>\n",
       "      <th>total_sales</th>\n",
       "      <th>shop_sales_rank</th>\n",
       "    </tr>\n",
       "  </thead>\n",
       "  <tbody>\n",
       "    <tr>\n",
       "      <th>count</th>\n",
       "      <td>266064.000000</td>\n",
       "      <td>266064.0</td>\n",
       "      <td>266064.000000</td>\n",
       "      <td>266064.000000</td>\n",
       "      <td>266064.000000</td>\n",
       "      <td>266064.000000</td>\n",
       "    </tr>\n",
       "    <tr>\n",
       "      <th>mean</th>\n",
       "      <td>0.430169</td>\n",
       "      <td>2021.0</td>\n",
       "      <td>11.024182</td>\n",
       "      <td>3.341437</td>\n",
       "      <td>0.000379</td>\n",
       "      <td>1449.060155</td>\n",
       "    </tr>\n",
       "    <tr>\n",
       "      <th>std</th>\n",
       "      <td>0.159823</td>\n",
       "      <td>0.0</td>\n",
       "      <td>0.776629</td>\n",
       "      <td>2.012698</td>\n",
       "      <td>0.001923</td>\n",
       "      <td>940.751166</td>\n",
       "    </tr>\n",
       "    <tr>\n",
       "      <th>min</th>\n",
       "      <td>0.000000</td>\n",
       "      <td>2021.0</td>\n",
       "      <td>10.000000</td>\n",
       "      <td>0.000000</td>\n",
       "      <td>0.000000</td>\n",
       "      <td>1.000000</td>\n",
       "    </tr>\n",
       "    <tr>\n",
       "      <th>25%</th>\n",
       "      <td>0.394095</td>\n",
       "      <td>2021.0</td>\n",
       "      <td>10.000000</td>\n",
       "      <td>2.000000</td>\n",
       "      <td>0.000110</td>\n",
       "      <td>694.500000</td>\n",
       "    </tr>\n",
       "    <tr>\n",
       "      <th>50%</th>\n",
       "      <td>0.409499</td>\n",
       "      <td>2021.0</td>\n",
       "      <td>11.000000</td>\n",
       "      <td>4.000000</td>\n",
       "      <td>0.000209</td>\n",
       "      <td>1341.000000</td>\n",
       "    </tr>\n",
       "    <tr>\n",
       "      <th>75%</th>\n",
       "      <td>0.485237</td>\n",
       "      <td>2021.0</td>\n",
       "      <td>12.000000</td>\n",
       "      <td>5.000000</td>\n",
       "      <td>0.000313</td>\n",
       "      <td>2091.500000</td>\n",
       "    </tr>\n",
       "    <tr>\n",
       "      <th>max</th>\n",
       "      <td>1.000000</td>\n",
       "      <td>2021.0</td>\n",
       "      <td>12.000000</td>\n",
       "      <td>6.000000</td>\n",
       "      <td>0.607843</td>\n",
       "      <td>4513.000000</td>\n",
       "    </tr>\n",
       "  </tbody>\n",
       "</table>\n",
       "</div>"
      ],
      "text/plain": [
       "       shop_area_sq_ft      year          month        weekday    total_sales  \\\n",
       "count    266064.000000  266064.0  266064.000000  266064.000000  266064.000000   \n",
       "mean          0.430169    2021.0      11.024182       3.341437       0.000379   \n",
       "std           0.159823       0.0       0.776629       2.012698       0.001923   \n",
       "min           0.000000    2021.0      10.000000       0.000000       0.000000   \n",
       "25%           0.394095    2021.0      10.000000       2.000000       0.000110   \n",
       "50%           0.409499    2021.0      11.000000       4.000000       0.000209   \n",
       "75%           0.485237    2021.0      12.000000       5.000000       0.000313   \n",
       "max           1.000000    2021.0      12.000000       6.000000       0.607843   \n",
       "\n",
       "       shop_sales_rank  \n",
       "count    266064.000000  \n",
       "mean       1449.060155  \n",
       "std         940.751166  \n",
       "min           1.000000  \n",
       "25%         694.500000  \n",
       "50%        1341.000000  \n",
       "75%        2091.500000  \n",
       "max        4513.000000  "
      ]
     },
     "execution_count": 590,
     "metadata": {},
     "output_type": "execute_result"
    }
   ],
   "source": [
    "X_train_scaled.describe()"
   ]
  },
  {
   "cell_type": "code",
   "execution_count": 591,
   "metadata": {},
   "outputs": [
    {
     "data": {
      "text/plain": [
       "item_description    0\n",
       "shop_id             0\n",
       "shop_area_sq_ft     0\n",
       "year                0\n",
       "month               0\n",
       "weekday             0\n",
       "total_sales         0\n",
       "shop_sales_rank     0\n",
       "dtype: int64"
      ]
     },
     "execution_count": 591,
     "metadata": {},
     "output_type": "execute_result"
    }
   ],
   "source": [
    "#check for missing values\n",
    "\n",
    "X_train_scaled.isnull().sum()"
   ]
  },
  {
   "cell_type": "code",
   "execution_count": 593,
   "metadata": {},
   "outputs": [
    {
     "data": {
      "text/plain": [
       "item_description    6314\n",
       "shop_id                0\n",
       "shop_area_sq_ft        0\n",
       "year                   0\n",
       "month                  0\n",
       "weekday                0\n",
       "total_sales            0\n",
       "shop_sales_rank        0\n",
       "dtype: int64"
      ]
     },
     "execution_count": 593,
     "metadata": {},
     "output_type": "execute_result"
    }
   ],
   "source": [
    "X_submission_scaled.isnull().sum()"
   ]
  },
  {
   "cell_type": "code",
   "execution_count": 594,
   "metadata": {},
   "outputs": [],
   "source": [
    "# drop the rows with missing values\n",
    "\n",
    "X_train_scaled.dropna(inplace=True)\n",
    "X_test_scaled.dropna(inplace=True)\n",
    "X_submission_scaled.dropna(inplace=True)"
   ]
  },
  {
   "cell_type": "code",
   "execution_count": null,
   "metadata": {},
   "outputs": [],
   "source": [
    "# # Impute missing values for the shop_sales_per_sq_ft column\n",
    "\n",
    "# from sklearn.impute import SimpleImputer\n",
    "\n",
    "# imputer = SimpleImputer(missing_values = np.nan, strategy=\"mean\")\n",
    "# imputer.fit(X_train_scaled[[\"shop_sales_per_sq_ft\"]])\n",
    "\n",
    "# X_train_scaled = pd.DataFrame(imputer.transform(X_train_scaled), columns=[\"shop_sales_per_sq_ft\"]])\n",
    "# X_test_scaled = pd.DataFrame(imputer.transform(X_test_scaled), columns=X_train_scaled.columns)\n",
    "# X_submission_scaled = pd.DataFrame(imputer.transform(X_submission_scaled), columns=X_submission_scaled.columns)"
   ]
  },
  {
   "cell_type": "code",
   "execution_count": 595,
   "metadata": {},
   "outputs": [
    {
     "name": "stdout",
     "output_type": "stream",
     "text": [
      "DecisionTreeClassifier()\n",
      "Accuracy: 1.0\n",
      "Precision: 1.0\n",
      "Recall: 1.0\n",
      "F1 Score: 1.0\n"
     ]
    }
   ],
   "source": [
    "score_classification(dtc, X_train_scaled, y_train, X_test_scaled, y_test)"
   ]
  },
  {
   "cell_type": "code",
   "execution_count": 596,
   "metadata": {},
   "outputs": [
    {
     "name": "stdout",
     "output_type": "stream",
     "text": [
      "DecisionTreeClassifier()\n"
     ]
    }
   ],
   "source": [
    "outputResult(dtc, X_train, y_train, Submission_testing, le)"
   ]
  }
 ],
 "metadata": {
  "kernelspec": {
   "display_name": "base",
   "language": "python",
   "name": "python3"
  },
  "language_info": {
   "codemirror_mode": {
    "name": "ipython",
    "version": 3
   },
   "file_extension": ".py",
   "mimetype": "text/x-python",
   "name": "python",
   "nbconvert_exporter": "python",
   "pygments_lexer": "ipython3",
   "version": "3.10.9"
  },
  "orig_nbformat": 4
 },
 "nbformat": 4,
 "nbformat_minor": 2
}
