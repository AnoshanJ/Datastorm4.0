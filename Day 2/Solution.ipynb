{
 "cells": [
  {
   "attachments": {},
   "cell_type": "markdown",
   "metadata": {},
   "source": [
    "# Preliminaries"
   ]
  },
  {
   "cell_type": "code",
   "execution_count": 446,
   "metadata": {},
   "outputs": [],
   "source": [
    "import numpy as np\n",
    "import pandas as pd\n",
    "import seaborn as sns\n",
    "import matplotlib.pyplot as plt\n",
    "import warnings"
   ]
  },
  {
   "cell_type": "code",
   "execution_count": 447,
   "metadata": {},
   "outputs": [],
   "source": [
    "# Set Matplotlib defaults\n",
    "plt.style.use(\"seaborn-whitegrid\")\n",
    "plt.rc(\"figure\", autolayout=True)\n",
    "plt.rc(\n",
    "    \"axes\",\n",
    "    labelweight=\"bold\",\n",
    "    labelsize=\"large\",\n",
    "    titleweight=\"bold\",\n",
    "    titlesize=14,\n",
    "    titlepad=10,\n",
    ")\n",
    "\n",
    "warnings.filterwarnings('ignore')"
   ]
  },
  {
   "attachments": {},
   "cell_type": "markdown",
   "metadata": {},
   "source": [
    "Import the data"
   ]
  },
  {
   "cell_type": "code",
   "execution_count": 448,
   "metadata": {},
   "outputs": [],
   "source": [
    "path = \"../Datasets/\"\n",
    "Train = pd.read_csv(path + '/Historical-transaction-data.csv')\n",
    "StoreInfo = pd.read_csv(path + '/Store-info.csv')\n",
    "Submission_testing = pd.read_csv(path + '/Testing-data.csv')"
   ]
  },
  {
   "attachments": {},
   "cell_type": "markdown",
   "metadata": {},
   "source": [
    "Join both datasets to form a train dataset"
   ]
  },
  {
   "cell_type": "code",
   "execution_count": 449,
   "metadata": {},
   "outputs": [],
   "source": [
    "Train = Train.merge(StoreInfo, on='shop_id', how='left')"
   ]
  },
  {
   "cell_type": "code",
   "execution_count": 450,
   "metadata": {},
   "outputs": [],
   "source": [
    "Submission_testing.drop(\"shop_profile\", axis=1, inplace=True)\n",
    "# Submission_testing = Submission_testing.merge(StoreInfo, on='shop_id', how='left')\n",
    "# Submission_testing.drop(\"shop_profile\", axis=1, inplace=True)\n",
    "Submission_testing = Submission_testing.merge(Train, on='shop_id', how='left')"
   ]
  },
  {
   "cell_type": "code",
   "execution_count": 451,
   "metadata": {},
   "outputs": [],
   "source": [
    "Submission_testing.drop(\"shop_profile\", axis=1, inplace=True)"
   ]
  },
  {
   "cell_type": "code",
   "execution_count": 452,
   "metadata": {},
   "outputs": [],
   "source": [
    "# Train.head()"
   ]
  },
  {
   "cell_type": "code",
   "execution_count": 453,
   "metadata": {},
   "outputs": [],
   "source": [
    "# Submission_testing.head()"
   ]
  },
  {
   "cell_type": "code",
   "execution_count": 454,
   "metadata": {},
   "outputs": [
    {
     "name": "stdout",
     "output_type": "stream",
     "text": [
      "New length:  473974\n"
     ]
    }
   ],
   "source": [
    "print(\"New length: \", Train.shape[0])"
   ]
  },
  {
   "attachments": {},
   "cell_type": "markdown",
   "metadata": {},
   "source": [
    "Remove Duplicates"
   ]
  },
  {
   "cell_type": "code",
   "execution_count": 455,
   "metadata": {},
   "outputs": [],
   "source": [
    "i_length = Train.shape[0]"
   ]
  },
  {
   "cell_type": "code",
   "execution_count": 456,
   "metadata": {},
   "outputs": [],
   "source": [
    "Train.drop_duplicates(inplace=True)"
   ]
  },
  {
   "cell_type": "code",
   "execution_count": 457,
   "metadata": {},
   "outputs": [
    {
     "name": "stdout",
     "output_type": "stream",
     "text": [
      "Duplicates dropped from Train:  31211\n",
      "New length:  442763\n"
     ]
    }
   ],
   "source": [
    "\n",
    "print(\"Duplicates dropped from Train: \", i_length - Train.shape[0] )\n",
    "print(\"New length: \", Train.shape[0])"
   ]
  },
  {
   "attachments": {},
   "cell_type": "markdown",
   "metadata": {},
   "source": [
    "# Analysis"
   ]
  },
  {
   "attachments": {},
   "cell_type": "markdown",
   "metadata": {},
   "source": [
    "Missing data"
   ]
  },
  {
   "cell_type": "code",
   "execution_count": 458,
   "metadata": {},
   "outputs": [],
   "source": [
    "# plt.figure(figsize=(10,8))\n",
    "# cols = Train.columns\n",
    "# colours = ['#000099', '#ffff00'] # specify colours: yellow - missing. blue - not missing\n",
    "# sns.heatmap(Train[cols].isna(), cmap=sns.color_palette(colours))"
   ]
  },
  {
   "cell_type": "code",
   "execution_count": 459,
   "metadata": {},
   "outputs": [],
   "source": [
    "# # No. of columns missing for the rows\n",
    "# missing_by_row = Train.isna().sum(axis=\"columns\")\n",
    "# missing_by_row.hist(bins=100)"
   ]
  },
  {
   "cell_type": "code",
   "execution_count": 460,
   "metadata": {},
   "outputs": [
    {
     "data": {
      "text/plain": [
       "item_description    0.079198\n",
       "transaction_date    0.000000\n",
       "invoice_id          0.013030\n",
       "customer_id         0.000000\n",
       "shop_id             0.000000\n",
       "item_price          0.000000\n",
       "quantity_sold       0.000000\n",
       "shop_area_sq_ft     0.000000\n",
       "shop_profile        0.183565\n",
       "dtype: float64"
      ]
     },
     "execution_count": 460,
     "metadata": {},
     "output_type": "execute_result"
    }
   ],
   "source": [
    "pct_missing = Train.isna().mean()\n",
    "pct_missing[:15]"
   ]
  },
  {
   "cell_type": "code",
   "execution_count": 461,
   "metadata": {},
   "outputs": [],
   "source": [
    "#Remove rows with null values for item_description or shop_profile\n",
    "Train = Train.dropna(subset=['item_description', 'shop_profile'], axis=0)"
   ]
  },
  {
   "cell_type": "code",
   "execution_count": 462,
   "metadata": {},
   "outputs": [],
   "source": [
    "# Train.info()"
   ]
  },
  {
   "cell_type": "code",
   "execution_count": 463,
   "metadata": {},
   "outputs": [
    {
     "name": "stdout",
     "output_type": "stream",
     "text": [
      "New length:  332581\n"
     ]
    }
   ],
   "source": [
    "print(\"New length: \", Train.shape[0])"
   ]
  },
  {
   "attachments": {},
   "cell_type": "markdown",
   "metadata": {},
   "source": [
    "Fill Missing Values"
   ]
  },
  {
   "cell_type": "code",
   "execution_count": 464,
   "metadata": {},
   "outputs": [],
   "source": [
    "# Train.info()"
   ]
  },
  {
   "attachments": {},
   "cell_type": "markdown",
   "metadata": {},
   "source": [
    "Encoding"
   ]
  },
  {
   "cell_type": "code",
   "execution_count": 465,
   "metadata": {},
   "outputs": [],
   "source": [
    "# Set the data types of each feature\n",
    "\n",
    "# The nominative (unordered) categorical features\n",
    "features_nom = [\"item_description\", \"customer_id\", \"shop_id\", \"shop_profile\"]\n",
    "\n",
    "for feature in features_nom:\n",
    "    Train[feature] = Train[feature].astype(\"category\")\n",
    "    if feature == \"shop_profile\":\n",
    "        continue\n",
    "    Submission_testing[feature] = Submission_testing[feature].astype(\"category\")\n",
    "\n",
    "Train[\"transaction_date\"] = pd.to_datetime(Train[\"transaction_date\"])"
   ]
  },
  {
   "cell_type": "code",
   "execution_count": 466,
   "metadata": {},
   "outputs": [],
   "source": [
    "Train_y = Train[\"shop_profile\"]\n",
    "# Train_y_withShopID = Train[\"shop_id\", \"shop_profile\"]\n",
    "Train.drop(\"shop_profile\", axis=1, inplace=True)"
   ]
  },
  {
   "cell_type": "code",
   "execution_count": 467,
   "metadata": {},
   "outputs": [],
   "source": [
    "# Train.info()"
   ]
  },
  {
   "cell_type": "code",
   "execution_count": 468,
   "metadata": {},
   "outputs": [],
   "source": [
    "Train.drop([\"invoice_id\", \"customer_id\"], axis=1, inplace=True)\n",
    "Submission_testing.drop([\"invoice_id\", \"customer_id\"], axis=1, inplace=True)"
   ]
  },
  {
   "cell_type": "code",
   "execution_count": 469,
   "metadata": {},
   "outputs": [],
   "source": [
    "# # creating mask\n",
    "# mask = np.triu(np.ones_like(Train.corr()))\n",
    " \n",
    "# # plotting a triangle correlation heatmap\n",
    "# dataplot = sns.heatmap(Train.corr(), cmap=\"YlGnBu\", annot=True, mask=mask)\n",
    " \n",
    "# # displaying heatmap\n",
    "# plt.show()"
   ]
  },
  {
   "cell_type": "code",
   "execution_count": 470,
   "metadata": {},
   "outputs": [
    {
     "data": {
      "text/plain": [
       "item_price         382.227475\n",
       "quantity_sold      420.507197\n",
       "shop_area_sq_ft      2.908254\n",
       "dtype: float64"
      ]
     },
     "execution_count": 470,
     "metadata": {},
     "output_type": "execute_result"
    }
   ],
   "source": [
    "# Check for outliers\n",
    "\n",
    "Train.kurt(numeric_only=True)"
   ]
  },
  {
   "cell_type": "code",
   "execution_count": 471,
   "metadata": {},
   "outputs": [
    {
     "data": {
      "text/plain": [
       "count    332581.000000\n",
       "mean          1.874626\n",
       "std           1.539118\n",
       "min          -1.000000\n",
       "25%           1.000000\n",
       "50%           2.000000\n",
       "75%           2.000000\n",
       "max         101.000000\n",
       "Name: quantity_sold, dtype: float64"
      ]
     },
     "execution_count": 471,
     "metadata": {},
     "output_type": "execute_result"
    }
   ],
   "source": [
    "Train[\"quantity_sold\"].describe()"
   ]
  },
  {
   "cell_type": "code",
   "execution_count": 472,
   "metadata": {},
   "outputs": [],
   "source": [
    "# TODO : further investigate the outliers"
   ]
  },
  {
   "cell_type": "code",
   "execution_count": 473,
   "metadata": {},
   "outputs": [
    {
     "data": {
      "text/plain": [
       "count    332581.000000\n",
       "mean        214.825306\n",
       "std         167.916289\n",
       "min          35.000000\n",
       "25%         110.000000\n",
       "50%         220.000000\n",
       "75%         220.000000\n",
       "max       17400.000000\n",
       "Name: item_price, dtype: float64"
      ]
     },
     "execution_count": 473,
     "metadata": {},
     "output_type": "execute_result"
    }
   ],
   "source": [
    "Train[\"item_price\"].describe()"
   ]
  },
  {
   "cell_type": "code",
   "execution_count": 474,
   "metadata": {},
   "outputs": [
    {
     "data": {
      "text/html": [
       "<div>\n",
       "<style scoped>\n",
       "    .dataframe tbody tr th:only-of-type {\n",
       "        vertical-align: middle;\n",
       "    }\n",
       "\n",
       "    .dataframe tbody tr th {\n",
       "        vertical-align: top;\n",
       "    }\n",
       "\n",
       "    .dataframe thead th {\n",
       "        text-align: right;\n",
       "    }\n",
       "</style>\n",
       "<table border=\"1\" class=\"dataframe\">\n",
       "  <thead>\n",
       "    <tr style=\"text-align: right;\">\n",
       "      <th></th>\n",
       "      <th>item_description</th>\n",
       "      <th>shop_id</th>\n",
       "      <th>item_price</th>\n",
       "      <th>quantity_sold</th>\n",
       "      <th>shop_area_sq_ft</th>\n",
       "      <th>year</th>\n",
       "      <th>month</th>\n",
       "      <th>weekday</th>\n",
       "    </tr>\n",
       "  </thead>\n",
       "  <tbody>\n",
       "    <tr>\n",
       "      <th>0</th>\n",
       "      <td>ORANGE BARLEY 1.5L</td>\n",
       "      <td>SHOP008</td>\n",
       "      <td>220</td>\n",
       "      <td>2</td>\n",
       "      <td>678</td>\n",
       "      <td>2021</td>\n",
       "      <td>12</td>\n",
       "      <td>5</td>\n",
       "    </tr>\n",
       "    <tr>\n",
       "      <th>1</th>\n",
       "      <td>GINGER BEER 1.5L</td>\n",
       "      <td>SHOP112</td>\n",
       "      <td>220</td>\n",
       "      <td>2</td>\n",
       "      <td>668</td>\n",
       "      <td>2021</td>\n",
       "      <td>10</td>\n",
       "      <td>6</td>\n",
       "    </tr>\n",
       "    <tr>\n",
       "      <th>2</th>\n",
       "      <td>TONIC PET 500ML</td>\n",
       "      <td>SHOP008</td>\n",
       "      <td>160</td>\n",
       "      <td>2</td>\n",
       "      <td>678</td>\n",
       "      <td>2021</td>\n",
       "      <td>12</td>\n",
       "      <td>0</td>\n",
       "    </tr>\n",
       "    <tr>\n",
       "      <th>3</th>\n",
       "      <td>CREAM SODA 1L</td>\n",
       "      <td>SHOP008</td>\n",
       "      <td>150</td>\n",
       "      <td>2</td>\n",
       "      <td>678</td>\n",
       "      <td>2021</td>\n",
       "      <td>12</td>\n",
       "      <td>0</td>\n",
       "    </tr>\n",
       "    <tr>\n",
       "      <th>4</th>\n",
       "      <td>STRAWBERRY MILK 180ML</td>\n",
       "      <td>SHOP112</td>\n",
       "      <td>210</td>\n",
       "      <td>5</td>\n",
       "      <td>668</td>\n",
       "      <td>2021</td>\n",
       "      <td>10</td>\n",
       "      <td>5</td>\n",
       "    </tr>\n",
       "  </tbody>\n",
       "</table>\n",
       "</div>"
      ],
      "text/plain": [
       "        item_description  shop_id  item_price  quantity_sold  shop_area_sq_ft  \\\n",
       "0     ORANGE BARLEY 1.5L  SHOP008         220              2              678   \n",
       "1       GINGER BEER 1.5L  SHOP112         220              2              668   \n",
       "2        TONIC PET 500ML  SHOP008         160              2              678   \n",
       "3          CREAM SODA 1L  SHOP008         150              2              678   \n",
       "4  STRAWBERRY MILK 180ML  SHOP112         210              5              668   \n",
       "\n",
       "   year  month  weekday  \n",
       "0  2021     12        5  \n",
       "1  2021     10        6  \n",
       "2  2021     12        0  \n",
       "3  2021     12        0  \n",
       "4  2021     10        5  "
      ]
     },
     "execution_count": 474,
     "metadata": {},
     "output_type": "execute_result"
    }
   ],
   "source": [
    "Train['timestamp_dt'] = pd.to_datetime(Train['transaction_date'], format='%Y-%m-%d')\n",
    "Train['year'] = Train['timestamp_dt'].dt.year\n",
    "Train['month'] = Train['timestamp_dt'].dt.month\n",
    "Train['weekday'] = Train['timestamp_dt'].dt.weekday\n",
    "\n",
    "Train.drop(['timestamp_dt', 'transaction_date'], axis=1, inplace=True)\n",
    "\n",
    "Train.head()"
   ]
  },
  {
   "cell_type": "code",
   "execution_count": 475,
   "metadata": {},
   "outputs": [
    {
     "data": {
      "text/html": [
       "<div>\n",
       "<style scoped>\n",
       "    .dataframe tbody tr th:only-of-type {\n",
       "        vertical-align: middle;\n",
       "    }\n",
       "\n",
       "    .dataframe tbody tr th {\n",
       "        vertical-align: top;\n",
       "    }\n",
       "\n",
       "    .dataframe thead th {\n",
       "        text-align: right;\n",
       "    }\n",
       "</style>\n",
       "<table border=\"1\" class=\"dataframe\">\n",
       "  <thead>\n",
       "    <tr style=\"text-align: right;\">\n",
       "      <th></th>\n",
       "      <th>shop_id</th>\n",
       "      <th>item_description</th>\n",
       "      <th>item_price</th>\n",
       "      <th>quantity_sold</th>\n",
       "      <th>shop_area_sq_ft</th>\n",
       "      <th>year</th>\n",
       "      <th>month</th>\n",
       "      <th>weekday</th>\n",
       "    </tr>\n",
       "  </thead>\n",
       "  <tbody>\n",
       "    <tr>\n",
       "      <th>0</th>\n",
       "      <td>SHOP046</td>\n",
       "      <td>FIT O MIXED FRUIT 1L</td>\n",
       "      <td>270</td>\n",
       "      <td>1</td>\n",
       "      <td>545</td>\n",
       "      <td>2021</td>\n",
       "      <td>10</td>\n",
       "      <td>4</td>\n",
       "    </tr>\n",
       "    <tr>\n",
       "      <th>1</th>\n",
       "      <td>SHOP046</td>\n",
       "      <td>FIT O ORANGE 1L</td>\n",
       "      <td>290</td>\n",
       "      <td>1</td>\n",
       "      <td>545</td>\n",
       "      <td>2021</td>\n",
       "      <td>10</td>\n",
       "      <td>2</td>\n",
       "    </tr>\n",
       "    <tr>\n",
       "      <th>2</th>\n",
       "      <td>SHOP046</td>\n",
       "      <td>LEMONADE 1.5L</td>\n",
       "      <td>220</td>\n",
       "      <td>2</td>\n",
       "      <td>545</td>\n",
       "      <td>2021</td>\n",
       "      <td>10</td>\n",
       "      <td>3</td>\n",
       "    </tr>\n",
       "    <tr>\n",
       "      <th>3</th>\n",
       "      <td>SHOP046</td>\n",
       "      <td>FIT O MANGO 200ML</td>\n",
       "      <td>180</td>\n",
       "      <td>4</td>\n",
       "      <td>545</td>\n",
       "      <td>2021</td>\n",
       "      <td>11</td>\n",
       "      <td>2</td>\n",
       "    </tr>\n",
       "    <tr>\n",
       "      <th>4</th>\n",
       "      <td>SHOP046</td>\n",
       "      <td>FIT O MIXED FRUIT 200ML</td>\n",
       "      <td>60</td>\n",
       "      <td>1</td>\n",
       "      <td>545</td>\n",
       "      <td>2021</td>\n",
       "      <td>11</td>\n",
       "      <td>2</td>\n",
       "    </tr>\n",
       "  </tbody>\n",
       "</table>\n",
       "</div>"
      ],
      "text/plain": [
       "   shop_id         item_description  item_price  quantity_sold  \\\n",
       "0  SHOP046     FIT O MIXED FRUIT 1L         270              1   \n",
       "1  SHOP046          FIT O ORANGE 1L         290              1   \n",
       "2  SHOP046            LEMONADE 1.5L         220              2   \n",
       "3  SHOP046        FIT O MANGO 200ML         180              4   \n",
       "4  SHOP046  FIT O MIXED FRUIT 200ML          60              1   \n",
       "\n",
       "   shop_area_sq_ft  year  month  weekday  \n",
       "0              545  2021     10        4  \n",
       "1              545  2021     10        2  \n",
       "2              545  2021     10        3  \n",
       "3              545  2021     11        2  \n",
       "4              545  2021     11        2  "
      ]
     },
     "execution_count": 475,
     "metadata": {},
     "output_type": "execute_result"
    }
   ],
   "source": [
    "Submission_testing['timestamp_dt'] = pd.to_datetime(Submission_testing['transaction_date'], format='%Y-%m-%d')\n",
    "Submission_testing['year'] = Submission_testing['timestamp_dt'].dt.year\n",
    "Submission_testing['month'] = Submission_testing['timestamp_dt'].dt.month\n",
    "Submission_testing['weekday'] = Submission_testing['timestamp_dt'].dt.weekday\n",
    "\n",
    "Submission_testing.drop(['timestamp_dt', 'transaction_date'], axis=1, inplace=True)\n",
    "\n",
    "Submission_testing.head()"
   ]
  },
  {
   "cell_type": "code",
   "execution_count": 476,
   "metadata": {},
   "outputs": [],
   "source": [
    "from sklearn.preprocessing import LabelEncoder\n",
    "le = LabelEncoder()\n",
    "Train_y = le.fit_transform(Train_y)"
   ]
  },
  {
   "cell_type": "code",
   "execution_count": 477,
   "metadata": {},
   "outputs": [],
   "source": [
    "# remove the substring \"SHOP\" from the shop_id column and convert it to int\n",
    "Train[\"shop_id\"] = Train[\"shop_id\"].str.replace(\"SHOP\", \"\").astype(int)\n",
    "# Train[\"shop_id\"] = Train[\"shop_id\"].str.replace(\"SHOP\", \"\")\n",
    "# Train[\"shop_id\"] = Train[\"shop_id\"].astype()\")\n",
    "# convert it to categorical\n",
    "Train[\"shop_id\"] = Train[\"shop_id\"].astype(\"category\")"
   ]
  },
  {
   "cell_type": "code",
   "execution_count": 478,
   "metadata": {},
   "outputs": [],
   "source": [
    "# remove the substring \"SHOP\" from the shop_id column\n",
    "Submission_testing[\"shop_id\"] = Submission_testing[\"shop_id\"].str.replace(\"SHOP\", \"\").astype(int)\n",
    "StoreInfo[\"shop_id\"] = StoreInfo[\"shop_id\"].str.replace(\"SHOP\", \"\").astype(int)"
   ]
  },
  {
   "cell_type": "code",
   "execution_count": 479,
   "metadata": {},
   "outputs": [],
   "source": [
    "## Splitting the dataset into the Training set and Test set\n",
    "\n",
    "from sklearn.model_selection import train_test_split\n",
    "X_train, X_test, y_train, y_test = train_test_split(Train, Train_y, test_size = 0.2, random_state = 1)"
   ]
  },
  {
   "cell_type": "code",
   "execution_count": 480,
   "metadata": {},
   "outputs": [
    {
     "data": {
      "text/html": [
       "<div>\n",
       "<style scoped>\n",
       "    .dataframe tbody tr th:only-of-type {\n",
       "        vertical-align: middle;\n",
       "    }\n",
       "\n",
       "    .dataframe tbody tr th {\n",
       "        vertical-align: top;\n",
       "    }\n",
       "\n",
       "    .dataframe thead th {\n",
       "        text-align: right;\n",
       "    }\n",
       "</style>\n",
       "<table border=\"1\" class=\"dataframe\">\n",
       "  <thead>\n",
       "    <tr style=\"text-align: right;\">\n",
       "      <th></th>\n",
       "      <th>item_description</th>\n",
       "      <th>shop_id</th>\n",
       "      <th>item_price</th>\n",
       "      <th>quantity_sold</th>\n",
       "      <th>shop_area_sq_ft</th>\n",
       "      <th>year</th>\n",
       "      <th>month</th>\n",
       "      <th>weekday</th>\n",
       "    </tr>\n",
       "  </thead>\n",
       "  <tbody>\n",
       "    <tr>\n",
       "      <th>13201</th>\n",
       "      <td>SODA 1L</td>\n",
       "      <td>86</td>\n",
       "      <td>110</td>\n",
       "      <td>2</td>\n",
       "      <td>661</td>\n",
       "      <td>2021</td>\n",
       "      <td>10</td>\n",
       "      <td>5</td>\n",
       "    </tr>\n",
       "    <tr>\n",
       "      <th>293065</th>\n",
       "      <td>LEMONADE 500ML</td>\n",
       "      <td>37</td>\n",
       "      <td>200</td>\n",
       "      <td>2</td>\n",
       "      <td>717</td>\n",
       "      <td>2021</td>\n",
       "      <td>12</td>\n",
       "      <td>5</td>\n",
       "    </tr>\n",
       "    <tr>\n",
       "      <th>63548</th>\n",
       "      <td>LEMONADE 1.5L</td>\n",
       "      <td>66</td>\n",
       "      <td>220</td>\n",
       "      <td>3</td>\n",
       "      <td>470</td>\n",
       "      <td>2021</td>\n",
       "      <td>12</td>\n",
       "      <td>0</td>\n",
       "    </tr>\n",
       "    <tr>\n",
       "      <th>466484</th>\n",
       "      <td>GINGER BEER 1.5L</td>\n",
       "      <td>60</td>\n",
       "      <td>220</td>\n",
       "      <td>1</td>\n",
       "      <td>676</td>\n",
       "      <td>2021</td>\n",
       "      <td>10</td>\n",
       "      <td>2</td>\n",
       "    </tr>\n",
       "    <tr>\n",
       "      <th>316348</th>\n",
       "      <td>SODA 1L</td>\n",
       "      <td>112</td>\n",
       "      <td>220</td>\n",
       "      <td>3</td>\n",
       "      <td>668</td>\n",
       "      <td>2021</td>\n",
       "      <td>11</td>\n",
       "      <td>0</td>\n",
       "    </tr>\n",
       "  </tbody>\n",
       "</table>\n",
       "</div>"
      ],
      "text/plain": [
       "        item_description shop_id  item_price  quantity_sold  shop_area_sq_ft  \\\n",
       "13201            SODA 1L      86         110              2              661   \n",
       "293065    LEMONADE 500ML      37         200              2              717   \n",
       "63548      LEMONADE 1.5L      66         220              3              470   \n",
       "466484  GINGER BEER 1.5L      60         220              1              676   \n",
       "316348           SODA 1L     112         220              3              668   \n",
       "\n",
       "        year  month  weekday  \n",
       "13201   2021     10        5  \n",
       "293065  2021     12        5  \n",
       "63548   2021     12        0  \n",
       "466484  2021     10        2  \n",
       "316348  2021     11        0  "
      ]
     },
     "execution_count": 480,
     "metadata": {},
     "output_type": "execute_result"
    }
   ],
   "source": [
    "X_train.head()"
   ]
  },
  {
   "cell_type": "code",
   "execution_count": 481,
   "metadata": {},
   "outputs": [],
   "source": [
    "y_train = pd.DataFrame(y_train)\n",
    "y_test = pd.DataFrame(y_test)"
   ]
  },
  {
   "cell_type": "code",
   "execution_count": 482,
   "metadata": {},
   "outputs": [],
   "source": [
    "# X_train.info()"
   ]
  },
  {
   "cell_type": "code",
   "execution_count": 483,
   "metadata": {},
   "outputs": [],
   "source": [
    "Submission_testing = Submission_testing[Train.columns]"
   ]
  },
  {
   "cell_type": "code",
   "execution_count": 484,
   "metadata": {},
   "outputs": [],
   "source": [
    "# X_train.head()"
   ]
  },
  {
   "cell_type": "code",
   "execution_count": 485,
   "metadata": {},
   "outputs": [
    {
     "data": {
      "text/plain": [
       "item_description     37\n",
       "shop_id             100\n",
       "item_price          172\n",
       "quantity_sold        59\n",
       "shop_area_sq_ft      53\n",
       "year                  1\n",
       "month                 3\n",
       "weekday               7\n",
       "dtype: int64"
      ]
     },
     "execution_count": 485,
     "metadata": {},
     "output_type": "execute_result"
    }
   ],
   "source": [
    "# unique values in each column\n",
    "X_train.nunique()"
   ]
  },
  {
   "cell_type": "code",
   "execution_count": 486,
   "metadata": {},
   "outputs": [
    {
     "name": "stdout",
     "output_type": "stream",
     "text": [
      "<class 'pandas.core.frame.DataFrame'>\n",
      "Int64Index: 266064 entries, 13201 to 182378\n",
      "Data columns (total 8 columns):\n",
      " #   Column            Non-Null Count   Dtype   \n",
      "---  ------            --------------   -----   \n",
      " 0   item_description  266064 non-null  category\n",
      " 1   shop_id           266064 non-null  category\n",
      " 2   item_price        266064 non-null  int64   \n",
      " 3   quantity_sold     266064 non-null  int64   \n",
      " 4   shop_area_sq_ft   266064 non-null  int64   \n",
      " 5   year              266064 non-null  int64   \n",
      " 6   month             266064 non-null  int64   \n",
      " 7   weekday           266064 non-null  int64   \n",
      "dtypes: category(2), int64(6)\n",
      "memory usage: 14.7 MB\n"
     ]
    }
   ],
   "source": [
    "X_train.info()"
   ]
  },
  {
   "cell_type": "code",
   "execution_count": 487,
   "metadata": {},
   "outputs": [],
   "source": [
    "categorical_columns = [\"year\", \"month\", \"weekday\"]\n",
    "\n",
    "for category in categorical_columns:\n",
    "    Train[category] = Train[category].astype(\"category\")"
   ]
  },
  {
   "attachments": {},
   "cell_type": "markdown",
   "metadata": {},
   "source": [
    "# Metrics"
   ]
  },
  {
   "cell_type": "code",
   "execution_count": 488,
   "metadata": {},
   "outputs": [],
   "source": [
    "from sklearn.metrics import accuracy_score, precision_score, recall_score, f1_score\n",
    "from sklearn.preprocessing import OneHotEncoder\n",
    "from sklearn.compose import ColumnTransformer\n",
    "\n",
    "\n",
    "def score_classification(model, df1_x, df1_y, df2_x, df2_y):\n",
    "  print(model)\n",
    "  df1_x = df1_x.copy()\n",
    "  df2_x = df2_x.copy()\n",
    "  \n",
    "  ct = ColumnTransformer(transformers=[('encoder', OneHotEncoder(handle_unknown='ignore'), [0])], remainder='passthrough')\n",
    " \n",
    "  # One hot encoding for the item_description column\n",
    "\n",
    "  df1_encoded = ct.fit_transform(df1_x[[\"item_description\"]])\n",
    "  df1_x = pd.concat([df1_x.drop(\"item_description\", axis=1).reset_index(drop=True), pd.DataFrame(df1_encoded.toarray())], axis='columns')\n",
    " \n",
    "  df2_encoded = ct.transform(df2_x[[\"item_description\"]]) \n",
    "  df2_x = pd.concat([df2_x.drop(\"item_description\", axis=1).reset_index(drop=True), pd.DataFrame(df2_encoded.toarray())], axis='columns')    \n",
    "  \n",
    "  df1_x.columns = df1_x.columns.astype(str)\n",
    "  df2_x.columns = df2_x.columns.astype(str)\n",
    " \n",
    "  # Fit the model  \n",
    "  model.fit(df1_x, df1_y)\n",
    "\n",
    "  # Make predictions\n",
    "  y_pred = model.predict(df2_x)\n",
    "\n",
    "  # Evaluate the model\n",
    "  accuracy = accuracy_score(df2_y, y_pred)\n",
    "  precision = precision_score(df2_y, y_pred,  average='macro')\n",
    "  recall = recall_score(df2_y, y_pred,  average='macro')\n",
    "  f1 = f1_score(df2_y, y_pred,  average='macro')\n",
    "\n",
    "  print(f\"Accuracy: {accuracy}\")\n",
    "  print(f\"Precision: {precision}\")\n",
    "  print(f\"Recall: {recall}\")\n",
    "  print(f\"F1 Score: {f1}\")"
   ]
  },
  {
   "cell_type": "code",
   "execution_count": 489,
   "metadata": {},
   "outputs": [
    {
     "name": "stdout",
     "output_type": "stream",
     "text": [
      "<class 'pandas.core.frame.DataFrame'>\n",
      "Int64Index: 86633 entries, 0 to 86632\n",
      "Data columns (total 8 columns):\n",
      " #   Column            Non-Null Count  Dtype   \n",
      "---  ------            --------------  -----   \n",
      " 0   item_description  80319 non-null  category\n",
      " 1   shop_id           86633 non-null  int32   \n",
      " 2   item_price        86633 non-null  int64   \n",
      " 3   quantity_sold     86633 non-null  int64   \n",
      " 4   shop_area_sq_ft   86633 non-null  int64   \n",
      " 5   year              86633 non-null  int64   \n",
      " 6   month             86633 non-null  int64   \n",
      " 7   weekday           86633 non-null  int64   \n",
      "dtypes: category(1), int32(1), int64(6)\n",
      "memory usage: 5.0 MB\n"
     ]
    }
   ],
   "source": [
    "Submission_testing.info()"
   ]
  },
  {
   "attachments": {},
   "cell_type": "markdown",
   "metadata": {},
   "source": [
    "## Result Output"
   ]
  },
  {
   "cell_type": "code",
   "execution_count": 490,
   "metadata": {},
   "outputs": [],
   "source": [
    "def outputResult(model, df1_x, df1_y, test, le):\n",
    "    print(model)\n",
    "    df1_x = df1_x.copy()\n",
    "    df2_x = test.copy()\n",
    "    \n",
    "    ct = ColumnTransformer(transformers=[('encoder', OneHotEncoder(handle_unknown='ignore'), [0])], remainder='passthrough')\n",
    "\n",
    "    # One hot encoding for the item_description column\n",
    "\n",
    "    df1_encoded = ct.fit_transform(df1_x[[\"item_description\"]])\n",
    "    df1_x = pd.concat([df1_x.drop(\"item_description\", axis=1).reset_index(drop=True), pd.DataFrame(df1_encoded.toarray())], axis='columns')\n",
    "\n",
    "    df2_encoded = ct.transform(df2_x[[\"item_description\"]])\n",
    "    df2_x = pd.concat([df2_x.drop(\"item_description\", axis=1).reset_index(drop=True), pd.DataFrame(df2_encoded.toarray())], axis='columns')\n",
    "\n",
    "    df1_x.columns = df1_x.columns.astype(str)\n",
    "    df2_x.columns = df2_x.columns.astype(str)\n",
    "\n",
    "    # Fit the model on the training data\n",
    "    model.fit(df1_x, df1_y)\n",
    "    \n",
    "    # Make predictions on the test data\n",
    "    y_pred = model.predict(df2_x)\n",
    "    \n",
    "    # Inverse transform the encoded predictions to the original shop profiles\n",
    "    y_pred = le.inverse_transform(y_pred)    \n",
    "    \n",
    "    # Create a dataframe with the predicted shop profiles\n",
    "    results_df = pd.DataFrame({'shop_id': test.shop_id, 'shop_profile': y_pred})    \n",
    "    # rename the shop_id column with the word \"SHOP\" and add a 0 in front of the shop_id\n",
    "    results_df[\"shop_id\"] = results_df[\"shop_id\"].astype(str)\n",
    "    results_df[\"shop_id\"] = \"SHOP\" + results_df[\"shop_id\"].str.zfill(3)\n",
    "    \n",
    "    # group the dataframe by shop_id and use the most frequent shop_profile\n",
    "    results_df = results_df.groupby('shop_id', sort=False)['shop_profile'].agg(lambda x:x.value_counts().index[0]).reset_index()\n",
    "\n",
    "    results_df.drop_duplicates(inplace=True)\n",
    "    # Write the dataframe to a CSV file\n",
    "    results_df.to_csv('predictions'+str(model).strip(\"()\")+'.csv', index=False)"
   ]
  },
  {
   "attachments": {},
   "cell_type": "markdown",
   "metadata": {},
   "source": [
    "# Modelling"
   ]
  },
  {
   "cell_type": "code",
   "execution_count": 491,
   "metadata": {},
   "outputs": [
    {
     "name": "stdout",
     "output_type": "stream",
     "text": [
      "['SODA 1L', 'LEMONADE 500ML', 'LEMONADE 1.5L', 'GINGER BEER 1.5L', 'SODA 500ML', ..., 'GINGER BEER SUGAR FREE 500ML', 'LEMONADE 1L', 'NECTO 1L', 'CHOCOLATE MILK 180ML', 'LIME CRUSH JUICE 1L']\n",
      "Length: 37\n",
      "Categories (37, object): ['BOTTLED DRINKING WATER 1.5L', 'BOTTLED DRINKING WATER 500ML', 'CHOCOLATE MILK 180ML', 'CREAM SODA 1.5L', ..., 'SODA PET 1.5L', 'STRAWBERRY MILK 180ML', 'TONIC PET 500ML', 'TWISTEE APPLE 1L']\n",
      "0\n"
     ]
    }
   ],
   "source": [
    "# unique values in item_description column\n",
    "\n",
    "print(X_train['item_description'].unique())\n",
    "\n",
    "# no of null values in item_description column\n",
    "\n",
    "print(X_train['item_description'].isnull().sum())"
   ]
  },
  {
   "cell_type": "code",
   "execution_count": 492,
   "metadata": {},
   "outputs": [],
   "source": [
    "from sklearn.linear_model import LogisticRegression\n",
    "import sys\n",
    "logr = LogisticRegression()\n",
    "# np.set_printoptions(threshold=np.inf)\n",
    "# score_classification(logr, X_train, y_train, X_test, y_test)\n",
    "# np.set_printoptions(threshold=1000)"
   ]
  },
  {
   "cell_type": "code",
   "execution_count": 493,
   "metadata": {},
   "outputs": [
    {
     "data": {
      "text/html": [
       "<div>\n",
       "<style scoped>\n",
       "    .dataframe tbody tr th:only-of-type {\n",
       "        vertical-align: middle;\n",
       "    }\n",
       "\n",
       "    .dataframe tbody tr th {\n",
       "        vertical-align: top;\n",
       "    }\n",
       "\n",
       "    .dataframe thead th {\n",
       "        text-align: right;\n",
       "    }\n",
       "</style>\n",
       "<table border=\"1\" class=\"dataframe\">\n",
       "  <thead>\n",
       "    <tr style=\"text-align: right;\">\n",
       "      <th></th>\n",
       "      <th>item_description</th>\n",
       "      <th>shop_id</th>\n",
       "      <th>item_price</th>\n",
       "      <th>quantity_sold</th>\n",
       "      <th>shop_area_sq_ft</th>\n",
       "      <th>year</th>\n",
       "      <th>month</th>\n",
       "      <th>weekday</th>\n",
       "    </tr>\n",
       "  </thead>\n",
       "  <tbody>\n",
       "    <tr>\n",
       "      <th>0</th>\n",
       "      <td>FIT O MIXED FRUIT 1L</td>\n",
       "      <td>46</td>\n",
       "      <td>270</td>\n",
       "      <td>1</td>\n",
       "      <td>545</td>\n",
       "      <td>2021</td>\n",
       "      <td>10</td>\n",
       "      <td>4</td>\n",
       "    </tr>\n",
       "    <tr>\n",
       "      <th>1</th>\n",
       "      <td>FIT O ORANGE 1L</td>\n",
       "      <td>46</td>\n",
       "      <td>290</td>\n",
       "      <td>1</td>\n",
       "      <td>545</td>\n",
       "      <td>2021</td>\n",
       "      <td>10</td>\n",
       "      <td>2</td>\n",
       "    </tr>\n",
       "    <tr>\n",
       "      <th>2</th>\n",
       "      <td>LEMONADE 1.5L</td>\n",
       "      <td>46</td>\n",
       "      <td>220</td>\n",
       "      <td>2</td>\n",
       "      <td>545</td>\n",
       "      <td>2021</td>\n",
       "      <td>10</td>\n",
       "      <td>3</td>\n",
       "    </tr>\n",
       "    <tr>\n",
       "      <th>3</th>\n",
       "      <td>FIT O MANGO 200ML</td>\n",
       "      <td>46</td>\n",
       "      <td>180</td>\n",
       "      <td>4</td>\n",
       "      <td>545</td>\n",
       "      <td>2021</td>\n",
       "      <td>11</td>\n",
       "      <td>2</td>\n",
       "    </tr>\n",
       "    <tr>\n",
       "      <th>4</th>\n",
       "      <td>FIT O MIXED FRUIT 200ML</td>\n",
       "      <td>46</td>\n",
       "      <td>60</td>\n",
       "      <td>1</td>\n",
       "      <td>545</td>\n",
       "      <td>2021</td>\n",
       "      <td>11</td>\n",
       "      <td>2</td>\n",
       "    </tr>\n",
       "  </tbody>\n",
       "</table>\n",
       "</div>"
      ],
      "text/plain": [
       "          item_description  shop_id  item_price  quantity_sold  \\\n",
       "0     FIT O MIXED FRUIT 1L       46         270              1   \n",
       "1          FIT O ORANGE 1L       46         290              1   \n",
       "2            LEMONADE 1.5L       46         220              2   \n",
       "3        FIT O MANGO 200ML       46         180              4   \n",
       "4  FIT O MIXED FRUIT 200ML       46          60              1   \n",
       "\n",
       "   shop_area_sq_ft  year  month  weekday  \n",
       "0              545  2021     10        4  \n",
       "1              545  2021     10        2  \n",
       "2              545  2021     10        3  \n",
       "3              545  2021     11        2  \n",
       "4              545  2021     11        2  "
      ]
     },
     "execution_count": 493,
     "metadata": {},
     "output_type": "execute_result"
    }
   ],
   "source": [
    "Submission_testing.head()"
   ]
  },
  {
   "cell_type": "code",
   "execution_count": 494,
   "metadata": {},
   "outputs": [],
   "source": [
    "# outputResult(logr, X_train, y_train, Submission_testing, le)"
   ]
  },
  {
   "cell_type": "code",
   "execution_count": 495,
   "metadata": {},
   "outputs": [
    {
     "name": "stdout",
     "output_type": "stream",
     "text": [
      "DecisionTreeClassifier()\n",
      "Accuracy: 1.0\n",
      "Precision: 1.0\n",
      "Recall: 1.0\n",
      "F1 Score: 1.0\n"
     ]
    }
   ],
   "source": [
    "from sklearn.tree import DecisionTreeClassifier\n",
    "\n",
    "dtc = DecisionTreeClassifier()\n",
    "\n",
    "score_classification(dtc, X_train, y_train, X_test, y_test)"
   ]
  },
  {
   "cell_type": "code",
   "execution_count": 496,
   "metadata": {},
   "outputs": [],
   "source": [
    "from sklearn.ensemble import RandomForestClassifier\n",
    "\n",
    "rfc = RandomForestClassifier()\n",
    "\n",
    "# score_classification(rfc, X_train, y_train, X_test, y_test)"
   ]
  },
  {
   "attachments": {},
   "cell_type": "markdown",
   "metadata": {},
   "source": [
    "Bug with KNeighborsClassifiers"
   ]
  },
  {
   "cell_type": "code",
   "execution_count": 497,
   "metadata": {},
   "outputs": [],
   "source": [
    "# #Dont use this\n",
    "# from sklearn.neighbors import KNeighborsClassifier\n",
    "\n",
    "# knn = KNeighborsClassifier()\n",
    "\n",
    "# score_classification(knn, X_train, y_train, X_test, y_test)"
   ]
  },
  {
   "cell_type": "code",
   "execution_count": 498,
   "metadata": {},
   "outputs": [],
   "source": [
    "# outputResult(knn, X_train, y_train, Submission_testing, le)"
   ]
  },
  {
   "cell_type": "code",
   "execution_count": 499,
   "metadata": {},
   "outputs": [],
   "source": [
    "# from sklearn.naive_bayes import GaussianNB\n",
    "\n",
    "# nb = GaussianNB()\n",
    "\n",
    "# score_classification(nb, X_train, y_train, X_test, y_test)"
   ]
  },
  {
   "cell_type": "code",
   "execution_count": 500,
   "metadata": {},
   "outputs": [],
   "source": [
    "# import xgboost as xgb\n",
    "\n",
    "# xgb_model = xgb.XGBClassifier(objective='binary:logistic', n_estimators=100, max_depth=5)\n",
    "\n",
    "# score_classification(xgb_model, X_train, y_train, X_test, y_test)\n"
   ]
  },
  {
   "attachments": {},
   "cell_type": "markdown",
   "metadata": {},
   "source": [
    "# Feature Engineering"
   ]
  },
  {
   "attachments": {},
   "cell_type": "markdown",
   "metadata": {},
   "source": [
    "Mutual Information"
   ]
  },
  {
   "cell_type": "code",
   "execution_count": 501,
   "metadata": {},
   "outputs": [],
   "source": [
    "from sklearn.feature_selection import mutual_info_regression\n",
    "\n",
    "def make_mi_scores(X,y):\n",
    "  X = X.copy()\n",
    "  for colname in X.select_dtypes([\"object\", \"category\"]):\n",
    "    X[colname], _ = X[colname].factorize()\n",
    "  # all discrete features should now have integer dtypes\n",
    "  discrete_features = [pd.api.types.is_integer_dtype(t) for t in X.dtypes]\n",
    "  mi_scores = mutual_info_regression(X, y, discrete_features=discrete_features, random_state=0)\n",
    "  mi_scores = pd.Series(mi_scores, name=\"Mutual Information Scores\", index=X.columns)\n",
    "  mi_scores = mi_scores.sort_values(ascending=False)\n",
    "  return mi_scores\n",
    "\n",
    "\n",
    "def plot_mi_scores(scores):\n",
    "  scores = scores.sort_values(ascending=True)\n",
    "  width = np.arange(len(scores))\n",
    "  ticks = list(scores.index)\n",
    "  plt.barh(width,scores)\n",
    "  plt.yticks(width, ticks)\n",
    "  plt.title(\"Mututal Information Scores\")"
   ]
  },
  {
   "cell_type": "code",
   "execution_count": 502,
   "metadata": {},
   "outputs": [],
   "source": [
    "# mi_scores = make_mi_scores(X_train, y_train)\n",
    "# mi_scores"
   ]
  },
  {
   "cell_type": "code",
   "execution_count": 503,
   "metadata": {},
   "outputs": [
    {
     "data": {
      "text/plain": [
       "array([2021], dtype=int64)"
      ]
     },
     "execution_count": 503,
     "metadata": {},
     "output_type": "execute_result"
    }
   ],
   "source": [
    "X_train['year'].unique()"
   ]
  },
  {
   "cell_type": "code",
   "execution_count": 504,
   "metadata": {},
   "outputs": [],
   "source": [
    "X_train.drop('year', axis=1, inplace=True)\n",
    "X_test.drop('year', axis=1, inplace=True)\n",
    "Submission_testing.drop('year', axis=1, inplace=True)"
   ]
  },
  {
   "cell_type": "code",
   "execution_count": 505,
   "metadata": {},
   "outputs": [
    {
     "data": {
      "text/html": [
       "<div>\n",
       "<style scoped>\n",
       "    .dataframe tbody tr th:only-of-type {\n",
       "        vertical-align: middle;\n",
       "    }\n",
       "\n",
       "    .dataframe tbody tr th {\n",
       "        vertical-align: top;\n",
       "    }\n",
       "\n",
       "    .dataframe thead th {\n",
       "        text-align: right;\n",
       "    }\n",
       "</style>\n",
       "<table border=\"1\" class=\"dataframe\">\n",
       "  <thead>\n",
       "    <tr style=\"text-align: right;\">\n",
       "      <th></th>\n",
       "      <th>item_description</th>\n",
       "      <th>shop_id</th>\n",
       "      <th>item_price</th>\n",
       "      <th>quantity_sold</th>\n",
       "      <th>shop_area_sq_ft</th>\n",
       "      <th>month</th>\n",
       "      <th>weekday</th>\n",
       "    </tr>\n",
       "  </thead>\n",
       "  <tbody>\n",
       "    <tr>\n",
       "      <th>13201</th>\n",
       "      <td>SODA 1L</td>\n",
       "      <td>86</td>\n",
       "      <td>110</td>\n",
       "      <td>2</td>\n",
       "      <td>661</td>\n",
       "      <td>10</td>\n",
       "      <td>5</td>\n",
       "    </tr>\n",
       "    <tr>\n",
       "      <th>293065</th>\n",
       "      <td>LEMONADE 500ML</td>\n",
       "      <td>37</td>\n",
       "      <td>200</td>\n",
       "      <td>2</td>\n",
       "      <td>717</td>\n",
       "      <td>12</td>\n",
       "      <td>5</td>\n",
       "    </tr>\n",
       "    <tr>\n",
       "      <th>63548</th>\n",
       "      <td>LEMONADE 1.5L</td>\n",
       "      <td>66</td>\n",
       "      <td>220</td>\n",
       "      <td>3</td>\n",
       "      <td>470</td>\n",
       "      <td>12</td>\n",
       "      <td>0</td>\n",
       "    </tr>\n",
       "    <tr>\n",
       "      <th>466484</th>\n",
       "      <td>GINGER BEER 1.5L</td>\n",
       "      <td>60</td>\n",
       "      <td>220</td>\n",
       "      <td>1</td>\n",
       "      <td>676</td>\n",
       "      <td>10</td>\n",
       "      <td>2</td>\n",
       "    </tr>\n",
       "    <tr>\n",
       "      <th>316348</th>\n",
       "      <td>SODA 1L</td>\n",
       "      <td>112</td>\n",
       "      <td>220</td>\n",
       "      <td>3</td>\n",
       "      <td>668</td>\n",
       "      <td>11</td>\n",
       "      <td>0</td>\n",
       "    </tr>\n",
       "  </tbody>\n",
       "</table>\n",
       "</div>"
      ],
      "text/plain": [
       "        item_description shop_id  item_price  quantity_sold  shop_area_sq_ft  \\\n",
       "13201            SODA 1L      86         110              2              661   \n",
       "293065    LEMONADE 500ML      37         200              2              717   \n",
       "63548      LEMONADE 1.5L      66         220              3              470   \n",
       "466484  GINGER BEER 1.5L      60         220              1              676   \n",
       "316348           SODA 1L     112         220              3              668   \n",
       "\n",
       "        month  weekday  \n",
       "13201      10        5  \n",
       "293065     12        5  \n",
       "63548      12        0  \n",
       "466484     10        2  \n",
       "316348     11        0  "
      ]
     },
     "execution_count": 505,
     "metadata": {},
     "output_type": "execute_result"
    }
   ],
   "source": [
    "X_train.head()"
   ]
  },
  {
   "attachments": {},
   "cell_type": "markdown",
   "metadata": {},
   "source": [
    "Feature Scaling"
   ]
  },
  {
   "cell_type": "code",
   "execution_count": 506,
   "metadata": {},
   "outputs": [
    {
     "data": {
      "text/html": [
       "<div>\n",
       "<style scoped>\n",
       "    .dataframe tbody tr th:only-of-type {\n",
       "        vertical-align: middle;\n",
       "    }\n",
       "\n",
       "    .dataframe tbody tr th {\n",
       "        vertical-align: top;\n",
       "    }\n",
       "\n",
       "    .dataframe thead th {\n",
       "        text-align: right;\n",
       "    }\n",
       "</style>\n",
       "<table border=\"1\" class=\"dataframe\">\n",
       "  <thead>\n",
       "    <tr style=\"text-align: right;\">\n",
       "      <th></th>\n",
       "      <th>item_description</th>\n",
       "      <th>shop_id</th>\n",
       "      <th>item_price</th>\n",
       "      <th>quantity_sold</th>\n",
       "      <th>shop_area_sq_ft</th>\n",
       "      <th>month</th>\n",
       "      <th>weekday</th>\n",
       "    </tr>\n",
       "  </thead>\n",
       "  <tbody>\n",
       "    <tr>\n",
       "      <th>13201</th>\n",
       "      <td>SODA 1L</td>\n",
       "      <td>86</td>\n",
       "      <td>110</td>\n",
       "      <td>2</td>\n",
       "      <td>661</td>\n",
       "      <td>10</td>\n",
       "      <td>5</td>\n",
       "    </tr>\n",
       "    <tr>\n",
       "      <th>293065</th>\n",
       "      <td>LEMONADE 500ML</td>\n",
       "      <td>37</td>\n",
       "      <td>200</td>\n",
       "      <td>2</td>\n",
       "      <td>717</td>\n",
       "      <td>12</td>\n",
       "      <td>5</td>\n",
       "    </tr>\n",
       "    <tr>\n",
       "      <th>63548</th>\n",
       "      <td>LEMONADE 1.5L</td>\n",
       "      <td>66</td>\n",
       "      <td>220</td>\n",
       "      <td>3</td>\n",
       "      <td>470</td>\n",
       "      <td>12</td>\n",
       "      <td>0</td>\n",
       "    </tr>\n",
       "    <tr>\n",
       "      <th>466484</th>\n",
       "      <td>GINGER BEER 1.5L</td>\n",
       "      <td>60</td>\n",
       "      <td>220</td>\n",
       "      <td>1</td>\n",
       "      <td>676</td>\n",
       "      <td>10</td>\n",
       "      <td>2</td>\n",
       "    </tr>\n",
       "    <tr>\n",
       "      <th>316348</th>\n",
       "      <td>SODA 1L</td>\n",
       "      <td>112</td>\n",
       "      <td>220</td>\n",
       "      <td>3</td>\n",
       "      <td>668</td>\n",
       "      <td>11</td>\n",
       "      <td>0</td>\n",
       "    </tr>\n",
       "  </tbody>\n",
       "</table>\n",
       "</div>"
      ],
      "text/plain": [
       "        item_description shop_id  item_price  quantity_sold  shop_area_sq_ft  \\\n",
       "13201            SODA 1L      86         110              2              661   \n",
       "293065    LEMONADE 500ML      37         200              2              717   \n",
       "63548      LEMONADE 1.5L      66         220              3              470   \n",
       "466484  GINGER BEER 1.5L      60         220              1              676   \n",
       "316348           SODA 1L     112         220              3              668   \n",
       "\n",
       "        month  weekday  \n",
       "13201      10        5  \n",
       "293065     12        5  \n",
       "63548      12        0  \n",
       "466484     10        2  \n",
       "316348     11        0  "
      ]
     },
     "execution_count": 506,
     "metadata": {},
     "output_type": "execute_result"
    }
   ],
   "source": [
    "X_train.head()"
   ]
  },
  {
   "cell_type": "code",
   "execution_count": 507,
   "metadata": {},
   "outputs": [],
   "source": [
    "from sklearn.preprocessing import StandardScaler\n",
    "from sklearn.preprocessing import MinMaxScaler\n",
    "X_train.reset_index(drop=True, inplace=True)\n",
    "X_test.reset_index(drop=True, inplace=True)\n",
    "\n",
    "ct2 = ColumnTransformer([(\"sScaler\", StandardScaler(), []),\n",
    "                         (\"MinMaxScaler\", MinMaxScaler(), [\"shop_area_sq_ft\",\"item_price\", \"quantity_sold\", \"month\" , \"weekday\"])])\n",
    "scaled_df1_x = pd.DataFrame(ct2.fit_transform(X_train), columns=[\"shop_area_sq_ft\", \"item_price\", \"quantity_sold\",\"month\" , \"weekday\"])\n",
    "scaled_df2_x = pd.DataFrame(ct2.transform(X_test), columns=[\"shop_area_sq_ft\", \"item_price\", \"quantity_sold\",\"month\" , \"weekday\"])\n",
    "scaled_submission_df_x = pd.DataFrame(ct2.transform(Submission_testing), columns=[\"shop_area_sq_ft\", \"item_price\", \"quantity_sold\",\"month\" , \"weekday\"])\n",
    "\n",
    "# Create copies of X_train and X_test with the scaled values\n",
    "X_train_scaled = X_train.copy()\n",
    "X_test_scaled = X_test.copy()\n",
    "X_submission_scaled = Submission_testing.copy()\n",
    "\n",
    "\n",
    "# Assign the scaled values to the new dataframes\n",
    "X_train_scaled[scaled_df1_x.columns] = scaled_df1_x\n",
    "X_test_scaled[scaled_df2_x.columns] = scaled_df2_x\n",
    "X_submission_scaled[scaled_submission_df_x.columns] = scaled_submission_df_x"
   ]
  },
  {
   "cell_type": "code",
   "execution_count": 508,
   "metadata": {},
   "outputs": [
    {
     "data": {
      "text/html": [
       "<div>\n",
       "<style scoped>\n",
       "    .dataframe tbody tr th:only-of-type {\n",
       "        vertical-align: middle;\n",
       "    }\n",
       "\n",
       "    .dataframe tbody tr th {\n",
       "        vertical-align: top;\n",
       "    }\n",
       "\n",
       "    .dataframe thead th {\n",
       "        text-align: right;\n",
       "    }\n",
       "</style>\n",
       "<table border=\"1\" class=\"dataframe\">\n",
       "  <thead>\n",
       "    <tr style=\"text-align: right;\">\n",
       "      <th></th>\n",
       "      <th>item_description</th>\n",
       "      <th>shop_id</th>\n",
       "      <th>item_price</th>\n",
       "      <th>quantity_sold</th>\n",
       "      <th>shop_area_sq_ft</th>\n",
       "      <th>month</th>\n",
       "      <th>weekday</th>\n",
       "    </tr>\n",
       "  </thead>\n",
       "  <tbody>\n",
       "    <tr>\n",
       "      <th>0</th>\n",
       "      <td>SODA 1L</td>\n",
       "      <td>86</td>\n",
       "      <td>110</td>\n",
       "      <td>2</td>\n",
       "      <td>661</td>\n",
       "      <td>10</td>\n",
       "      <td>5</td>\n",
       "    </tr>\n",
       "    <tr>\n",
       "      <th>1</th>\n",
       "      <td>LEMONADE 500ML</td>\n",
       "      <td>37</td>\n",
       "      <td>200</td>\n",
       "      <td>2</td>\n",
       "      <td>717</td>\n",
       "      <td>12</td>\n",
       "      <td>5</td>\n",
       "    </tr>\n",
       "    <tr>\n",
       "      <th>2</th>\n",
       "      <td>LEMONADE 1.5L</td>\n",
       "      <td>66</td>\n",
       "      <td>220</td>\n",
       "      <td>3</td>\n",
       "      <td>470</td>\n",
       "      <td>12</td>\n",
       "      <td>0</td>\n",
       "    </tr>\n",
       "    <tr>\n",
       "      <th>3</th>\n",
       "      <td>GINGER BEER 1.5L</td>\n",
       "      <td>60</td>\n",
       "      <td>220</td>\n",
       "      <td>1</td>\n",
       "      <td>676</td>\n",
       "      <td>10</td>\n",
       "      <td>2</td>\n",
       "    </tr>\n",
       "    <tr>\n",
       "      <th>4</th>\n",
       "      <td>SODA 1L</td>\n",
       "      <td>112</td>\n",
       "      <td>220</td>\n",
       "      <td>3</td>\n",
       "      <td>668</td>\n",
       "      <td>11</td>\n",
       "      <td>0</td>\n",
       "    </tr>\n",
       "  </tbody>\n",
       "</table>\n",
       "</div>"
      ],
      "text/plain": [
       "   item_description shop_id  item_price  quantity_sold  shop_area_sq_ft  \\\n",
       "0           SODA 1L      86         110              2              661   \n",
       "1    LEMONADE 500ML      37         200              2              717   \n",
       "2     LEMONADE 1.5L      66         220              3              470   \n",
       "3  GINGER BEER 1.5L      60         220              1              676   \n",
       "4           SODA 1L     112         220              3              668   \n",
       "\n",
       "   month  weekday  \n",
       "0     10        5  \n",
       "1     12        5  \n",
       "2     12        0  \n",
       "3     10        2  \n",
       "4     11        0  "
      ]
     },
     "execution_count": 508,
     "metadata": {},
     "output_type": "execute_result"
    }
   ],
   "source": [
    "X_train.head()"
   ]
  },
  {
   "cell_type": "code",
   "execution_count": 509,
   "metadata": {},
   "outputs": [
    {
     "data": {
      "text/html": [
       "<div>\n",
       "<style scoped>\n",
       "    .dataframe tbody tr th:only-of-type {\n",
       "        vertical-align: middle;\n",
       "    }\n",
       "\n",
       "    .dataframe tbody tr th {\n",
       "        vertical-align: top;\n",
       "    }\n",
       "\n",
       "    .dataframe thead th {\n",
       "        text-align: right;\n",
       "    }\n",
       "</style>\n",
       "<table border=\"1\" class=\"dataframe\">\n",
       "  <thead>\n",
       "    <tr style=\"text-align: right;\">\n",
       "      <th></th>\n",
       "      <th>item_description</th>\n",
       "      <th>shop_id</th>\n",
       "      <th>item_price</th>\n",
       "      <th>quantity_sold</th>\n",
       "      <th>shop_area_sq_ft</th>\n",
       "      <th>month</th>\n",
       "      <th>weekday</th>\n",
       "    </tr>\n",
       "  </thead>\n",
       "  <tbody>\n",
       "    <tr>\n",
       "      <th>0</th>\n",
       "      <td>GINGER BEER 1L</td>\n",
       "      <td>10</td>\n",
       "      <td>0.006623</td>\n",
       "      <td>0.019608</td>\n",
       "      <td>0.409499</td>\n",
       "      <td>1.0</td>\n",
       "      <td>0.666667</td>\n",
       "    </tr>\n",
       "    <tr>\n",
       "      <th>1</th>\n",
       "      <td>SODA 500ML</td>\n",
       "      <td>127</td>\n",
       "      <td>0.002016</td>\n",
       "      <td>0.019608</td>\n",
       "      <td>0.706033</td>\n",
       "      <td>0.0</td>\n",
       "      <td>0.166667</td>\n",
       "    </tr>\n",
       "    <tr>\n",
       "      <th>2</th>\n",
       "      <td>GINGER BEER 1.5L</td>\n",
       "      <td>84</td>\n",
       "      <td>0.010654</td>\n",
       "      <td>0.019608</td>\n",
       "      <td>0.409499</td>\n",
       "      <td>0.0</td>\n",
       "      <td>0.166667</td>\n",
       "    </tr>\n",
       "    <tr>\n",
       "      <th>3</th>\n",
       "      <td>GINGER BEER 1.5L</td>\n",
       "      <td>17</td>\n",
       "      <td>0.010654</td>\n",
       "      <td>0.019608</td>\n",
       "      <td>0.409499</td>\n",
       "      <td>1.0</td>\n",
       "      <td>0.166667</td>\n",
       "    </tr>\n",
       "    <tr>\n",
       "      <th>4</th>\n",
       "      <td>SODA 1L</td>\n",
       "      <td>83</td>\n",
       "      <td>0.004319</td>\n",
       "      <td>0.029412</td>\n",
       "      <td>0.485237</td>\n",
       "      <td>1.0</td>\n",
       "      <td>0.166667</td>\n",
       "    </tr>\n",
       "  </tbody>\n",
       "</table>\n",
       "</div>"
      ],
      "text/plain": [
       "   item_description shop_id  item_price  quantity_sold  shop_area_sq_ft  \\\n",
       "0    GINGER BEER 1L      10    0.006623       0.019608         0.409499   \n",
       "1        SODA 500ML     127    0.002016       0.019608         0.706033   \n",
       "2  GINGER BEER 1.5L      84    0.010654       0.019608         0.409499   \n",
       "3  GINGER BEER 1.5L      17    0.010654       0.019608         0.409499   \n",
       "4           SODA 1L      83    0.004319       0.029412         0.485237   \n",
       "\n",
       "   month   weekday  \n",
       "0    1.0  0.666667  \n",
       "1    0.0  0.166667  \n",
       "2    0.0  0.166667  \n",
       "3    1.0  0.166667  \n",
       "4    1.0  0.166667  "
      ]
     },
     "execution_count": 509,
     "metadata": {},
     "output_type": "execute_result"
    }
   ],
   "source": [
    "X_test_scaled.head()"
   ]
  },
  {
   "cell_type": "code",
   "execution_count": 510,
   "metadata": {},
   "outputs": [
    {
     "name": "stdout",
     "output_type": "stream",
     "text": [
      "Scores after standard scaling: \n"
     ]
    }
   ],
   "source": [
    "print(\"Scores after standard scaling: \")\n",
    "# score_classification(rfc, X_train_scaled, y_train, X_test_scaled, y_test)"
   ]
  },
  {
   "cell_type": "code",
   "execution_count": 511,
   "metadata": {},
   "outputs": [],
   "source": [
    "# score_classification(dtc, X_train_scaled, y_train, X_test_scaled, y_test)"
   ]
  },
  {
   "cell_type": "code",
   "execution_count": 512,
   "metadata": {},
   "outputs": [],
   "source": [
    "from sklearn.decomposition import PCA\n",
    "\n",
    "def apply_pca(X):\n",
    "  pca= PCA()\n",
    "  df1_x = X.copy()\n",
    "  ct = ColumnTransformer(transformers=[('encoder', OneHotEncoder(handle_unknown='ignore'), [0])], remainder='passthrough')\n",
    "\n",
    "  # One hot encoding for the item_description column\n",
    "\n",
    "  df1_encoded = ct.fit_transform(df1_x[[\"item_description\"]])\n",
    "  df1_x = pd.concat([df1_x.drop(\"item_description\", axis=1).reset_index(drop=True), pd.DataFrame(df1_encoded.toarray())], axis='columns')\n",
    "\n",
    "  df1_x.columns = df1_x.columns.astype(str)\n",
    "\n",
    "  X_pca = pca.fit_transform(df1_x)\n",
    "  component_names = [f\"PC{i+1}\" for i in range(X_pca.shape[1])]\n",
    "  X_pca = pd.DataFrame(X_pca, columns=component_names)\n",
    "  #create loadings\n",
    "  loadings = pd.DataFrame(\n",
    "  pca.components_.T,\n",
    "  columns = component_names,\n",
    "  index=df1_x.columns,\n",
    "  )\n",
    "  return pca, X_pca, loadings\n",
    "\n",
    "def plot_variance(pca, width=8, dpi=100):\n",
    "  fig, axs = plt.subplots(1,2)\n",
    "  n = pca.n_components_\n",
    "  grid = np.arange(1, n+1)\n",
    "  evr = pca.explained_variance_ratio_\n",
    "  axs[0].bar(grid,evr)\n",
    "  axs[0].set(\n",
    "      xlabel=\"Component\",title=\"% Explained Variance\", ylim=(0.0,1.0)             )\n",
    "  #Cumulative Variance\n",
    "  cv = np.cumsum(evr)\n",
    "  axs[1].plot(np.r_[0,grid], np.r_[0,cv], \"o-\")\n",
    "  axs[1].set(xlabel=\"Component\", title=\"% Cumulatve Variance\", ylim=(0.0, 1.0))\n",
    "  fig.set(figwidth=8, dpi=100)\n",
    "  return axs"
   ]
  },
  {
   "cell_type": "code",
   "execution_count": 513,
   "metadata": {},
   "outputs": [],
   "source": [
    "# pca, X_pca, loadings = apply_pca(X_train_scaled)\n",
    "# print(loadings)"
   ]
  },
  {
   "cell_type": "code",
   "execution_count": 514,
   "metadata": {},
   "outputs": [],
   "source": [
    "# pca, X_pca, loadings = apply_pca(X_train_scaled)\n",
    "# print(loadings)"
   ]
  },
  {
   "cell_type": "code",
   "execution_count": 515,
   "metadata": {},
   "outputs": [
    {
     "data": {
      "text/html": [
       "<div>\n",
       "<style scoped>\n",
       "    .dataframe tbody tr th:only-of-type {\n",
       "        vertical-align: middle;\n",
       "    }\n",
       "\n",
       "    .dataframe tbody tr th {\n",
       "        vertical-align: top;\n",
       "    }\n",
       "\n",
       "    .dataframe thead th {\n",
       "        text-align: right;\n",
       "    }\n",
       "</style>\n",
       "<table border=\"1\" class=\"dataframe\">\n",
       "  <thead>\n",
       "    <tr style=\"text-align: right;\">\n",
       "      <th></th>\n",
       "      <th>item_description</th>\n",
       "      <th>shop_id</th>\n",
       "      <th>item_price</th>\n",
       "      <th>quantity_sold</th>\n",
       "      <th>shop_area_sq_ft</th>\n",
       "      <th>month</th>\n",
       "      <th>weekday</th>\n",
       "    </tr>\n",
       "  </thead>\n",
       "  <tbody>\n",
       "    <tr>\n",
       "      <th>0</th>\n",
       "      <td>SODA 1L</td>\n",
       "      <td>86</td>\n",
       "      <td>0.004319</td>\n",
       "      <td>0.029412</td>\n",
       "      <td>0.465982</td>\n",
       "      <td>0.0</td>\n",
       "      <td>0.833333</td>\n",
       "    </tr>\n",
       "    <tr>\n",
       "      <th>1</th>\n",
       "      <td>LEMONADE 500ML</td>\n",
       "      <td>37</td>\n",
       "      <td>0.009502</td>\n",
       "      <td>0.029412</td>\n",
       "      <td>0.537869</td>\n",
       "      <td>1.0</td>\n",
       "      <td>0.833333</td>\n",
       "    </tr>\n",
       "    <tr>\n",
       "      <th>2</th>\n",
       "      <td>LEMONADE 1.5L</td>\n",
       "      <td>66</td>\n",
       "      <td>0.010654</td>\n",
       "      <td>0.039216</td>\n",
       "      <td>0.220796</td>\n",
       "      <td>1.0</td>\n",
       "      <td>0.000000</td>\n",
       "    </tr>\n",
       "    <tr>\n",
       "      <th>3</th>\n",
       "      <td>GINGER BEER 1.5L</td>\n",
       "      <td>60</td>\n",
       "      <td>0.010654</td>\n",
       "      <td>0.019608</td>\n",
       "      <td>0.485237</td>\n",
       "      <td>0.0</td>\n",
       "      <td>0.333333</td>\n",
       "    </tr>\n",
       "    <tr>\n",
       "      <th>4</th>\n",
       "      <td>SODA 1L</td>\n",
       "      <td>112</td>\n",
       "      <td>0.010654</td>\n",
       "      <td>0.039216</td>\n",
       "      <td>0.474968</td>\n",
       "      <td>0.5</td>\n",
       "      <td>0.000000</td>\n",
       "    </tr>\n",
       "  </tbody>\n",
       "</table>\n",
       "</div>"
      ],
      "text/plain": [
       "   item_description shop_id  item_price  quantity_sold  shop_area_sq_ft  \\\n",
       "0           SODA 1L      86    0.004319       0.029412         0.465982   \n",
       "1    LEMONADE 500ML      37    0.009502       0.029412         0.537869   \n",
       "2     LEMONADE 1.5L      66    0.010654       0.039216         0.220796   \n",
       "3  GINGER BEER 1.5L      60    0.010654       0.019608         0.485237   \n",
       "4           SODA 1L     112    0.010654       0.039216         0.474968   \n",
       "\n",
       "   month   weekday  \n",
       "0    0.0  0.833333  \n",
       "1    1.0  0.833333  \n",
       "2    1.0  0.000000  \n",
       "3    0.0  0.333333  \n",
       "4    0.5  0.000000  "
      ]
     },
     "execution_count": 515,
     "metadata": {},
     "output_type": "execute_result"
    }
   ],
   "source": [
    "X_train_scaled.head()"
   ]
  },
  {
   "cell_type": "code",
   "execution_count": 516,
   "metadata": {},
   "outputs": [],
   "source": [
    "# Create price-related features\n",
    "X_train_scaled['total_sales']= X_train_scaled['item_price'] * X_train_scaled['quantity_sold']\n",
    "X_test_scaled['total_sales']= X_test_scaled['item_price'] * X_test_scaled['quantity_sold']\n",
    "X_submission_scaled['total_sales']= X_submission_scaled['item_price'] * X_submission_scaled['quantity_sold']\n",
    "\n",
    "# Aggregate X_train_scaled by shop_id and add all the total_sales values\n",
    "X_train_cumSales = X_train_scaled.groupby('shop_id').agg({'total_sales':'sum'}).reset_index()\n",
    "X_test_cumSales = X_test_scaled.groupby('shop_id').agg({'total_sales':'sum'}).reset_index()\n",
    "X_submission_cumSales = X_submission_scaled.groupby('shop_id').agg({'total_sales':'sum'}).reset_index()\n",
    "\n",
    "# add the column with mode of the area of the shop\n",
    "X_train_cumSales['shop_area_sq_ft'] = X_train_scaled.groupby('shop_id')['shop_area_sq_ft'].agg(lambda x:x.value_counts().index[0]).reset_index()['shop_area_sq_ft']\n",
    "X_test_cumSales['shop_area_sq_ft'] = X_test_scaled.groupby('shop_id')['shop_area_sq_ft'].agg(lambda x:x.value_counts().index[0]).reset_index()['shop_area_sq_ft']\n",
    "X_submission_cumSales['shop_area_sq_ft'] = X_submission_scaled.groupby('shop_id')['shop_area_sq_ft'].agg(lambda x:x.value_counts().index[0]).reset_index()['shop_area_sq_ft']\n",
    "\n",
    "# # new feature: total_sales per sq ft of the shop\n",
    "# X_train_cumSales['total_sales_per_sq_ft'] = X_train_cumSales['total_sales'] / X_train_cumSales['shop_area_sq_ft']\n",
    "# X_test_cumSales['total_sales_per_sq_ft'] = X_test_cumSales['total_sales'] / X_test_cumSales['shop_area_sq_ft']\n",
    "# X_submission_cumSales['total_sales_per_sq_ft'] = X_submission_cumSales['total_sales'] / X_submission_cumSales['shop_area_sq_ft']\n",
    "\n",
    "# # new feature: addition of the total_sales and total_sales_per_sq_ft\n",
    "# X_train_cumSales['total_sales_plus_total_sales_per_sq_ft'] = X_train_cumSales['total_sales'] + X_train_cumSales['total_sales_per_sq_ft']\n",
    "# X_test_cumSales['total_sales_plus_total_sales_per_sq_ft'] = X_test_cumSales['total_sales'] + X_test_cumSales['total_sales_per_sq_ft']\n",
    "# X_submission_cumSales['total_sales_plus_total_sales_per_sq_ft'] = X_submission_cumSales['total_sales'] + X_submission_cumSales['total_sales_per_sq_ft']\n",
    "\n",
    "# # new feature : multiplication of the total_sales and total_sales_per_sq_ft\n",
    "# X_train_cumSales['total_sales_times_total_sales_per_sq_ft'] = X_train_cumSales['total_sales'] * X_train_cumSales['total_sales_per_sq_ft']\n",
    "# X_test_cumSales['total_sales_times_total_sales_per_sq_ft'] = X_test_cumSales['total_sales'] * X_test_cumSales['total_sales_per_sq_ft']\n",
    "# X_submission_cumSales['total_sales_times_total_sales_per_sq_ft'] = X_submission_cumSales['total_sales'] * X_submission_cumSales['total_sales_per_sq_ft']\n"
   ]
  },
  {
   "cell_type": "code",
   "execution_count": 520,
   "metadata": {},
   "outputs": [],
   "source": [
    "y_new_train = X_train_cumSales.merge(StoreInfo, on='shop_id', how='left')\n",
    "y_new_train = y_new_train[\"shop_profile\"]\n",
    "y_new_train = le.transform(y_new_train)\n",
    "\n",
    "y_new_test = X_test_cumSales.merge(StoreInfo, on='shop_id', how='left')\n",
    "y_new_test = y_new_test[\"shop_profile\"]\n",
    "y_new_test = le.transform(y_new_test)"
   ]
  },
  {
   "cell_type": "code",
   "execution_count": 521,
   "metadata": {},
   "outputs": [
    {
     "data": {
      "text/plain": [
       "(100, 100, 100, 100)"
      ]
     },
     "execution_count": 521,
     "metadata": {},
     "output_type": "execute_result"
    }
   ],
   "source": [
    "len(X_train_cumSales), len(y_new_train), len(X_test_cumSales), len(y_new_test)"
   ]
  },
  {
   "cell_type": "code",
   "execution_count": 350,
   "metadata": {},
   "outputs": [],
   "source": [
    "# remove the redundant columns\n",
    "\n",
    "X_train_scaled.drop(['item_description', 'item_price', 'quantity_sold', 'month', 'weekday'], axis=1, inplace=True)\n",
    "X_test_scaled.drop(['item_description', 'item_price', 'quantity_sold', 'month', 'weekday'], axis=1, inplace=True)\n",
    "X_submission_scaled.drop(['item_description', 'item_price', 'quantity_sold', 'month', 'weekday'], axis=1, inplace=True)"
   ]
  },
  {
   "cell_type": "code",
   "execution_count": 351,
   "metadata": {},
   "outputs": [
    {
     "data": {
      "text/html": [
       "<div>\n",
       "<style scoped>\n",
       "    .dataframe tbody tr th:only-of-type {\n",
       "        vertical-align: middle;\n",
       "    }\n",
       "\n",
       "    .dataframe tbody tr th {\n",
       "        vertical-align: top;\n",
       "    }\n",
       "\n",
       "    .dataframe thead th {\n",
       "        text-align: right;\n",
       "    }\n",
       "</style>\n",
       "<table border=\"1\" class=\"dataframe\">\n",
       "  <thead>\n",
       "    <tr style=\"text-align: right;\">\n",
       "      <th></th>\n",
       "      <th>shop_id</th>\n",
       "      <th>total_sales</th>\n",
       "      <th>shop_area_sq_ft</th>\n",
       "    </tr>\n",
       "  </thead>\n",
       "  <tbody>\n",
       "    <tr>\n",
       "      <th>0</th>\n",
       "      <td>1</td>\n",
       "      <td>0.574996</td>\n",
       "      <td>0.362003</td>\n",
       "    </tr>\n",
       "    <tr>\n",
       "      <th>1</th>\n",
       "      <td>3</td>\n",
       "      <td>0.939748</td>\n",
       "      <td>0.657253</td>\n",
       "    </tr>\n",
       "    <tr>\n",
       "      <th>2</th>\n",
       "      <td>4</td>\n",
       "      <td>0.812641</td>\n",
       "      <td>0.279846</td>\n",
       "    </tr>\n",
       "    <tr>\n",
       "      <th>3</th>\n",
       "      <td>5</td>\n",
       "      <td>0.957817</td>\n",
       "      <td>0.409499</td>\n",
       "    </tr>\n",
       "    <tr>\n",
       "      <th>4</th>\n",
       "      <td>6</td>\n",
       "      <td>0.872233</td>\n",
       "      <td>0.485237</td>\n",
       "    </tr>\n",
       "  </tbody>\n",
       "</table>\n",
       "</div>"
      ],
      "text/plain": [
       "  shop_id  total_sales  shop_area_sq_ft\n",
       "0       1     0.574996         0.362003\n",
       "1       3     0.939748         0.657253\n",
       "2       4     0.812641         0.279846\n",
       "3       5     0.957817         0.409499\n",
       "4       6     0.872233         0.485237"
      ]
     },
     "execution_count": 351,
     "metadata": {},
     "output_type": "execute_result"
    }
   ],
   "source": [
    "X_train_cumSales.head()"
   ]
  },
  {
   "cell_type": "code",
   "execution_count": 348,
   "metadata": {},
   "outputs": [
    {
     "data": {
      "text/plain": [
       "266064"
      ]
     },
     "execution_count": 348,
     "metadata": {},
     "output_type": "execute_result"
    }
   ],
   "source": [
    "len(y_train)"
   ]
  },
  {
   "cell_type": "code",
   "execution_count": 590,
   "metadata": {},
   "outputs": [
    {
     "data": {
      "text/html": [
       "<div>\n",
       "<style scoped>\n",
       "    .dataframe tbody tr th:only-of-type {\n",
       "        vertical-align: middle;\n",
       "    }\n",
       "\n",
       "    .dataframe tbody tr th {\n",
       "        vertical-align: top;\n",
       "    }\n",
       "\n",
       "    .dataframe thead th {\n",
       "        text-align: right;\n",
       "    }\n",
       "</style>\n",
       "<table border=\"1\" class=\"dataframe\">\n",
       "  <thead>\n",
       "    <tr style=\"text-align: right;\">\n",
       "      <th></th>\n",
       "      <th>shop_area_sq_ft</th>\n",
       "      <th>year</th>\n",
       "      <th>month</th>\n",
       "      <th>weekday</th>\n",
       "      <th>total_sales</th>\n",
       "      <th>shop_sales_rank</th>\n",
       "    </tr>\n",
       "  </thead>\n",
       "  <tbody>\n",
       "    <tr>\n",
       "      <th>count</th>\n",
       "      <td>266064.000000</td>\n",
       "      <td>266064.0</td>\n",
       "      <td>266064.000000</td>\n",
       "      <td>266064.000000</td>\n",
       "      <td>266064.000000</td>\n",
       "      <td>266064.000000</td>\n",
       "    </tr>\n",
       "    <tr>\n",
       "      <th>mean</th>\n",
       "      <td>0.430169</td>\n",
       "      <td>2021.0</td>\n",
       "      <td>11.024182</td>\n",
       "      <td>3.341437</td>\n",
       "      <td>0.000379</td>\n",
       "      <td>1449.060155</td>\n",
       "    </tr>\n",
       "    <tr>\n",
       "      <th>std</th>\n",
       "      <td>0.159823</td>\n",
       "      <td>0.0</td>\n",
       "      <td>0.776629</td>\n",
       "      <td>2.012698</td>\n",
       "      <td>0.001923</td>\n",
       "      <td>940.751166</td>\n",
       "    </tr>\n",
       "    <tr>\n",
       "      <th>min</th>\n",
       "      <td>0.000000</td>\n",
       "      <td>2021.0</td>\n",
       "      <td>10.000000</td>\n",
       "      <td>0.000000</td>\n",
       "      <td>0.000000</td>\n",
       "      <td>1.000000</td>\n",
       "    </tr>\n",
       "    <tr>\n",
       "      <th>25%</th>\n",
       "      <td>0.394095</td>\n",
       "      <td>2021.0</td>\n",
       "      <td>10.000000</td>\n",
       "      <td>2.000000</td>\n",
       "      <td>0.000110</td>\n",
       "      <td>694.500000</td>\n",
       "    </tr>\n",
       "    <tr>\n",
       "      <th>50%</th>\n",
       "      <td>0.409499</td>\n",
       "      <td>2021.0</td>\n",
       "      <td>11.000000</td>\n",
       "      <td>4.000000</td>\n",
       "      <td>0.000209</td>\n",
       "      <td>1341.000000</td>\n",
       "    </tr>\n",
       "    <tr>\n",
       "      <th>75%</th>\n",
       "      <td>0.485237</td>\n",
       "      <td>2021.0</td>\n",
       "      <td>12.000000</td>\n",
       "      <td>5.000000</td>\n",
       "      <td>0.000313</td>\n",
       "      <td>2091.500000</td>\n",
       "    </tr>\n",
       "    <tr>\n",
       "      <th>max</th>\n",
       "      <td>1.000000</td>\n",
       "      <td>2021.0</td>\n",
       "      <td>12.000000</td>\n",
       "      <td>6.000000</td>\n",
       "      <td>0.607843</td>\n",
       "      <td>4513.000000</td>\n",
       "    </tr>\n",
       "  </tbody>\n",
       "</table>\n",
       "</div>"
      ],
      "text/plain": [
       "       shop_area_sq_ft      year          month        weekday    total_sales  \\\n",
       "count    266064.000000  266064.0  266064.000000  266064.000000  266064.000000   \n",
       "mean          0.430169    2021.0      11.024182       3.341437       0.000379   \n",
       "std           0.159823       0.0       0.776629       2.012698       0.001923   \n",
       "min           0.000000    2021.0      10.000000       0.000000       0.000000   \n",
       "25%           0.394095    2021.0      10.000000       2.000000       0.000110   \n",
       "50%           0.409499    2021.0      11.000000       4.000000       0.000209   \n",
       "75%           0.485237    2021.0      12.000000       5.000000       0.000313   \n",
       "max           1.000000    2021.0      12.000000       6.000000       0.607843   \n",
       "\n",
       "       shop_sales_rank  \n",
       "count    266064.000000  \n",
       "mean       1449.060155  \n",
       "std         940.751166  \n",
       "min           1.000000  \n",
       "25%         694.500000  \n",
       "50%        1341.000000  \n",
       "75%        2091.500000  \n",
       "max        4513.000000  "
      ]
     },
     "execution_count": 590,
     "metadata": {},
     "output_type": "execute_result"
    }
   ],
   "source": [
    "X_train_scaled.describe()"
   ]
  },
  {
   "cell_type": "code",
   "execution_count": 591,
   "metadata": {},
   "outputs": [
    {
     "data": {
      "text/plain": [
       "item_description    0\n",
       "shop_id             0\n",
       "shop_area_sq_ft     0\n",
       "year                0\n",
       "month               0\n",
       "weekday             0\n",
       "total_sales         0\n",
       "shop_sales_rank     0\n",
       "dtype: int64"
      ]
     },
     "execution_count": 591,
     "metadata": {},
     "output_type": "execute_result"
    }
   ],
   "source": [
    "#check for missing values\n",
    "\n",
    "X_train_scaled.isnull().sum()"
   ]
  },
  {
   "cell_type": "code",
   "execution_count": 593,
   "metadata": {},
   "outputs": [
    {
     "data": {
      "text/plain": [
       "item_description    6314\n",
       "shop_id                0\n",
       "shop_area_sq_ft        0\n",
       "year                   0\n",
       "month                  0\n",
       "weekday                0\n",
       "total_sales            0\n",
       "shop_sales_rank        0\n",
       "dtype: int64"
      ]
     },
     "execution_count": 593,
     "metadata": {},
     "output_type": "execute_result"
    }
   ],
   "source": [
    "X_submission_scaled.isnull().sum()"
   ]
  },
  {
   "cell_type": "code",
   "execution_count": 594,
   "metadata": {},
   "outputs": [],
   "source": [
    "# drop the rows with missing values\n",
    "\n",
    "X_train_scaled.dropna(inplace=True)\n",
    "X_test_scaled.dropna(inplace=True)\n",
    "X_submission_scaled.dropna(inplace=True)"
   ]
  },
  {
   "cell_type": "code",
   "execution_count": null,
   "metadata": {},
   "outputs": [],
   "source": [
    "# # Impute missing values for the shop_sales_per_sq_ft column\n",
    "\n",
    "# from sklearn.impute import SimpleImputer\n",
    "\n",
    "# imputer = SimpleImputer(missing_values = np.nan, strategy=\"mean\")\n",
    "# imputer.fit(X_train_scaled[[\"shop_sales_per_sq_ft\"]])\n",
    "\n",
    "# X_train_scaled = pd.DataFrame(imputer.transform(X_train_scaled), columns=[\"shop_sales_per_sq_ft\"]])\n",
    "# X_test_scaled = pd.DataFrame(imputer.transform(X_test_scaled), columns=X_train_scaled.columns)\n",
    "# X_submission_scaled = pd.DataFrame(imputer.transform(X_submission_scaled), columns=X_submission_scaled.columns)"
   ]
  },
  {
   "cell_type": "code",
   "execution_count": 626,
   "metadata": {},
   "outputs": [
    {
     "name": "stdout",
     "output_type": "stream",
     "text": [
      "DecisionTreeClassifier()\n",
      "Accuracy: 1.0\n",
      "Precision: 1.0\n",
      "Recall: 1.0\n",
      "F1 Score: 1.0\n"
     ]
    }
   ],
   "source": [
    "score_classification(dtc, X_train_scaled, y_train, X_test_scaled, y_test)"
   ]
  },
  {
   "cell_type": "code",
   "execution_count": 628,
   "metadata": {},
   "outputs": [
    {
     "name": "stdout",
     "output_type": "stream",
     "text": [
      "DecisionTreeClassifier()\n"
     ]
    }
   ],
   "source": [
    "outputResult(dtc, X_train_scaled, y_train, X_submission_scaled, le)"
   ]
  },
  {
   "cell_type": "code",
   "execution_count": 629,
   "metadata": {},
   "outputs": [
    {
     "name": "stdout",
     "output_type": "stream",
     "text": [
      "RandomForestClassifier()\n",
      "Accuracy: 0.7716523595471835\n",
      "Precision: 0.8076157953943078\n",
      "Recall: 0.7880105700882468\n",
      "F1 Score: 0.7681265650899315\n"
     ]
    }
   ],
   "source": [
    "score_classification(rfc, X_train_scaled, y_train, X_test_scaled, y_test)"
   ]
  },
  {
   "cell_type": "code",
   "execution_count": 632,
   "metadata": {},
   "outputs": [
    {
     "name": "stdout",
     "output_type": "stream",
     "text": [
      "RandomForestClassifier()\n"
     ]
    }
   ],
   "source": [
    "outputResult(rfc, X_train_scaled, y_train, X_submission_scaled, le)"
   ]
  },
  {
   "cell_type": "code",
   "execution_count": 633,
   "metadata": {},
   "outputs": [
    {
     "name": "stdout",
     "output_type": "stream",
     "text": [
      "KNeighborsClassifier()\n",
      "Accuracy: 0.5093134086023122\n",
      "Precision: 0.5081336157350509\n",
      "Recall: 0.5097537277825253\n",
      "F1 Score: 0.5085792450709201\n"
     ]
    }
   ],
   "source": [
    "score_classification(knn, X_train_scaled, y_train, X_test_scaled, y_test)"
   ]
  },
  {
   "cell_type": "code",
   "execution_count": 634,
   "metadata": {},
   "outputs": [
    {
     "name": "stdout",
     "output_type": "stream",
     "text": [
      "KNeighborsClassifier()\n"
     ]
    }
   ],
   "source": [
    "outputResult(knn, X_train_scaled, y_train, X_submission_scaled, le)"
   ]
  },
  {
   "cell_type": "code",
   "execution_count": 1,
   "metadata": {},
   "outputs": [
    {
     "ename": "NameError",
     "evalue": "name 'Submission_testing' is not defined",
     "output_type": "error",
     "traceback": [
      "\u001b[1;31m---------------------------------------------------------------------------\u001b[0m",
      "\u001b[1;31mNameError\u001b[0m                                 Traceback (most recent call last)",
      "Cell \u001b[1;32mIn[1], line 1\u001b[0m\n\u001b[1;32m----> 1\u001b[0m Submission_testing\u001b[39m.\u001b[39mhead()\n",
      "\u001b[1;31mNameError\u001b[0m: name 'Submission_testing' is not defined"
     ]
    }
   ],
   "source": [
    "Submission_testing.head()"
   ]
  }
 ],
 "metadata": {
  "kernelspec": {
   "display_name": "base",
   "language": "python",
   "name": "python3"
  },
  "language_info": {
   "codemirror_mode": {
    "name": "ipython",
    "version": 3
   },
   "file_extension": ".py",
   "mimetype": "text/x-python",
   "name": "python",
   "nbconvert_exporter": "python",
   "pygments_lexer": "ipython3",
   "version": "3.10.9"
  },
  "orig_nbformat": 4
 },
 "nbformat": 4,
 "nbformat_minor": 2
}
