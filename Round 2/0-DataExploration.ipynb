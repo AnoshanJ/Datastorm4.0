{
 "cells": [
  {
   "cell_type": "code",
   "execution_count": 1,
   "metadata": {},
   "outputs": [],
   "source": [
    "import numpy as np\n",
    "import pandas as pd\n",
    "import seaborn as sns\n",
    "import matplotlib.pyplot as plt\n",
    "import warnings"
   ]
  },
  {
   "cell_type": "code",
   "execution_count": 2,
   "metadata": {},
   "outputs": [
    {
     "name": "stderr",
     "output_type": "stream",
     "text": [
      "C:\\Users\\Anoshan\\AppData\\Local\\Temp\\ipykernel_19124\\1588287611.py:2: MatplotlibDeprecationWarning: The seaborn styles shipped by Matplotlib are deprecated since 3.6, as they no longer correspond to the styles shipped by seaborn. However, they will remain available as 'seaborn-v0_8-<style>'. Alternatively, directly use the seaborn API instead.\n",
      "  plt.style.use(\"seaborn-whitegrid\")\n"
     ]
    }
   ],
   "source": [
    "# Set Matplotlib defaults\n",
    "plt.style.use(\"seaborn-whitegrid\")\n",
    "plt.rc(\"figure\", autolayout=True)\n",
    "plt.rc(\n",
    "    \"axes\",\n",
    "    labelweight=\"bold\",\n",
    "    labelsize=\"large\",\n",
    "    titleweight=\"bold\",\n",
    "    titlesize=14,\n",
    "    titlepad=10,\n",
    ")\n",
    "\n",
    "warnings.filterwarnings('ignore')"
   ]
  },
  {
   "cell_type": "code",
   "execution_count": 9,
   "metadata": {},
   "outputs": [],
   "source": [
    "path = \"./Resources/Datasets\"\n",
    "SalesData = pd.read_csv(path + '/sales_data.csv')\n",
    "WeekData = pd.read_csv(path + '/week_data.csv')\n",
    "ProductData = pd.read_csv(path + '/product_data.csv')\n",
    "OutletsData = pd.read_csv(path + '/outlets_data.csv')\n",
    "FreezerData = pd.read_csv(path + '/freezer_data.csv')"
   ]
  },
  {
   "cell_type": "code",
   "execution_count": 11,
   "metadata": {},
   "outputs": [],
   "source": [
    "WeekData['Week'] = WeekData['Week'].str.replace('Week ', '').astype(int)\n",
    "#rename the column to 'week'\n",
    "WeekData.rename(columns={'Week':'week'}, inplace=True)"
   ]
  },
  {
   "cell_type": "code",
   "execution_count": 12,
   "metadata": {},
   "outputs": [],
   "source": [
    "CombinedData = pd.merge(SalesData, WeekData, left_on='week', right_on='week')\n",
    "CombinedData = pd.merge(CombinedData, ProductData, on='pid')\n",
    "CombinedData = pd.merge(CombinedData, OutletsData, on='Outlet_ID')\n"
   ]
  },
  {
   "cell_type": "code",
   "execution_count": 13,
   "metadata": {},
   "outputs": [
    {
     "data": {
      "text/html": [
       "<div>\n",
       "<style scoped>\n",
       "    .dataframe tbody tr th:only-of-type {\n",
       "        vertical-align: middle;\n",
       "    }\n",
       "\n",
       "    .dataframe tbody tr th {\n",
       "        vertical-align: top;\n",
       "    }\n",
       "\n",
       "    .dataframe thead th {\n",
       "        text-align: right;\n",
       "    }\n",
       "</style>\n",
       "<table border=\"1\" class=\"dataframe\">\n",
       "  <thead>\n",
       "    <tr style=\"text-align: right;\">\n",
       "      <th></th>\n",
       "      <th>Outlet_ID</th>\n",
       "      <th>week</th>\n",
       "      <th>pid</th>\n",
       "      <th>product_name_x</th>\n",
       "      <th>no_units</th>\n",
       "      <th>Start Date</th>\n",
       "      <th>End Date</th>\n",
       "      <th>volume</th>\n",
       "      <th>product_name_y</th>\n",
       "      <th>price</th>\n",
       "      <th>area(sqft)</th>\n",
       "    </tr>\n",
       "  </thead>\n",
       "  <tbody>\n",
       "    <tr>\n",
       "      <th>0</th>\n",
       "      <td>ID7203</td>\n",
       "      <td>1</td>\n",
       "      <td>IP1</td>\n",
       "      <td>Vanilla Mini Cone</td>\n",
       "      <td>874.0</td>\n",
       "      <td>1/2/2023</td>\n",
       "      <td>1/8/2023</td>\n",
       "      <td>0.2</td>\n",
       "      <td>Vanilla Mini Cone</td>\n",
       "      <td>100</td>\n",
       "      <td>5660</td>\n",
       "    </tr>\n",
       "    <tr>\n",
       "      <th>1</th>\n",
       "      <td>ID7203</td>\n",
       "      <td>2</td>\n",
       "      <td>IP1</td>\n",
       "      <td>Vanilla Mini Cone</td>\n",
       "      <td>644.0</td>\n",
       "      <td>1/9/2023</td>\n",
       "      <td>1/15/2023</td>\n",
       "      <td>0.2</td>\n",
       "      <td>Vanilla Mini Cone</td>\n",
       "      <td>100</td>\n",
       "      <td>5660</td>\n",
       "    </tr>\n",
       "    <tr>\n",
       "      <th>2</th>\n",
       "      <td>ID7203</td>\n",
       "      <td>3</td>\n",
       "      <td>IP1</td>\n",
       "      <td>Vanilla Mini Cone</td>\n",
       "      <td>600.0</td>\n",
       "      <td>1/16/2023</td>\n",
       "      <td>1/22/2023</td>\n",
       "      <td>0.2</td>\n",
       "      <td>Vanilla Mini Cone</td>\n",
       "      <td>100</td>\n",
       "      <td>5660</td>\n",
       "    </tr>\n",
       "    <tr>\n",
       "      <th>3</th>\n",
       "      <td>ID7203</td>\n",
       "      <td>4</td>\n",
       "      <td>IP1</td>\n",
       "      <td>Vanilla Mini Cone</td>\n",
       "      <td>106.0</td>\n",
       "      <td>1/23/2023</td>\n",
       "      <td>1/29/2023</td>\n",
       "      <td>0.2</td>\n",
       "      <td>Vanilla Mini Cone</td>\n",
       "      <td>100</td>\n",
       "      <td>5660</td>\n",
       "    </tr>\n",
       "    <tr>\n",
       "      <th>4</th>\n",
       "      <td>ID7203</td>\n",
       "      <td>5</td>\n",
       "      <td>IP1</td>\n",
       "      <td>Vanilla Mini Cone</td>\n",
       "      <td>775.0</td>\n",
       "      <td>1/30/2023</td>\n",
       "      <td>2/5/2023</td>\n",
       "      <td>0.2</td>\n",
       "      <td>Vanilla Mini Cone</td>\n",
       "      <td>100</td>\n",
       "      <td>5660</td>\n",
       "    </tr>\n",
       "  </tbody>\n",
       "</table>\n",
       "</div>"
      ],
      "text/plain": [
       "  Outlet_ID  week  pid     product_name_x  no_units Start Date   End Date  \\\n",
       "0    ID7203     1  IP1  Vanilla Mini Cone     874.0   1/2/2023   1/8/2023   \n",
       "1    ID7203     2  IP1  Vanilla Mini Cone     644.0   1/9/2023  1/15/2023   \n",
       "2    ID7203     3  IP1  Vanilla Mini Cone     600.0  1/16/2023  1/22/2023   \n",
       "3    ID7203     4  IP1  Vanilla Mini Cone     106.0  1/23/2023  1/29/2023   \n",
       "4    ID7203     5  IP1  Vanilla Mini Cone     775.0  1/30/2023   2/5/2023   \n",
       "\n",
       "   volume     product_name_y  price  area(sqft)  \n",
       "0     0.2  Vanilla Mini Cone    100        5660  \n",
       "1     0.2  Vanilla Mini Cone    100        5660  \n",
       "2     0.2  Vanilla Mini Cone    100        5660  \n",
       "3     0.2  Vanilla Mini Cone    100        5660  \n",
       "4     0.2  Vanilla Mini Cone    100        5660  "
      ]
     },
     "execution_count": 13,
     "metadata": {},
     "output_type": "execute_result"
    }
   ],
   "source": [
    "CombinedData.head()"
   ]
  }
 ],
 "metadata": {
  "kernelspec": {
   "display_name": "base",
   "language": "python",
   "name": "python3"
  },
  "language_info": {
   "codemirror_mode": {
    "name": "ipython",
    "version": 3
   },
   "file_extension": ".py",
   "mimetype": "text/x-python",
   "name": "python",
   "nbconvert_exporter": "python",
   "pygments_lexer": "ipython3",
   "version": "3.10.9"
  },
  "orig_nbformat": 4
 },
 "nbformat": 4,
 "nbformat_minor": 2
}
